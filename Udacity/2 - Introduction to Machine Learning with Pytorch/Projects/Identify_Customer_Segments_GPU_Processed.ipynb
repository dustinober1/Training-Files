{
 "cells": [
  {
   "cell_type": "markdown",
   "metadata": {},
   "source": [
    "# Project: Identify Customer Segments\n",
    "\n",
    "In this project, you will apply unsupervised learning techniques to identify segments of the population that form the core customer base for a mail-order sales company in Germany. These segments can then be used to direct marketing campaigns towards audiences that will have the highest expected rate of returns. The data that you will use has been provided by our partners at Bertelsmann Arvato Analytics, and represents a real-life data science task.\n",
    "\n",
    "This notebook will help you complete this task by providing a framework within which you will perform your analysis steps. In each step of the project, you will see some text describing the subtask that you will perform, followed by one or more code cells for you to complete your work. **Feel free to add additional code and markdown cells as you go along so that you can explore everything in precise chunks.** The code cells provided in the base template will outline only the major tasks, and will usually not be enough to cover all of the minor tasks that comprise it.\n",
    "\n",
    "It should be noted that while there will be precise guidelines on how you should handle certain tasks in the project, there will also be places where an exact specification is not provided. **There will be times in the project where you will need to make and justify your own decisions on how to treat the data.** These are places where there may not be only one way to handle the data. In real-life tasks, there may be many valid ways to approach an analysis task. One of the most important things you can do is clearly document your approach so that other scientists can understand the decisions you've made.\n",
    "\n",
    "At the end of most sections, there will be a Markdown cell labeled **Discussion**. In these cells, you will report your findings for the completed section, as well as document the decisions that you made in your approach to each subtask. **Your project will be evaluated not just on the code used to complete the tasks outlined, but also your communication about your observations and conclusions at each stage.**"
   ]
  },
  {
   "cell_type": "code",
   "execution_count": 2,
   "metadata": {},
   "outputs": [],
   "source": [
    "# import libraries here; add more as necessary\n",
    "import numpy as np\n",
    "import pandas as pd\n",
    "import matplotlib.pyplot as plt\n",
    "import seaborn as sns\n",
    "\n",
    "# magic word for producing visualizations in notebook\n",
    "%matplotlib inline\n",
    "\n",
    "#additional libraries needed for this project\n",
    "from sklearn.preprocessing import Imputer\n",
    "from sklearn.preprocessing import StandardScaler\n",
    "from sklearn.decomposition import PCA\n",
    "from sklearn.cluster import KMeans\n",
    "from sklearn.preprocessing import OneHotEncoder\n",
    "import collections"
   ]
  },
  {
   "cell_type": "markdown",
   "metadata": {},
   "source": [
    "### Step 0: Load the Data\n",
    "\n",
    "There are four files associated with this project (not including this one):\n",
    "\n",
    "- `Udacity_AZDIAS_Subset.csv`: Demographics data for the general population of Germany; 891211 persons (rows) x 85 features (columns).\n",
    "- `Udacity_CUSTOMERS_Subset.csv`: Demographics data for customers of a mail-order company; 191652 persons (rows) x 85 features (columns).\n",
    "- `Data_Dictionary.md`: Detailed information file about the features in the provided datasets.\n",
    "- `AZDIAS_Feature_Summary.csv`: Summary of feature attributes for demographics data; 85 features (rows) x 4 columns\n",
    "\n",
    "Each row of the demographics files represents a single person, but also includes information outside of individuals, including information about their household, building, and neighborhood. You will use this information to cluster the general population into groups with similar demographic properties. Then, you will see how the people in the customers dataset fit into those created clusters. The hope here is that certain clusters are over-represented in the customers data, as compared to the general population; those over-represented clusters will be assumed to be part of the core userbase. This information can then be used for further applications, such as targeting for a marketing campaign.\n",
    "\n",
    "To start off with, load in the demographics data for the general population into a pandas DataFrame, and do the same for the feature attributes summary. Note for all of the `.csv` data files in this project: they're semicolon (`;`) delimited, so you'll need an additional argument in your [`read_csv()`](https://pandas.pydata.org/pandas-docs/stable/generated/pandas.read_csv.html) call to read in the data properly. Also, considering the size of the main dataset, it may take some time for it to load completely.\n",
    "\n",
    "Once the dataset is loaded, it's recommended that you take a little bit of time just browsing the general structure of the dataset and feature summary file. You'll be getting deep into the innards of the cleaning in the first major step of the project, so gaining some general familiarity can help you get your bearings."
   ]
  },
  {
   "cell_type": "code",
   "execution_count": 29,
   "metadata": {},
   "outputs": [],
   "source": [
    "# Load in the general demographics data.\n",
    "azdias = pd.read_csv('Udacity_AZDIAS_Subset.csv', delimiter = ';')\n",
    "\n",
    "# Load in the feature summary file.\n",
    "feat_info = pd.read_csv('AZDIAS_Feature_Summary.csv',  delimiter = ';')"
   ]
  },
  {
   "cell_type": "code",
   "execution_count": 30,
   "metadata": {},
   "outputs": [
    {
     "data": {
      "text/html": [
       "<div>\n",
       "<style scoped>\n",
       "    .dataframe tbody tr th:only-of-type {\n",
       "        vertical-align: middle;\n",
       "    }\n",
       "\n",
       "    .dataframe tbody tr th {\n",
       "        vertical-align: top;\n",
       "    }\n",
       "\n",
       "    .dataframe thead th {\n",
       "        text-align: right;\n",
       "    }\n",
       "</style>\n",
       "<table border=\"1\" class=\"dataframe\">\n",
       "  <thead>\n",
       "    <tr style=\"text-align: right;\">\n",
       "      <th></th>\n",
       "      <th>AGER_TYP</th>\n",
       "      <th>ALTERSKATEGORIE_GROB</th>\n",
       "      <th>ANREDE_KZ</th>\n",
       "      <th>CJT_GESAMTTYP</th>\n",
       "      <th>FINANZ_MINIMALIST</th>\n",
       "      <th>FINANZ_SPARER</th>\n",
       "      <th>FINANZ_VORSORGER</th>\n",
       "      <th>FINANZ_ANLEGER</th>\n",
       "      <th>FINANZ_UNAUFFAELLIGER</th>\n",
       "      <th>FINANZ_HAUSBAUER</th>\n",
       "      <th>...</th>\n",
       "      <th>PLZ8_ANTG1</th>\n",
       "      <th>PLZ8_ANTG2</th>\n",
       "      <th>PLZ8_ANTG3</th>\n",
       "      <th>PLZ8_ANTG4</th>\n",
       "      <th>PLZ8_BAUMAX</th>\n",
       "      <th>PLZ8_HHZ</th>\n",
       "      <th>PLZ8_GBZ</th>\n",
       "      <th>ARBEIT</th>\n",
       "      <th>ORTSGR_KLS9</th>\n",
       "      <th>RELAT_AB</th>\n",
       "    </tr>\n",
       "  </thead>\n",
       "  <tbody>\n",
       "    <tr>\n",
       "      <th>0</th>\n",
       "      <td>-1</td>\n",
       "      <td>2</td>\n",
       "      <td>1</td>\n",
       "      <td>2.0</td>\n",
       "      <td>3</td>\n",
       "      <td>4</td>\n",
       "      <td>3</td>\n",
       "      <td>5</td>\n",
       "      <td>5</td>\n",
       "      <td>3</td>\n",
       "      <td>...</td>\n",
       "      <td>NaN</td>\n",
       "      <td>NaN</td>\n",
       "      <td>NaN</td>\n",
       "      <td>NaN</td>\n",
       "      <td>NaN</td>\n",
       "      <td>NaN</td>\n",
       "      <td>NaN</td>\n",
       "      <td>NaN</td>\n",
       "      <td>NaN</td>\n",
       "      <td>NaN</td>\n",
       "    </tr>\n",
       "    <tr>\n",
       "      <th>1</th>\n",
       "      <td>-1</td>\n",
       "      <td>1</td>\n",
       "      <td>2</td>\n",
       "      <td>5.0</td>\n",
       "      <td>1</td>\n",
       "      <td>5</td>\n",
       "      <td>2</td>\n",
       "      <td>5</td>\n",
       "      <td>4</td>\n",
       "      <td>5</td>\n",
       "      <td>...</td>\n",
       "      <td>2.0</td>\n",
       "      <td>3.0</td>\n",
       "      <td>2.0</td>\n",
       "      <td>1.0</td>\n",
       "      <td>1.0</td>\n",
       "      <td>5.0</td>\n",
       "      <td>4.0</td>\n",
       "      <td>3.0</td>\n",
       "      <td>5.0</td>\n",
       "      <td>4.0</td>\n",
       "    </tr>\n",
       "    <tr>\n",
       "      <th>2</th>\n",
       "      <td>-1</td>\n",
       "      <td>3</td>\n",
       "      <td>2</td>\n",
       "      <td>3.0</td>\n",
       "      <td>1</td>\n",
       "      <td>4</td>\n",
       "      <td>1</td>\n",
       "      <td>2</td>\n",
       "      <td>3</td>\n",
       "      <td>5</td>\n",
       "      <td>...</td>\n",
       "      <td>3.0</td>\n",
       "      <td>3.0</td>\n",
       "      <td>1.0</td>\n",
       "      <td>0.0</td>\n",
       "      <td>1.0</td>\n",
       "      <td>4.0</td>\n",
       "      <td>4.0</td>\n",
       "      <td>3.0</td>\n",
       "      <td>5.0</td>\n",
       "      <td>2.0</td>\n",
       "    </tr>\n",
       "    <tr>\n",
       "      <th>3</th>\n",
       "      <td>2</td>\n",
       "      <td>4</td>\n",
       "      <td>2</td>\n",
       "      <td>2.0</td>\n",
       "      <td>4</td>\n",
       "      <td>2</td>\n",
       "      <td>5</td>\n",
       "      <td>2</td>\n",
       "      <td>1</td>\n",
       "      <td>2</td>\n",
       "      <td>...</td>\n",
       "      <td>2.0</td>\n",
       "      <td>2.0</td>\n",
       "      <td>2.0</td>\n",
       "      <td>0.0</td>\n",
       "      <td>1.0</td>\n",
       "      <td>3.0</td>\n",
       "      <td>4.0</td>\n",
       "      <td>2.0</td>\n",
       "      <td>3.0</td>\n",
       "      <td>3.0</td>\n",
       "    </tr>\n",
       "    <tr>\n",
       "      <th>4</th>\n",
       "      <td>-1</td>\n",
       "      <td>3</td>\n",
       "      <td>1</td>\n",
       "      <td>5.0</td>\n",
       "      <td>4</td>\n",
       "      <td>3</td>\n",
       "      <td>4</td>\n",
       "      <td>1</td>\n",
       "      <td>3</td>\n",
       "      <td>2</td>\n",
       "      <td>...</td>\n",
       "      <td>2.0</td>\n",
       "      <td>4.0</td>\n",
       "      <td>2.0</td>\n",
       "      <td>1.0</td>\n",
       "      <td>2.0</td>\n",
       "      <td>3.0</td>\n",
       "      <td>3.0</td>\n",
       "      <td>4.0</td>\n",
       "      <td>6.0</td>\n",
       "      <td>5.0</td>\n",
       "    </tr>\n",
       "  </tbody>\n",
       "</table>\n",
       "<p>5 rows × 85 columns</p>\n",
       "</div>"
      ],
      "text/plain": [
       "   AGER_TYP  ALTERSKATEGORIE_GROB  ANREDE_KZ  CJT_GESAMTTYP  \\\n",
       "0        -1                     2          1            2.0   \n",
       "1        -1                     1          2            5.0   \n",
       "2        -1                     3          2            3.0   \n",
       "3         2                     4          2            2.0   \n",
       "4        -1                     3          1            5.0   \n",
       "\n",
       "   FINANZ_MINIMALIST  FINANZ_SPARER  FINANZ_VORSORGER  FINANZ_ANLEGER  \\\n",
       "0                  3              4                 3               5   \n",
       "1                  1              5                 2               5   \n",
       "2                  1              4                 1               2   \n",
       "3                  4              2                 5               2   \n",
       "4                  4              3                 4               1   \n",
       "\n",
       "   FINANZ_UNAUFFAELLIGER  FINANZ_HAUSBAUER    ...     PLZ8_ANTG1  PLZ8_ANTG2  \\\n",
       "0                      5                 3    ...            NaN         NaN   \n",
       "1                      4                 5    ...            2.0         3.0   \n",
       "2                      3                 5    ...            3.0         3.0   \n",
       "3                      1                 2    ...            2.0         2.0   \n",
       "4                      3                 2    ...            2.0         4.0   \n",
       "\n",
       "   PLZ8_ANTG3  PLZ8_ANTG4  PLZ8_BAUMAX  PLZ8_HHZ  PLZ8_GBZ  ARBEIT  \\\n",
       "0         NaN         NaN          NaN       NaN       NaN     NaN   \n",
       "1         2.0         1.0          1.0       5.0       4.0     3.0   \n",
       "2         1.0         0.0          1.0       4.0       4.0     3.0   \n",
       "3         2.0         0.0          1.0       3.0       4.0     2.0   \n",
       "4         2.0         1.0          2.0       3.0       3.0     4.0   \n",
       "\n",
       "   ORTSGR_KLS9  RELAT_AB  \n",
       "0          NaN       NaN  \n",
       "1          5.0       4.0  \n",
       "2          5.0       2.0  \n",
       "3          3.0       3.0  \n",
       "4          6.0       5.0  \n",
       "\n",
       "[5 rows x 85 columns]"
      ]
     },
     "execution_count": 30,
     "metadata": {},
     "output_type": "execute_result"
    }
   ],
   "source": [
    "azdazdias.head()"
   ]
  },
  {
   "cell_type": "code",
   "execution_count": 31,
   "metadata": {},
   "outputs": [
    {
     "data": {
      "text/plain": [
       "(891221, 85)"
      ]
     },
     "execution_count": 31,
     "metadata": {},
     "output_type": "execute_result"
    }
   ],
   "source": [
    "azdias.shape"
   ]
  },
  {
   "cell_type": "code",
   "execution_count": 32,
   "metadata": {},
   "outputs": [
    {
     "data": {
      "text/html": [
       "<div>\n",
       "<style scoped>\n",
       "    .dataframe tbody tr th:only-of-type {\n",
       "        vertical-align: middle;\n",
       "    }\n",
       "\n",
       "    .dataframe tbody tr th {\n",
       "        vertical-align: top;\n",
       "    }\n",
       "\n",
       "    .dataframe thead th {\n",
       "        text-align: right;\n",
       "    }\n",
       "</style>\n",
       "<table border=\"1\" class=\"dataframe\">\n",
       "  <thead>\n",
       "    <tr style=\"text-align: right;\">\n",
       "      <th></th>\n",
       "      <th>attribute</th>\n",
       "      <th>information_level</th>\n",
       "      <th>type</th>\n",
       "      <th>missing_or_unknown</th>\n",
       "    </tr>\n",
       "  </thead>\n",
       "  <tbody>\n",
       "    <tr>\n",
       "      <th>0</th>\n",
       "      <td>AGER_TYP</td>\n",
       "      <td>person</td>\n",
       "      <td>categorical</td>\n",
       "      <td>[-1,0]</td>\n",
       "    </tr>\n",
       "    <tr>\n",
       "      <th>1</th>\n",
       "      <td>ALTERSKATEGORIE_GROB</td>\n",
       "      <td>person</td>\n",
       "      <td>ordinal</td>\n",
       "      <td>[-1,0,9]</td>\n",
       "    </tr>\n",
       "    <tr>\n",
       "      <th>2</th>\n",
       "      <td>ANREDE_KZ</td>\n",
       "      <td>person</td>\n",
       "      <td>categorical</td>\n",
       "      <td>[-1,0]</td>\n",
       "    </tr>\n",
       "    <tr>\n",
       "      <th>3</th>\n",
       "      <td>CJT_GESAMTTYP</td>\n",
       "      <td>person</td>\n",
       "      <td>categorical</td>\n",
       "      <td>[0]</td>\n",
       "    </tr>\n",
       "    <tr>\n",
       "      <th>4</th>\n",
       "      <td>FINANZ_MINIMALIST</td>\n",
       "      <td>person</td>\n",
       "      <td>ordinal</td>\n",
       "      <td>[-1]</td>\n",
       "    </tr>\n",
       "  </tbody>\n",
       "</table>\n",
       "</div>"
      ],
      "text/plain": [
       "              attribute information_level         type missing_or_unknown\n",
       "0              AGER_TYP            person  categorical             [-1,0]\n",
       "1  ALTERSKATEGORIE_GROB            person      ordinal           [-1,0,9]\n",
       "2             ANREDE_KZ            person  categorical             [-1,0]\n",
       "3         CJT_GESAMTTYP            person  categorical                [0]\n",
       "4     FINANZ_MINIMALIST            person      ordinal               [-1]"
      ]
     },
     "execution_count": 32,
     "metadata": {},
     "output_type": "execute_result"
    }
   ],
   "source": [
    "feat_info.head()"
   ]
  },
  {
   "cell_type": "code",
   "execution_count": 33,
   "metadata": {},
   "outputs": [
    {
     "data": {
      "text/html": [
       "<div>\n",
       "<style scoped>\n",
       "    .dataframe tbody tr th:only-of-type {\n",
       "        vertical-align: middle;\n",
       "    }\n",
       "\n",
       "    .dataframe tbody tr th {\n",
       "        vertical-align: top;\n",
       "    }\n",
       "\n",
       "    .dataframe thead th {\n",
       "        text-align: right;\n",
       "    }\n",
       "</style>\n",
       "<table border=\"1\" class=\"dataframe\">\n",
       "  <thead>\n",
       "    <tr style=\"text-align: right;\">\n",
       "      <th></th>\n",
       "      <th>attribute</th>\n",
       "      <th>information_level</th>\n",
       "      <th>type</th>\n",
       "      <th>missing_or_unknown</th>\n",
       "    </tr>\n",
       "  </thead>\n",
       "  <tbody>\n",
       "    <tr>\n",
       "      <th>80</th>\n",
       "      <td>PLZ8_HHZ</td>\n",
       "      <td>macrocell_plz8</td>\n",
       "      <td>ordinal</td>\n",
       "      <td>[-1]</td>\n",
       "    </tr>\n",
       "    <tr>\n",
       "      <th>81</th>\n",
       "      <td>PLZ8_GBZ</td>\n",
       "      <td>macrocell_plz8</td>\n",
       "      <td>ordinal</td>\n",
       "      <td>[-1]</td>\n",
       "    </tr>\n",
       "    <tr>\n",
       "      <th>82</th>\n",
       "      <td>ARBEIT</td>\n",
       "      <td>community</td>\n",
       "      <td>ordinal</td>\n",
       "      <td>[-1,9]</td>\n",
       "    </tr>\n",
       "    <tr>\n",
       "      <th>83</th>\n",
       "      <td>ORTSGR_KLS9</td>\n",
       "      <td>community</td>\n",
       "      <td>ordinal</td>\n",
       "      <td>[-1,0]</td>\n",
       "    </tr>\n",
       "    <tr>\n",
       "      <th>84</th>\n",
       "      <td>RELAT_AB</td>\n",
       "      <td>community</td>\n",
       "      <td>ordinal</td>\n",
       "      <td>[-1,9]</td>\n",
       "    </tr>\n",
       "  </tbody>\n",
       "</table>\n",
       "</div>"
      ],
      "text/plain": [
       "      attribute information_level     type missing_or_unknown\n",
       "80     PLZ8_HHZ    macrocell_plz8  ordinal               [-1]\n",
       "81     PLZ8_GBZ    macrocell_plz8  ordinal               [-1]\n",
       "82       ARBEIT         community  ordinal             [-1,9]\n",
       "83  ORTSGR_KLS9         community  ordinal             [-1,0]\n",
       "84     RELAT_AB         community  ordinal             [-1,9]"
      ]
     },
     "execution_count": 33,
     "metadata": {},
     "output_type": "execute_result"
    }
   ],
   "source": [
    "feat_info.tail()"
   ]
  },
  {
   "cell_type": "code",
   "execution_count": 34,
   "metadata": {},
   "outputs": [
    {
     "data": {
      "text/plain": [
       "(85, 4)"
      ]
     },
     "execution_count": 34,
     "metadata": {},
     "output_type": "execute_result"
    }
   ],
   "source": [
    "feat_info.shape"
   ]
  },
  {
   "cell_type": "markdown",
   "metadata": {},
   "source": [
    "> **Tip**: Add additional cells to keep everything in reasonably-sized chunks! Keyboard shortcut `esc --> a` (press escape to enter command mode, then press the 'A' key) adds a new cell before the active cell, and `esc --> b` adds a new cell after the active cell. If you need to convert an active cell to a markdown cell, use `esc --> m` and to convert to a code cell, use `esc --> y`. \n",
    "\n",
    "## Step 1: Preprocessing\n",
    "\n",
    "### Step 1.1: Assess Missing Data\n",
    "\n",
    "The feature summary file contains a summary of properties for each demographics data column. You will use this file to help you make cleaning decisions during this stage of the project. First of all, you should assess the demographics data in terms of missing data. Pay attention to the following points as you perform your analysis, and take notes on what you observe. Make sure that you fill in the **Discussion** cell with your findings and decisions at the end of each step that has one!\n",
    "\n",
    "#### Step 1.1.1: Convert Missing Value Codes to NaNs\n",
    "The fourth column of the feature attributes summary (loaded in above as `feat_info`) documents the codes from the data dictionary that indicate missing or unknown data. While the file encodes this as a list (e.g. `[-1,0]`), this will get read in as a string object. You'll need to do a little bit of parsing to make use of it to identify and clean the data. Convert data that matches a 'missing' or 'unknown' value code into a numpy NaN value. You might want to see how much data takes on a 'missing' or 'unknown' code, and how much data is naturally missing, as a point of interest.\n",
    "\n",
    "**As one more reminder, you are encouraged to add additional cells to break up your analysis into manageable chunks.**"
   ]
  },
  {
   "cell_type": "code",
   "execution_count": 35,
   "metadata": {},
   "outputs": [],
   "source": [
    "def define_missing(string):\n",
    "    def_missing = string.replace('[', '').replace(']', '').split(',')\n",
    "\n",
    "    if(def_missing != None):\n",
    "        for i in range(len(def_missing)):\n",
    "            try: def_missing[i] = int(def_missing[i])\n",
    "            except ValueError: continue #we are trying to convert string to int ie int('XX') -> error  \n",
    "\n",
    "    return def_missing"
   ]
  },
  {
   "cell_type": "code",
   "execution_count": 36,
   "metadata": {},
   "outputs": [
    {
     "data": {
      "text/plain": [
       "-1    677503\n",
       " 2     98472\n",
       " 1     79802\n",
       " 3     27104\n",
       " 0      8340\n",
       "Name: AGER_TYP, dtype: int64"
      ]
     },
     "execution_count": 36,
     "metadata": {},
     "output_type": "execute_result"
    }
   ],
   "source": [
    "pd.value_counts(azdazdias.AGER_TYP)"
   ]
  },
  {
   "cell_type": "code",
   "execution_count": 37,
   "metadata": {},
   "outputs": [
    {
     "data": {
      "text/html": [
       "<div>\n",
       "<style scoped>\n",
       "    .dataframe tbody tr th:only-of-type {\n",
       "        vertical-align: middle;\n",
       "    }\n",
       "\n",
       "    .dataframe tbody tr th {\n",
       "        vertical-align: top;\n",
       "    }\n",
       "\n",
       "    .dataframe thead th {\n",
       "        text-align: right;\n",
       "    }\n",
       "</style>\n",
       "<table border=\"1\" class=\"dataframe\">\n",
       "  <thead>\n",
       "    <tr style=\"text-align: right;\">\n",
       "      <th></th>\n",
       "      <th>attribute</th>\n",
       "      <th>information_level</th>\n",
       "      <th>type</th>\n",
       "      <th>missing_or_unknown</th>\n",
       "    </tr>\n",
       "  </thead>\n",
       "  <tbody>\n",
       "    <tr>\n",
       "      <th>0</th>\n",
       "      <td>AGER_TYP</td>\n",
       "      <td>person</td>\n",
       "      <td>categorical</td>\n",
       "      <td>[-1,0]</td>\n",
       "    </tr>\n",
       "    <tr>\n",
       "      <th>1</th>\n",
       "      <td>ALTERSKATEGORIE_GROB</td>\n",
       "      <td>person</td>\n",
       "      <td>ordinal</td>\n",
       "      <td>[-1,0,9]</td>\n",
       "    </tr>\n",
       "    <tr>\n",
       "      <th>2</th>\n",
       "      <td>ANREDE_KZ</td>\n",
       "      <td>person</td>\n",
       "      <td>categorical</td>\n",
       "      <td>[-1,0]</td>\n",
       "    </tr>\n",
       "    <tr>\n",
       "      <th>3</th>\n",
       "      <td>CJT_GESAMTTYP</td>\n",
       "      <td>person</td>\n",
       "      <td>categorical</td>\n",
       "      <td>[0]</td>\n",
       "    </tr>\n",
       "    <tr>\n",
       "      <th>4</th>\n",
       "      <td>FINANZ_MINIMALIST</td>\n",
       "      <td>person</td>\n",
       "      <td>ordinal</td>\n",
       "      <td>[-1]</td>\n",
       "    </tr>\n",
       "  </tbody>\n",
       "</table>\n",
       "</div>"
      ],
      "text/plain": [
       "              attribute information_level         type missing_or_unknown\n",
       "0              AGER_TYP            person  categorical             [-1,0]\n",
       "1  ALTERSKATEGORIE_GROB            person      ordinal           [-1,0,9]\n",
       "2             ANREDE_KZ            person  categorical             [-1,0]\n",
       "3         CJT_GESAMTTYP            person  categorical                [0]\n",
       "4     FINANZ_MINIMALIST            person      ordinal               [-1]"
      ]
     },
     "execution_count": 37,
     "metadata": {},
     "output_type": "execute_result"
    }
   ],
   "source": [
    "feat_info.head()"
   ]
  },
  {
   "cell_type": "code",
   "execution_count": 38,
   "metadata": {},
   "outputs": [
    {
     "data": {
      "text/plain": [
       "4896838"
      ]
     },
     "execution_count": 38,
     "metadata": {},
     "output_type": "execute_result"
    }
   ],
   "source": [
    "sum(azdias.isnull().sum())"
   ]
  },
  {
   "cell_type": "code",
   "execution_count": 39,
   "metadata": {},
   "outputs": [
    {
     "data": {
      "text/plain": [
       "count        85.000000\n",
       "mean      57609.858824\n",
       "std       78323.462873\n",
       "min           0.000000\n",
       "25%           0.000000\n",
       "50%       18348.000000\n",
       "75%       98979.000000\n",
       "max      584612.000000\n",
       "dtype: float64"
      ]
     },
     "execution_count": 39,
     "metadata": {},
     "output_type": "execute_result"
    }
   ],
   "source": [
    "azdias.isnull().sum().describe()"
   ]
  },
  {
   "cell_type": "code",
   "execution_count": 40,
   "metadata": {},
   "outputs": [],
   "source": [
    "for col in azdias:\n",
    "    missing_rep = define_missing(feat_info[feat_info['attribute']==col]['missing_or_unknown'].values[0])\n",
    "    \n",
    "    if(missing_rep[0] == ''): \n",
    "        azdias[col] = azdias[col].replace('', np.nan)\n",
    "        i+=1\n",
    "        continue\n",
    "    i=0\n",
    "    replace_with = list(np.nan for i in missing_rep) #create list of None same length as missing_rep\n",
    "    azdias[col] = azdias[col].replace(missing_rep, replace_with);"
   ]
  },
  {
   "cell_type": "markdown",
   "metadata": {},
   "source": [
    "#### Step 1.1.2: Assess Missing Data in Each Column\n",
    "\n",
    "How much missing data is present in each column? There are a few columns that are outliers in terms of the proportion of values that are missing. You will want to use matplotlib's [`hist()`](https://matplotlib.org/api/_as_gen/matplotlib.pyplot.hist.html) function to visualize the distribution of missing value counts to find these columns. Identify and document these columns. While some of these columns might have justifications for keeping or re-encoding the data, for this project you should just remove them from the dataframe. (Feel free to make remarks about these outlier columns in the discussion, however!)\n",
    "\n",
    "For the remaining features, are there any patterns in which columns have, or share, missing data?"
   ]
  },
  {
   "cell_type": "code",
   "execution_count": 41,
   "metadata": {},
   "outputs": [
    {
     "name": "stdout",
     "output_type": "stream",
     "text": [
      "[685843   2881      0   4854      0      0      0      0      0      0\n",
      "      0 392318   4854      0 111196  97632  94572  77792  77792   4854\n",
      "   4854 108315 108164   4854      0      0      0      0      0      0\n",
      "      0      0      0      0      0      0      0      0 111196  73499\n",
      " 889061 111196      0 310267  73499  73499  18348 584612 147988  73499\n",
      "  99611  97008  93148  73969  93148  93148  93148  99352  99352  99352\n",
      " 133324 133324 133324 133324 476524 133324  93740  93740  93740  93155\n",
      " 158064 133324   4854 158064 105800 116515 116515 116515 116515 116515\n",
      " 116515 116515  97375  97274  97375]\n"
     ]
    }
   ],
   "source": [
    "# Perform an assessment of how much missing data there is in each column of the\n",
    "# dataset.\n",
    "null_count = np.asarray(azdias.isnull().sum().tolist())\n",
    "print(null_count)"
   ]
  },
  {
   "cell_type": "code",
   "execution_count": 42,
   "metadata": {},
   "outputs": [
    {
     "data": {
      "text/plain": [
       "count        85.000000\n",
       "mean      98516.811765\n",
       "std      146604.203317\n",
       "min           0.000000\n",
       "25%           0.000000\n",
       "50%       93148.000000\n",
       "75%      116515.000000\n",
       "max      889061.000000\n",
       "dtype: float64"
      ]
     },
     "execution_count": 42,
     "metadata": {},
     "output_type": "execute_result"
    }
   ],
   "source": [
    "# Investigate patterns in the amount of missing data in each column.\n",
    "azdias.isnull().sum().describe()"
   ]
  },
  {
   "cell_type": "code",
   "execution_count": 43,
   "metadata": {},
   "outputs": [
    {
     "data": {
      "text/plain": [
       "[(0, 24),\n",
       " (116515, 7),\n",
       " (4854, 6),\n",
       " (133324, 6),\n",
       " (73499, 4),\n",
       " (93148, 4),\n",
       " (111196, 3),\n",
       " (99352, 3),\n",
       " (93740, 3),\n",
       " (77792, 2),\n",
       " (158064, 2),\n",
       " (97375, 2)]"
      ]
     },
     "execution_count": 43,
     "metadata": {},
     "output_type": "execute_result"
    }
   ],
   "source": [
    "collections.Counter(null_count).most_common(12)"
   ]
  },
  {
   "cell_type": "code",
   "execution_count": 46,
   "metadata": {},
   "outputs": [
    {
     "data": {
      "image/png": "[encoded data removed]",
      "text/plain": [
       "<matplotlib.figure.Figure at 0x7f369af95438>"
      ]
     },
     "metadata": {
      "needs_background": "light"
     },
     "output_type": "display_data"
    }
   ],
   "source": [
    "plt.hist(null_count, bins=15)\n",
    "plt.xlabel(\"# of NaN\")\n",
    "plt.ylabel('# of features')\n",
    "plt.show()"
   ]
  },
  {
   "cell_type": "code",
   "execution_count": 47,
   "metadata": {},
   "outputs": [
    {
     "name": "stdout",
     "output_type": "stream",
     "text": [
      "num null > 200,000: 6 \n",
      "200k-150k: 2 \n",
      "150k-100k: 20 \n",
      "100k-50k: 25\n"
     ]
    }
   ],
   "source": [
    "i_5, i_10, i_15, i_20 = 0,0,0,0\n",
    "for value in null_count:\n",
    "    if(value > 200000):\n",
    "        i_20+=1\n",
    "    elif(value > 150000):\n",
    "        i_15 +=1\n",
    "    elif(value>100000):\n",
    "        i_10+=1\n",
    "    elif(value>50000):\n",
    "        i_5+=1\n",
    "\n",
    "print('num null > 200,000: %s' % i_20, '\\n200k-150k: %s'%i_15,'\\n150k-100k: %s'%i_10, '\\n100k-50k: %s'%i_5)"
   ]
  },
  {
   "cell_type": "code",
   "execution_count": 48,
   "metadata": {},
   "outputs": [],
   "source": [
    "#Percentage of missing data\n",
    "percentage_missing = (azdias.isnull().sum()/len(azdias))*100\n",
    "plt.hist(percentage_missing)\n",
    "plt.xlabel('Missing Values %')\n",
    "plt.ylabel('Columns')"
   ]
  },
  {
   "cell_type": "code",
   "execution_count": 49,
   "metadata": {},
   "outputs": [
    {
     "name": "stdout",
     "output_type": "stream",
     "text": [
      "(891221, 79)\n",
      "  attribute information_level         type\n",
      "0  AGER_TYP            person  categorical\n",
      "\n",
      "\n",
      "      attribute information_level     type\n",
      "11  GEBURTSJAHR            person  numeric\n",
      "\n",
      "\n",
      "   attribute information_level         type\n",
      "40  TITEL_KZ            person  categorical\n",
      "\n",
      "\n",
      "   attribute information_level      type\n",
      "43  ALTER_HH         household  interval\n",
      "\n",
      "\n",
      "       attribute information_level         type\n",
      "47  KK_KUNDENTYP         household  categorical\n",
      "\n",
      "\n",
      "       attribute information_level   type\n",
      "64  KBA05_BAUMAX     microcell_rr3  mixed\n",
      "\n",
      "\n"
     ]
    }
   ],
   "source": [
    "print(azd.shape)\n",
    "\n",
    "for label in labels_to_clean:\n",
    "    print(feat_info[feat_info['attribute'] == label][['attribute', 'information_level', 'type']])\n",
    "    print('\\n')"
   ]
  },
  {
   "cell_type": "markdown",
   "metadata": {},
   "source": [
    "#### Discussion 1.1.2: Assess Missing Data in Each Column\n",
    "\n",
    "Some columns had large amounts of data missing. Six features were missing over 200K values. I did treat the large amount of data as outliers. I did find it interesting that several columns were missing the excate same about of data. There were at least 7 different features that were missing 116515 data points. "
   ]
  },
  {
   "cell_type": "markdown",
   "metadata": {},
   "source": [
    "#### Step 1.1.3: Assess Missing Data in Each Row\n",
    "\n",
    "Now, you'll perform a similar assessment for the rows of the dataset. How much data is missing in each row? As with the columns, you should see some groups of points that have a very different numbers of missing values. Divide the data into two subsets: one for data points that are above some threshold for missing values, and a second subset for points below that threshold.\n",
    "\n",
    "In order to know what to do with the outlier rows, we should see if the distribution of data values on columns that are not missing data (or are missing very little data) are similar or different between the two groups. Select at least five of these columns and compare the distribution of values.\n",
    "- You can use seaborn's [`countplot()`](https://seaborn.pydata.org/generated/seaborn.countplot.html) function to create a bar chart of code frequencies and matplotlib's [`subplot()`](https://matplotlib.org/api/_as_gen/matplotlib.pyplot.subplot.html) function to put bar charts for the two subplots side by side.\n",
    "- To reduce repeated code, you might want to write a function that can perform this comparison, taking as one of its arguments a column to be compared.\n",
    "\n",
    "Depending on what you observe in your comparison, this will have implications on how you approach your conclusions later in the analysis. If the distributions of non-missing features look similar between the data with many missing values and the data with few or no missing values, then we could argue that simply dropping those points from the analysis won't present a major issue. On the other hand, if the data with many missing values looks very different from the data with few or no missing values, then we should make a note on those data as special. We'll revisit these data later on. **Either way, you should continue your analysis for now using just the subset of the data with few or no missing values.**"
   ]
  },
  {
   "cell_type": "code",
   "execution_count": 50,
   "metadata": {},
   "outputs": [
    {
     "data": {
      "text/plain": [
       "count    891221.000000\n",
       "mean          9.396018\n",
       "std          13.971829\n",
       "min           0.000000\n",
       "25%           3.000000\n",
       "50%           4.000000\n",
       "75%           6.000000\n",
       "max          54.000000\n",
       "dtype: float64"
      ]
     },
     "execution_count": 50,
     "metadata": {},
     "output_type": "execute_result"
    }
   ],
   "source": [
    "# How much data is missing in each row of the dataset?\n",
    "azdias.isnull().sum(axis=1).describe() "
   ]
  },
  {
   "cell_type": "code",
   "execution_count": 52,
   "metadata": {},
   "outputs": [
    {
     "data": {
      "image/png": "[encoded data removed]",
      "text/plain": [
       "<matplotlib.figure.Figure at 0x7f369c13ef98>"
      ]
     },
     "metadata": {
      "needs_background": "light"
     },
     "output_type": "display_data"
    }
   ],
   "source": [
    "plt.figure(figsize=(16,8)) \n",
    "ax = sns.countplot(azdias.isnull().sum(axis=1))\n",
    "ax.set_xlabel('# missing values')\n",
    "plt.show()"
   ]
  },
  {
   "cell_type": "code",
   "execution_count": 54,
   "metadata": {},
   "outputs": [],
   "source": [
    "# Write code to divide the data into two subsets based on the number of missing\n",
    "# values in each row.\n",
    "azdias_cleaned['num_null'] = azdias_cleaned.isnull().sum(axis=1)"
   ]
  },
  {
   "cell_type": "code",
   "execution_count": 56,
   "metadata": {},
   "outputs": [],
   "source": [
    "azdias_low = azdias_cleaned.query('num_null < 21').drop('num_null', axis=1)\n",
    "azdias_high = azdias_cleaned.query('num_null > 20').drop('num_null', axis=1)"
   ]
  },
  {
   "cell_type": "code",
   "execution_count": 57,
   "metadata": {},
   "outputs": [
    {
     "data": {
      "text/plain": [
       "(797426, 79)"
      ]
     },
     "execution_count": 57,
     "metadata": {},
     "output_type": "execute_result"
    }
   ],
   "source": [
    "azdias_low.shape"
   ]
  },
  {
   "cell_type": "code",
   "execution_count": 58,
   "metadata": {},
   "outputs": [
    {
     "data": {
      "text/plain": [
       "(93795, 79)"
      ]
     },
     "execution_count": 58,
     "metadata": {},
     "output_type": "execute_result"
    }
   ],
   "source": [
    "azdias_high.shape"
   ]
  },
  {
   "cell_type": "code",
   "execution_count": 59,
   "metadata": {},
   "outputs": [
    {
     "data": {
      "image/png": "[encoded data removed]",
      "text/plain": [
       "<matplotlib.figure.Figure at 0x7f369c145eb8>"
      ]
     },
     "metadata": {
      "needs_background": "light"
     },
     "output_type": "display_data"
    }
   ],
   "source": [
    "plt.figure(figsize=(20,20))\n",
    "for i, col in enumerate(azdias_low.columns[:10]):\n",
    "    plt.subplot(5, 2, i+1)\n",
    "    sns.distplot(azdias_low[col][azdias_low[col].notnull()], label='low_NaN')\n",
    "    sns.distplot(azdias_high[col][azdias_high[col].notnull()], label='high_NaN')\n",
    "    plt.title('Distribution for column: {}'.format(col))\n",
    "    plt.tight_layout()\n",
    "    plt.legend();"
   ]
  },
  {
   "cell_type": "code",
   "execution_count": 60,
   "metadata": {},
   "outputs": [],
   "source": [
    "# Compare the distribution of values for at least five columns where there are\n",
    "# no or few missing values, between the two subsets.\n",
    "def graph_value_dist(column):\n",
    "    fig, (ax1, ax2) = plt.subplots(1,2, sharey=True)\n",
    "    ax1.set_title('low NaN data')\n",
    "    ax2.set_title('high NaN data')\n",
    "    sns.countplot(azdias_low[column], ax=ax1)\n",
    "    sns.countplot(azdias_high[column], ax=ax2)\n",
    "    plt.show()"
   ]
  },
  {
   "cell_type": "code",
   "execution_count": 61,
   "metadata": {},
   "outputs": [
    {
     "name": "stdout",
     "output_type": "stream",
     "text": [
      "['ANREDE_KZ', 'FINANZ_MINIMALIST', 'FINANZ_SPARER', 'FINANZ_VORSORGER', 'FINANZ_ANLEGER', 'GREEN_AVANTGARDE']\n"
     ]
    }
   ],
   "source": [
    "cols=[1,3,4,5,6,11]\n",
    "col_names = []\n",
    "for i in cols:\n",
    "    null1 = azdias_low.iloc[:,i].isnull().sum()\n",
    "    null2 = azdias_high.iloc[:,i].isnull().sum()\n",
    "    col_name = azdias_low.iloc[:,i].name\n",
    "    if(null1+null2 == 0):\n",
    "        col_names.append(col_name)\n",
    "        \n",
    "print(col_names)"
   ]
  },
  {
   "cell_type": "code",
   "execution_count": 62,
   "metadata": {},
   "outputs": [
    {
     "data": {
      "image/png": "[encoded data removed]",
      "text/plain": [
       "<matplotlib.figure.Figure at 0x7f369c2fdf98>"
      ]
     },
     "metadata": {
      "needs_background": "light"
     },
     "output_type": "display_data"
    },
    {
     "data": {
      "image/png": "[encoded data removed]",
      "text/plain": [
       "<matplotlib.figure.Figure at 0x7f3698e44240>"
      ]
     },
     "metadata": {
      "needs_background": "light"
     },
     "output_type": "display_data"
    },
    {
     "data": {
      "image/png": "[encoded data removed]",
      "text/plain": [
       "<matplotlib.figure.Figure at 0x7f3698e982e8>"
      ]
     },
     "metadata": {
      "needs_background": "light"
     },
     "output_type": "display_data"
    },
    {
     "data": {
      "image/png": "[encoded data removed]",
      "text/plain": [
       "<matplotlib.figure.Figure at 0x7f36984433c8>"
      ]
     },
     "metadata": {
      "needs_background": "light"
     },
     "output_type": "display_data"
    },
    {
     "data": {
      "image/png": "[encoded data removed]",
      "text/plain": [
       "<matplotlib.figure.Figure at 0x7f369834a198>"
      ]
     },
     "metadata": {
      "needs_background": "light"
     },
     "output_type": "display_data"
    },
    {
     "data": {
      "image/png": "[encoded data removed]",
      "text/plain": [
       "<matplotlib.figure.Figure at 0x7f369836d2e8>"
      ]
     },
     "metadata": {
      "needs_background": "light"
     },
     "output_type": "display_data"
    }
   ],
   "source": [
    "for col in col_names:\n",
    "    graph_value_dist(col)"
   ]
  },
  {
   "cell_type": "markdown",
   "metadata": {},
   "source": [
    "#### Discussion 1.1.3: Assess Missing Data in Each Row\n",
    "\n",
    "Based on the charts above, the distributions of values between the different datasets are very similar for the gender feature, however, they are very different for some other features wuch as the financial features."
   ]
  },
  {
   "cell_type": "markdown",
   "metadata": {},
   "source": [
    "### Step 1.2: Select and Re-Encode Features\n",
    "\n",
    "Checking for missing data isn't the only way in which you can prepare a dataset for analysis. Since the unsupervised learning techniques to be used will only work on data that is encoded numerically, you need to make a few encoding changes or additional assumptions to be able to make progress. In addition, while almost all of the values in the dataset are encoded using numbers, not all of them represent numeric values. Check the third column of the feature summary (`feat_info`) for a summary of types of measurement.\n",
    "- For numeric and interval data, these features can be kept without changes.\n",
    "- Most of the variables in the dataset are ordinal in nature. While ordinal values may technically be non-linear in spacing, make the simplifying assumption that the ordinal variables can be treated as being interval in nature (that is, kept without any changes).\n",
    "- Special handling may be necessary for the remaining two variable types: categorical, and 'mixed'.\n",
    "\n",
    "In the first two parts of this sub-step, you will perform an investigation of the categorical and mixed-type features and make a decision on each of them, whether you will keep, drop, or re-encode each. Then, in the last part, you will create a new data frame with only the selected and engineered columns.\n",
    "\n",
    "Data wrangling is often the trickiest part of the data analysis process, and there's a lot of it to be done here. But stick with it: once you're done with this step, you'll be ready to get to the machine learning parts of the project!"
   ]
  },
  {
   "cell_type": "code",
   "execution_count": 63,
   "metadata": {},
   "outputs": [
    {
     "data": {
      "text/plain": [
       "ordinal        49\n",
       "categorical    21\n",
       "mixed           7\n",
       "numeric         7\n",
       "interval        1\n",
       "Name: type, dtype: int64"
      ]
     },
     "execution_count": 63,
     "metadata": {},
     "output_type": "execute_result"
    }
   ],
   "source": [
    "# How many features are there of each data type?\n",
    "feat_info['type'].value_counts()"
   ]
  },
  {
   "cell_type": "markdown",
   "metadata": {},
   "source": [
    "#### Step 1.2.1: Re-Encode Categorical Features\n",
    "\n",
    "For categorical data, you would ordinarily need to encode the levels as dummy variables. Depending on the number of categories, perform one of the following:\n",
    "- For binary (two-level) categoricals that take numeric values, you can keep them without needing to do anything.\n",
    "- There is one binary variable that takes on non-numeric values. For this one, you need to re-encode the values as numbers or create a dummy variable.\n",
    "- For multi-level categoricals (three or more values), you can choose to encode the values using multiple dummy variables (e.g. via [OneHotEncoder](http://scikit-learn.org/stable/modules/generated/sklearn.preprocessing.OneHotEncoder.html)), or (to keep things straightforward) just drop them from the analysis. As always, document your choices in the Discussion section."
   ]
  },
  {
   "cell_type": "code",
   "execution_count": 64,
   "metadata": {},
   "outputs": [
    {
     "name": "stdout",
     "output_type": "stream",
     "text": [
      "count    205378.000000\n",
      "mean          1.743410\n",
      "std           0.674312\n",
      "min           1.000000\n",
      "25%           1.000000\n",
      "50%           2.000000\n",
      "75%           2.000000\n",
      "max           3.000000\n",
      "Name: AGER_TYP, dtype: float64\n",
      "685843\n",
      "count    891221.000000\n",
      "mean          1.522098\n",
      "std           0.499512\n",
      "min           1.000000\n",
      "25%           1.000000\n",
      "50%           2.000000\n",
      "75%           2.000000\n",
      "max           2.000000\n",
      "Name: ANREDE_KZ, dtype: float64\n",
      "0\n",
      "count    886367.000000\n",
      "mean          3.632838\n",
      "std           1.595021\n",
      "min           1.000000\n",
      "25%           2.000000\n",
      "50%           4.000000\n",
      "75%           5.000000\n",
      "max           6.000000\n",
      "Name: CJT_GESAMTTYP, dtype: float64\n",
      "4854\n",
      "count    891221.000000\n",
      "mean          3.790586\n",
      "std           1.987876\n",
      "min           1.000000\n",
      "25%           2.000000\n",
      "50%           4.000000\n",
      "75%           6.000000\n",
      "max           6.000000\n",
      "Name: FINANZTYP, dtype: float64\n",
      "0\n",
      "count    886367.000000\n",
      "mean          7.350304\n",
      "std           3.525723\n",
      "min           1.000000\n",
      "25%           5.000000\n",
      "50%           8.000000\n",
      "75%          10.000000\n",
      "max          12.000000\n",
      "Name: GFK_URLAUBERTYP, dtype: float64\n",
      "4854\n",
      "count    891221.000000\n",
      "mean          0.196612\n",
      "std           0.397437\n",
      "min           0.000000\n",
      "25%           0.000000\n",
      "50%           0.000000\n",
      "75%           0.000000\n",
      "max           1.000000\n",
      "Name: GREEN_AVANTGARDE, dtype: float64\n",
      "0\n",
      "count    813429.000000\n",
      "mean          3.922339\n",
      "std           3.941285\n",
      "min           1.000000\n",
      "25%           1.000000\n",
      "50%           1.000000\n",
      "75%           8.000000\n",
      "max          11.000000\n",
      "Name: LP_FAMILIE_FEIN, dtype: float64\n",
      "77792\n",
      "count    813429.000000\n",
      "mean          2.381976\n",
      "std           1.701527\n",
      "min           1.000000\n",
      "25%           1.000000\n",
      "50%           1.000000\n",
      "75%           4.000000\n",
      "max           5.000000\n",
      "Name: LP_FAMILIE_GROB, dtype: float64\n",
      "77792\n",
      "count    886367.000000\n",
      "mean          4.791151\n",
      "std           3.425305\n",
      "min           1.000000\n",
      "25%           2.000000\n",
      "50%           4.000000\n",
      "75%           9.000000\n",
      "max          10.000000\n",
      "Name: LP_STATUS_FEIN, dtype: float64\n",
      "4854\n",
      "count    886367.000000\n",
      "mean          2.432575\n",
      "std           1.474315\n",
      "min           1.000000\n",
      "25%           1.000000\n",
      "50%           2.000000\n",
      "75%           4.000000\n",
      "max           5.000000\n",
      "Name: LP_STATUS_GROB, dtype: float64\n",
      "4854\n",
      "count    782906.000000\n",
      "mean          1.168889\n",
      "std           0.475075\n",
      "min           1.000000\n",
      "25%           1.000000\n",
      "50%           1.000000\n",
      "75%           1.000000\n",
      "max           3.000000\n",
      "Name: NATIONALITAET_KZ, dtype: float64\n",
      "108315\n",
      "count    780025.000000\n",
      "mean          1.590134\n",
      "std           1.027972\n",
      "min           0.000000\n",
      "25%           1.000000\n",
      "50%           2.000000\n",
      "75%           2.000000\n",
      "max           3.000000\n",
      "Name: SHOPPER_TYP, dtype: float64\n",
      "111196\n",
      "count    817722.000000\n",
      "mean          0.008423\n",
      "std           0.091392\n",
      "min           0.000000\n",
      "25%           0.000000\n",
      "50%           0.000000\n",
      "75%           0.000000\n",
      "max           1.000000\n",
      "Name: SOHO_KZ, dtype: float64\n",
      "73499\n",
      "count    2160.000000\n",
      "mean        1.318519\n",
      "std         0.999504\n",
      "min         1.000000\n",
      "25%         1.000000\n",
      "50%         1.000000\n",
      "75%         1.000000\n",
      "max         5.000000\n",
      "Name: TITEL_KZ, dtype: float64\n",
      "889061\n",
      "count    780025.000000\n",
      "mean          1.511166\n",
      "std           0.499876\n",
      "min           1.000000\n",
      "25%           1.000000\n",
      "50%           2.000000\n",
      "75%           2.000000\n",
      "max           2.000000\n",
      "Name: VERS_TYP, dtype: float64\n",
      "111196\n",
      "count    891221.000000\n",
      "mean          3.362438\n",
      "std           1.352704\n",
      "min           1.000000\n",
      "25%           3.000000\n",
      "50%           3.000000\n",
      "75%           4.000000\n",
      "max           6.000000\n",
      "Name: ZABEOTYP, dtype: float64\n",
      "0\n",
      "count    306609.000000\n",
      "mean          3.410640\n",
      "std           1.628844\n",
      "min           1.000000\n",
      "25%           2.000000\n",
      "50%           3.000000\n",
      "75%           5.000000\n",
      "max           6.000000\n",
      "Name: KK_KUNDENTYP, dtype: float64\n",
      "584612\n",
      "count    798073.000000\n",
      "mean          2.798641\n",
      "std           2.656713\n",
      "min           1.000000\n",
      "25%           1.000000\n",
      "50%           1.000000\n",
      "75%           3.000000\n",
      "max           8.000000\n",
      "Name: GEBAEUDETYP, dtype: float64\n",
      "93148\n",
      "count     798073\n",
      "unique         2\n",
      "top            W\n",
      "freq      629528\n",
      "Name: OST_WEST_KZ, dtype: object\n",
      "93148\n",
      "count     791869\n",
      "unique         9\n",
      "top            8\n",
      "freq      134441\n",
      "Name: CAMEO_DEUG_2015, dtype: object\n",
      "99352\n",
      "count     791869\n",
      "unique        44\n",
      "top           6B\n",
      "freq       56672\n",
      "Name: CAMEO_DEU_2015, dtype: object\n",
      "99352\n"
     ]
    }
   ],
   "source": [
    "# Assess categorical variables: which are binary, which are multi-level, and\n",
    "# which one needs to be re-encoded?\n",
    "cat_vars = feat_info[feat_info['type'] == 'categorical']['attribute'].tolist()\n",
    "\n",
    "for var in cat_vars:\n",
    "    print(azdias[var].describe())\n",
    "    print(azdias[var].isnull().sum())"
   ]
  },
  {
   "cell_type": "code",
   "execution_count": 65,
   "metadata": {},
   "outputs": [
    {
     "data": {
      "text/plain": [
       "W    629528\n",
       "O    168545\n",
       "Name: OST_WEST_KZ, dtype: int64"
      ]
     },
     "execution_count": 65,
     "metadata": {},
     "output_type": "execute_result"
    }
   ],
   "source": [
    "azdias['OST_WEST_KZ'].value_counts()"
   ]
  },
  {
   "cell_type": "code",
   "execution_count": 66,
   "metadata": {},
   "outputs": [],
   "source": [
    "azdias_low['WEST_KZ'] = azdias_low['OST_WEST_KZ'].replace({'W':1, 'O':0})"
   ]
  },
  {
   "cell_type": "code",
   "execution_count": 67,
   "metadata": {},
   "outputs": [
    {
     "data": {
      "text/plain": [
       "1    628987\n",
       "0    168439\n",
       "Name: WEST_KZ, dtype: int64"
      ]
     },
     "execution_count": 67,
     "metadata": {},
     "output_type": "execute_result"
    }
   ],
   "source": [
    "azdias_low['WEST_KZ'].value_counts()"
   ]
  },
  {
   "cell_type": "code",
   "execution_count": 68,
   "metadata": {},
   "outputs": [],
   "source": [
    "def imputer_freq(df, var): #fill in NaN with most common value in column\n",
    "    most_freq = df[var].value_counts().idxmax()\n",
    "    return df[var].fillna(most_freq)"
   ]
  },
  {
   "cell_type": "code",
   "execution_count": 39,
   "metadata": {},
   "outputs": [
    {
     "name": "stdout",
     "output_type": "stream",
     "text": [
      "(797077, 80)\n",
      "(797077, 81)\n",
      "(797077, 82)\n",
      "(797077, 83)\n",
      "(797077, 84)\n",
      "(797077, 85)\n",
      "(797077, 85)\n",
      "(797077, 86)\n",
      "(797077, 87)\n",
      "(797077, 88)\n",
      "(797077, 89)\n",
      "(797077, 90)\n",
      "(797077, 90)\n",
      "(797077, 91)\n",
      "(797077, 92)\n",
      "(797077, 93)\n",
      "(797077, 94)\n",
      "(797077, 95)\n",
      "(797077, 96)\n",
      "(797077, 97)\n",
      "(797077, 98)\n",
      "(797077, 99)\n",
      "(797077, 100)\n",
      "(797077, 101)\n",
      "(797077, 101)\n",
      "(797077, 102)\n",
      "(797077, 103)\n",
      "(797077, 104)\n",
      "(797077, 105)\n",
      "(797077, 106)\n",
      "(797077, 107)\n",
      "(797077, 108)\n",
      "(797077, 109)\n",
      "(797077, 110)\n",
      "(797077, 111)\n",
      "(797077, 111)\n",
      "(797077, 112)\n",
      "(797077, 113)\n",
      "(797077, 114)\n",
      "(797077, 115)\n",
      "(797077, 115)\n",
      "(797077, 116)\n",
      "(797077, 117)\n",
      "(797077, 118)\n",
      "(797077, 119)\n",
      "(797077, 120)\n",
      "(797077, 121)\n",
      "(797077, 122)\n",
      "(797077, 123)\n",
      "(797077, 124)\n",
      "(797077, 124)\n",
      "(797077, 125)\n",
      "(797077, 126)\n",
      "(797077, 127)\n",
      "(797077, 128)\n",
      "(797077, 128)\n",
      "(797077, 129)\n",
      "(797077, 130)\n",
      "(797077, 130)\n",
      "(797077, 131)\n",
      "(797077, 132)\n",
      "(797077, 133)\n",
      "(797077, 133)\n",
      "(797077, 134)\n",
      "(797077, 135)\n",
      "(797077, 136)\n",
      "(797077, 137)\n",
      "(797077, 138)\n",
      "(797077, 138)\n",
      "(797077, 139)\n",
      "(797077, 140)\n",
      "(797077, 141)\n",
      "(797077, 142)\n",
      "(797077, 143)\n",
      "(797077, 144)\n",
      "(797077, 144)\n",
      "(797077, 145)\n",
      "(797077, 146)\n",
      "(797077, 147)\n",
      "(797077, 148)\n",
      "(797077, 149)\n",
      "(797077, 150)\n",
      "(797077, 151)\n",
      "(797077, 152)\n",
      "(797077, 152)\n",
      "(797077, 153)\n",
      "(797077, 154)\n",
      "(797077, 155)\n",
      "(797077, 156)\n",
      "(797077, 157)\n",
      "(797077, 158)\n",
      "(797077, 159)\n",
      "(797077, 160)\n",
      "(797077, 161)\n",
      "(797077, 162)\n",
      "(797077, 163)\n",
      "(797077, 164)\n",
      "(797077, 165)\n",
      "(797077, 166)\n",
      "(797077, 167)\n",
      "(797077, 168)\n",
      "(797077, 169)\n",
      "(797077, 170)\n",
      "(797077, 171)\n",
      "(797077, 172)\n",
      "(797077, 173)\n",
      "(797077, 174)\n",
      "(797077, 175)\n",
      "(797077, 176)\n",
      "(797077, 177)\n",
      "(797077, 178)\n",
      "(797077, 179)\n",
      "(797077, 180)\n",
      "(797077, 181)\n",
      "(797077, 182)\n",
      "(797077, 183)\n",
      "(797077, 184)\n",
      "(797077, 185)\n",
      "(797077, 186)\n",
      "(797077, 187)\n",
      "(797077, 188)\n",
      "(797077, 189)\n",
      "(797077, 190)\n",
      "(797077, 191)\n",
      "(797077, 192)\n",
      "(797077, 193)\n",
      "(797077, 194)\n",
      "(797077, 195)\n"
     ]
    }
   ],
   "source": [
    "one_hot_vars = ['CJT_GESAMTTYP', 'FINANZTYP','GFK_URLAUBERTYP', 'LP_FAMILIE_FEIN', \n",
    "                'LP_FAMILIE_GROB', 'LP_STATUS_FEIN', 'LP_STATUS_GROB', 'NATIONALITAET_KZ', \n",
    "                'SHOPPER_TYP', 'ZABEOTYP', 'GEBAEUDETYP', 'CAMEO_DEUG_2015', 'CAMEO_DEU_2015']\n",
    "for var in one_hot_vars:\n",
    "    imputed_data = imputer_freq(below_tshold, var) \n",
    "    encode = pd.get_dummies(imputed_data, prefix=var) \n",
    "    below_tshold = below_tshold.drop(var, axis=1) \n",
    "    \n",
    "    for col in encode.columns: \n",
    "        below_tshold[col] = encode[col] \n",
    "        print(below_tshold.shape)"
   ]
  },
  {
   "cell_type": "code",
   "execution_count": 75,
   "metadata": {},
   "outputs": [],
   "source": [
    "drop_categorical = ['KK_KUNDENTYP', 'TITEL_KZ', 'AGER_TYP']"
   ]
  },
  {
   "cell_type": "markdown",
   "metadata": {},
   "source": [
    "#### Discussion 1.2.1: Re-Encode Categorical Features\n",
    "\n",
    "Binary values takes numeric values and you can keep them without needing to do anything. For the multi-level values, you can encode dummy values using OneHotEncoder or drop them from the analysis."
   ]
  },
  {
   "cell_type": "markdown",
   "metadata": {},
   "source": [
    "#### Step 1.2.2: Engineer Mixed-Type Features\n",
    "\n",
    "There are a handful of features that are marked as \"mixed\" in the feature summary that require special treatment in order to be included in the analysis. There are two in particular that deserve attention; the handling of the rest are up to your own choices:\n",
    "- \"PRAEGENDE_JUGENDJAHRE\" combines information on three dimensions: generation by decade, movement (mainstream vs. avantgarde), and nation (east vs. west). While there aren't enough levels to disentangle east from west, you should create two new variables to capture the other two dimensions: an interval-type variable for decade, and a binary variable for movement.\n",
    "- \"CAMEO_INTL_2015\" combines information on two axes: wealth and life stage. Break up the two-digit codes by their 'tens'-place and 'ones'-place digits into two new ordinal variables (which, for the purposes of this project, is equivalent to just treating them as their raw numeric values).\n",
    "- If you decide to keep or engineer new features around the other mixed-type features, make sure you note your steps in the Discussion section.\n",
    "\n",
    "Be sure to check `Data_Dictionary.md` for the details needed to finish these tasks."
   ]
  },
  {
   "cell_type": "code",
   "execution_count": 76,
   "metadata": {},
   "outputs": [
    {
     "name": "stdout",
     "output_type": "stream",
     "text": [
      "14.0    188697\n",
      "8.0     145988\n",
      "5.0      86416\n",
      "10.0     85808\n",
      "3.0      55195\n",
      "15.0     42547\n",
      "11.0     35752\n",
      "9.0      33570\n",
      "6.0      25652\n",
      "12.0     24446\n",
      "1.0      21282\n",
      "4.0      20451\n",
      "2.0       7479\n",
      "13.0      5764\n",
      "7.0       4010\n",
      "Name: PRAEGENDE_JUGENDJAHRE, dtype: int64\n"
     ]
    }
   ],
   "source": [
    "# Investigate \"PRAEGENDE_JUGENDJAHRE\" and engineer two new variables.\n",
    "print(azdias['PRAEGENDE_JUGENDJAHRE'].value_counts())\n",
    "decade_mapping = {1:40, 2:40,3:50,4:50,5:60,6:60,7:60,8:70,9:70,10:80,11:80,12:80,13:80,14:90,15:90}\n",
    "avantgarde_mapping ={1:0,2:1,3:0,4:1,5:0,6:1,7:1,8:0,9:1,10:0,11:1,12:0,13:1,14:0,15:1}\n",
    "\n",
    "azdias_low['AVANTGARDE'] = azdias_low['PRAEGENDE_JUGENDJAHRE'].map(avantgarde_mapping)\n",
    "azdias_low['YOUTH_DECADE'] = azdias_low['PRAEGENDE_JUGENDJAHRE'].map(decade_mapping)\n",
    "\n",
    "#impute null values\n",
    "azdias_low['AVANTGARDE'] = imputer_freq(azdias_low, 'AVANTGARDE')\n",
    "azdias_low['YOUTH_DECADE'] = imputer_freq(azdias_low, 'YOUTH_DECADE')"
   ]
  },
  {
   "cell_type": "code",
   "execution_count": 77,
   "metadata": {},
   "outputs": [
    {
     "name": "stdout",
     "output_type": "stream",
     "text": [
      "number of nulls: 6003\n",
      "value counts: 51    133673\n",
      "41     92309\n",
      "24     91099\n",
      "14     62851\n",
      "43     56653\n",
      "54     45376\n",
      "25     39605\n",
      "22     33137\n",
      "23     26667\n",
      "13     26311\n",
      "45     26126\n",
      "55     23939\n",
      "52     20538\n",
      "31     18979\n",
      "34     18517\n",
      "15     16966\n",
      "44     14817\n",
      "12     13234\n",
      "35     10352\n",
      "32     10346\n",
      "33      9928\n",
      "Name: CAMEO_INTL_2015, dtype: int64\n"
     ]
    }
   ],
   "source": [
    "print('number of nulls: %s'%azdias_low['CAMEO_INTL_2015'].isnull().sum())\n",
    "print('value counts: %s' % azdias_low['CAMEO_INTL_2015'].value_counts())"
   ]
  },
  {
   "cell_type": "code",
   "execution_count": 78,
   "metadata": {},
   "outputs": [],
   "source": [
    "def decode_wealth(key):\n",
    "    if(len(str(key))==2):\n",
    "        tens = int(str(key)[0])\n",
    "        return tens\n",
    "    else: return np.nan\n",
    "    \n",
    "def decode_life(key):\n",
    "    if(len(str(key))==2):\n",
    "        ones = int(str(key)[1])\n",
    "        return ones\n",
    "    else: return np.nan"
   ]
  },
  {
   "cell_type": "code",
   "execution_count": 79,
   "metadata": {},
   "outputs": [],
   "source": [
    "azdias_low['CAMEO_INTL_2015_WEALTH'] = azdias_low['CAMEO_INTL_2015'].apply(decode_wealth)\n",
    "azdias_low['CAMEO_INTL_2015_LIFE'] = azdias_low['CAMEO_INTL_2015'].apply(decode_life)\n",
    "\n",
    "#impute nan values\n",
    "azdias_low['CAMEO_INTL_2015_WEALTH'] = imputer_freq(azdias_low, 'CAMEO_INTL_2015_WEALTH')\n",
    "azdias_low['CAMEO_INTL_2015_LIFE'] = imputer_freq(azdias_low, 'CAMEO_INTL_2015_LIFE')"
   ]
  },
  {
   "cell_type": "code",
   "execution_count": 80,
   "metadata": {},
   "outputs": [
    {
     "name": "stdout",
     "output_type": "stream",
     "text": [
      "['LP_LEBENSPHASE_FEIN', 'LP_LEBENSPHASE_GROB', 'WOHNLAGE', 'KBA05_BAUMAX', 'PLZ8_BAUMAX']\n"
     ]
    }
   ],
   "source": [
    "mixed_feat = feat_info[feat_info['type'] == 'mixed']['attribute'].tolist()\n",
    "mixed_feat.remove('PRAEGENDE_JUGENDJAHRE')\n",
    "mixed_feat.remove('CAMEO_INTL_2015')\n",
    "print(mixed_feat)"
   ]
  },
  {
   "cell_type": "code",
   "execution_count": 82,
   "metadata": {},
   "outputs": [
    {
     "name": "stdout",
     "output_type": "stream",
     "text": [
      "LP_LEBENSPHASE_FEIN has 49651 null values\n",
      "LP_LEBENSPHASE_GROB has 46830 null values\n",
      "WOHNLAGE has 0 null values\n"
     ]
    }
   ],
   "source": [
    "#INVESTIGATE REMAINING MIXED-VARS\n",
    "for feat in mixed_feat:\n",
    "    try: print('{0} has {1} null values'.format(feat, azdias_low[feat].isnull().sum()))\n",
    "    except KeyError: mixed_feat.remove(feat);"
   ]
  },
  {
   "cell_type": "code",
   "execution_count": 83,
   "metadata": {},
   "outputs": [
    {
     "name": "stdout",
     "output_type": "stream",
     "text": [
      "LP_LEBENSPHASE_FEIN has 1.0     58722\n",
      "5.0     52400\n",
      "6.0     43334\n",
      "2.0     37148\n",
      "8.0     28837\n",
      "11.0    25369\n",
      "7.0     24950\n",
      "29.0    24880\n",
      "13.0    24811\n",
      "10.0    24469\n",
      "12.0    22275\n",
      "31.0    22261\n",
      "30.0    21147\n",
      "15.0    18966\n",
      "3.0     18756\n",
      "19.0    18586\n",
      "37.0    17500\n",
      "4.0     16478\n",
      "14.0    16354\n",
      "20.0    16287\n",
      "32.0    15763\n",
      "39.0    15132\n",
      "40.0    14108\n",
      "27.0    13800\n",
      "16.0    13633\n",
      "38.0    13099\n",
      "35.0    13011\n",
      "34.0    12422\n",
      "9.0     12111\n",
      "21.0    11966\n",
      "28.0    11543\n",
      "24.0    11309\n",
      "25.0     9849\n",
      "36.0     9656\n",
      "23.0     8628\n",
      "22.0     6831\n",
      "18.0     6805\n",
      "33.0     5724\n",
      "17.0     5487\n",
      "26.0     3368\n",
      "Name: LP_LEBENSPHASE_FEIN, dtype: int64 null values\n",
      "LP_LEBENSPHASE_GROB has 2.0     149521\n",
      "1.0     131104\n",
      "3.0     109623\n",
      "12.0     69495\n",
      "4.0      51186\n",
      "5.0      47165\n",
      "9.0      46027\n",
      "10.0     38024\n",
      "11.0     31157\n",
      "8.0      28711\n",
      "6.0      27425\n",
      "7.0      21158\n",
      "Name: LP_LEBENSPHASE_GROB, dtype: int64 null values\n",
      "WOHNLAGE has 3.0    249592\n",
      "7.0    169269\n",
      "4.0    135906\n",
      "2.0    100328\n",
      "5.0     74305\n",
      "1.0     43891\n",
      "8.0     17394\n",
      "0.0      6741\n",
      "Name: WOHNLAGE, dtype: int64 null values\n",
      "PLZ8_BAUMAX has 1.0    499542\n",
      "5.0     97333\n",
      "2.0     70406\n",
      "4.0     56684\n",
      "3.0     50732\n",
      "Name: PLZ8_BAUMAX, dtype: int64 null values\n"
     ]
    }
   ],
   "source": [
    "for feat in mixed_feat:\n",
    "    print('{0} has {1} null values'.format(feat, azdias_low[feat].value_counts()))"
   ]
  },
  {
   "cell_type": "code",
   "execution_count": 85,
   "metadata": {},
   "outputs": [],
   "source": [
    "rural_map={1:0,2:0,3:0,4:0,5:0,7:1,8:1}\n",
    "azdias_low['RURAL'] = azdias_low['WOHNLAGE'].map(rural_map)\n",
    "azdias_high['RURAL'] = azdias_high['WOHNLAGE'].map(rural_map)"
   ]
  },
  {
   "cell_type": "markdown",
   "metadata": {},
   "source": [
    "#### Discussion 1.2.2: Engineer Mixed-Type Features\n",
    "\n",
    "I replaced the non-numeric binary features with 0 and 1.\n",
    "\n",
    "We kept:\n",
    "    PRAEGENDE_JUGENDJAHRE\n",
    "    CAMEO_INTL_2015\n",
    "    WOHNLAGE\n",
    "    CAMEO_INTL_2015\n",
    "    KBA05_BAUMAX\n",
    "\n"
   ]
  },
  {
   "cell_type": "markdown",
   "metadata": {},
   "source": [
    "#### Step 1.2.3: Complete Feature Selection\n",
    "\n",
    "In order to finish this step up, you need to make sure that your data frame now only has the columns that you want to keep. To summarize, the dataframe should consist of the following:\n",
    "- All numeric, interval, and ordinal type columns from the original dataset.\n",
    "- Binary categorical features (all numerically-encoded).\n",
    "- Engineered features from other multi-level categorical features and mixed features.\n",
    "\n",
    "Make sure that for any new columns that you have engineered, that you've excluded the original columns from the final dataset. Otherwise, their values will interfere with the analysis later on the project. For example, you should not keep \"PRAEGENDE_JUGENDJAHRE\", since its values won't be useful for the algorithm: only the values derived from it in the engineered features you created should be retained. As a reminder, your data should only be from **the subset with few or no missing values**."
   ]
  },
  {
   "cell_type": "code",
   "execution_count": 86,
   "metadata": {},
   "outputs": [
    {
     "name": "stdout",
     "output_type": "stream",
     "text": [
      "cleaning LP_LEBENSPHASE_FEIN:\n",
      "cleaning LP_LEBENSPHASE_GROB:\n",
      "cleaning WOHNLAGE:\n",
      "cleaning PLZ8_BAUMAX:\n",
      "cleaning PRAEGENDE_JUGENDJAHRE:\n",
      "cleaning CAMEO_INTL_2015:\n",
      "cleaning OST_WEST_KZ:\n"
     ]
    }
   ],
   "source": [
    "# Do whatever you need to in order to ensure that the dataframe only contains\n",
    "# the columns that should be passed to the algorithm functions.\n",
    "#double check that features have been dropped\n",
    "one_hot_vars = ['CJT_GESAMTTYP', 'FINANZTYP','GFK_URLAUBERTYP', 'LP_FAMILIE_FEIN', \n",
    "                'LP_FAMILIE_GROB', 'LP_STATUS_FEIN', 'LP_STATUS_GROB', 'NATIONALITAET_KZ', \n",
    "                'SHOPPER_TYP', 'ZABEOTYP', 'GEBAEUDETYP', 'CAMEO_DEUG_2015', 'CAMEO_DEU_2015']\n",
    "drop_categorical = ['KK_KUNDENTYP', 'TITEL_KZ', 'AGER_TYP',\n",
    "                       'LP_LEBENSPHASE_FEIN', 'LP_LEBENSPHASE_GROB', 'WOHNLAGE', 'KBA05_BAUMAX','PLZ8_BAUMAX'] #high error categoricals\n",
    "\n",
    "mixed_cat = ['PRAEGENDE_JUGENDJAHRE', 'CAMEO_INTL_2015']\n",
    "for feature in one_hot_vars+drop_categorical+mixed_cat + ['OST_WEST_KZ']:\n",
    "    if feature in azdias_low.columns:\n",
    "        print('cleaning {0}:'.format(feature))\n",
    "        azdias_low = azdias_low.drop(feature, axis=1)"
   ]
  },
  {
   "cell_type": "markdown",
   "metadata": {},
   "source": [
    "### Step 1.3: Create a Cleaning Function\n",
    "\n",
    "Even though you've finished cleaning up the general population demographics data, it's important to look ahead to the future and realize that you'll need to perform the same cleaning steps on the customer demographics data. In this substep, complete the function below to execute the main feature selection, encoding, and re-engineering steps you performed above. Then, when it comes to looking at the customer data in Step 3, you can just run this function on that DataFrame to get the trimmed dataset in a single step."
   ]
  },
  {
   "cell_type": "code",
   "execution_count": 88,
   "metadata": {},
   "outputs": [],
   "source": [
    "def clean_data(df):\n",
    "    \"\"\"\n",
    "    Perform feature trimming, re-encoding, and engineering for demographics\n",
    "    data\n",
    "    \n",
    "    INPUT: Demographics DataFrame\n",
    "    OUTPUT: Trimmed and cleaned demographics DataFrame\n",
    "    \"\"\"\n",
    "    \n",
    "    '''all main cleaning steps:'''\n",
    "    # convert missing value codes into NaNs, ...\n",
    "    for col in df:\n",
    "        missing_rep = define_missing(feat_info[feat_info['attribute']==col]['missing_or_unknown'].values[0])\n",
    "        if(missing_rep[0] == ''): \n",
    "            df[col] = df[col].replace('', np.nan)\n",
    "        else:\n",
    "            replace_with = [np.nan for i in missing_rep] #create list of None same length as missing_rep\n",
    "            df[col] = df[col].replace(missing_rep, replace_with)\n",
    "    # remove selected columns and rows, ...\n",
    "    features_to_clean = ['AGER_TYP','GEBURTSJAHR','TITEL_KZ', 'ALTER_HH', 'KK_KUNDENTYP',\n",
    "                         'KBA05_BAUMAX']\n",
    "    \n",
    "    df = df.drop(features_to_clean, axis=1)\n",
    "    df['num_null'] = df.isnull().sum(axis=1) #count null for each row\n",
    "    \n",
    "    #keep only low missing value rows\n",
    "    df = df.query('num_null < 21').drop('num_null', axis=1)\n",
    "    \n",
    "    # select, re-encode, and engineer column values.\n",
    "    cat_vars = feat_info[feat_info['type'] == 'categorical']['attribute'].tolist()\n",
    "    mixed_vars = feat_info[feat_info['type'] == 'mixed']['attribute'].tolist()\n",
    "    \n",
    "    #re-encode binary var\n",
    "    df['WEST_KZ'] = df['OST_WEST_KZ'].replace({'W':1, 'O':0})\n",
    "    \n",
    "    #one hot encode\n",
    "    one_hot_vars = ['CJT_GESAMTTYP', 'FINANZTYP','GFK_URLAUBERTYP', 'LP_FAMILIE_FEIN', \n",
    "                'LP_FAMILIE_GROB', 'LP_STATUS_FEIN', 'LP_STATUS_GROB', 'NATIONALITAET_KZ', \n",
    "                'SHOPPER_TYP', 'ZABEOTYP', 'GEBAEUDETYP', 'CAMEO_DEUG_2015', 'CAMEO_DEU_2015']\n",
    "    \n",
    "    for var in one_hot_vars:\n",
    "        imputed_data = imputer_freq(df, var) #fill na-- imputation\n",
    "        encode = pd.get_dummies(imputed_data, prefix=var) #one hot encode\n",
    "\n",
    "        for col in encode.columns: #insert new encoded columns into the dataset\n",
    "            df[col] = encode[col] \n",
    "            \n",
    "    #engineer mixed vars\n",
    "    decade_mapping = {1:40, 2:40,3:50,4:50,5:60,6:60,7:60,8:70,\n",
    "                      9:70,10:80,11:80,12:80,13:80,14:90,15:90}\n",
    "    avantgarde_mapping ={1:0,2:1,3:0,4:1,5:0,6:1,7:1,8:0,\n",
    "                         9:1,10:0,11:1,12:0,13:1,14:0,15:1}\n",
    "    \n",
    "    rural_mapping = {1:0,2:0,3:0,4:0,5:0,7:1,8:1}\n",
    "        #map variables\n",
    "    df['RURAL'] = df['WOHNLAGE'].map(rural_mapping)\n",
    "    df['AVANTGARDE'] = df['PRAEGENDE_JUGENDJAHRE'].map(avantgarde_mapping)\n",
    "    df['YOUTH_DECADE'] = df['PRAEGENDE_JUGENDJAHRE'].map(decade_mapping)\n",
    "    \n",
    "    df['CAMEO_INTL_2015_WEALTH'] = df['CAMEO_INTL_2015'].apply(decode_wealth)\n",
    "    df['CAMEO_INTL_2015_LIFE'] = df['CAMEO_INTL_2015'].apply(decode_life)\n",
    "    \n",
    "    #remove all features either re-encoded, or not needed for analysis\n",
    "    drop_categorical = ['KK_KUNDENTYP', 'TITEL_KZ', 'AGER_TYP',\n",
    "                       'LP_LEBENSPHASE_FEIN', 'LP_LEBENSPHASE_GROB',\n",
    "                        'WOHNLAGE', 'KBA05_BAUMAX','PLZ8_BAUMAX'] #high error categoricals\n",
    "    \n",
    "    shape_before = df.shape[1]\n",
    "    mixed_cat = ['PRAEGENDE_JUGENDJAHRE', 'CAMEO_INTL_2015']\n",
    "    to_drop = one_hot_vars+drop_categorical+mixed_cat+['OST_WEST_KZ']\n",
    "\n",
    "    #already removed in high NaN column cleaning, make sure we dont try to drop again\n",
    "    for removed in ['AGER_TYP','GEBURTSJAHR','TITEL_KZ', 'ALTER_HH', 'KK_KUNDENTYP',\n",
    "                         'KBA05_BAUMAX']:\n",
    "        if removed in to_drop:\n",
    "            to_drop.remove(removed)\n",
    "    \n",
    "    df = df.drop(to_drop, axis=1) \n",
    "\n",
    "    # Return the cleaned dataframe.\n",
    "    \n",
    "    return df\n",
    "        "
   ]
  },
  {
   "cell_type": "markdown",
   "metadata": {},
   "source": [
    "## Step 2: Feature Transformation\n",
    "\n",
    "### Step 2.1: Apply Feature Scaling\n",
    "\n",
    "Before we apply dimensionality reduction techniques to the data, we need to perform feature scaling so that the principal component vectors are not influenced by the natural differences in scale for features. Starting from this part of the project, you'll want to keep an eye on the [API reference page for sklearn](http://scikit-learn.org/stable/modules/classes.html) to help you navigate to all of the classes and functions that you'll need. In this substep, you'll need to check the following:\n",
    "\n",
    "- sklearn requires that data not have missing values in order for its estimators to work properly. So, before applying the scaler to your data, make sure that you've cleaned the DataFrame of the remaining missing values. This can be as simple as just removing all data points with missing data, or applying an [Imputer](https://scikit-learn.org/0.16/modules/generated/sklearn.preprocessing.Imputer.html) to replace all missing values. You might also try a more complicated procedure where you temporarily remove missing values in order to compute the scaling parameters before re-introducing those missing values and applying imputation. Think about how much missing data you have and what possible effects each approach might have on your analysis, and justify your decision in the discussion section below.\n",
    "- For the actual scaling function, a [StandardScaler](http://scikit-learn.org/stable/modules/generated/sklearn.preprocessing.StandardScaler.html) instance is suggested, scaling each feature to mean 0 and standard deviation 1.\n",
    "- For these classes, you can make use of the `.fit_transform()` method to both fit a procedure to the data as well as apply the transformation to the data at the same time. Don't forget to keep the fit sklearn objects handy, since you'll be applying them to the customer demographics data towards the end of the project."
   ]
  },
  {
   "cell_type": "code",
   "execution_count": 89,
   "metadata": {},
   "outputs": [
    {
     "data": {
      "text/plain": [
       "count      193.000000\n",
       "mean      3573.564767\n",
       "std      11363.386643\n",
       "min          0.000000\n",
       "25%          0.000000\n",
       "50%          0.000000\n",
       "75%          0.000000\n",
       "max      64433.000000\n",
       "dtype: float64"
      ]
     },
     "execution_count": 89,
     "metadata": {},
     "output_type": "execute_result"
    }
   ],
   "source": [
    "# If you've not yet cleaned the dataset of all NaN values, then investigate and\n",
    "# do that now.\n",
    "azdias_low.isnull().sum(axis=0).describe()"
   ]
  },
  {
   "cell_type": "code",
   "execution_count": 90,
   "metadata": {},
   "outputs": [
    {
     "data": {
      "text/plain": [
       "ordinal        49\n",
       "categorical    21\n",
       "mixed           7\n",
       "numeric         7\n",
       "interval        1\n",
       "Name: type, dtype: int64"
      ]
     },
     "execution_count": 90,
     "metadata": {},
     "output_type": "execute_result"
    }
   ],
   "source": [
    "feat_info['type'].value_counts()"
   ]
  },
  {
   "cell_type": "code",
   "execution_count": 91,
   "metadata": {},
   "outputs": [],
   "source": [
    "imputer = Imputer(missing_values='NaN', strategy='most_frequent', axis=0)\n",
    "azdias_imputed = pd.DataFrame(imputer.fit_transform(azdias_low),\n",
    "                              index=azdias_low.index, columns=azdias_low.columns)"
   ]
  },
  {
   "cell_type": "code",
   "execution_count": 92,
   "metadata": {},
   "outputs": [
    {
     "data": {
      "text/plain": [
       "count    797426.0\n",
       "mean          0.0\n",
       "std           0.0\n",
       "min           0.0\n",
       "25%           0.0\n",
       "50%           0.0\n",
       "75%           0.0\n",
       "max           0.0\n",
       "dtype: float64"
      ]
     },
     "execution_count": 92,
     "metadata": {},
     "output_type": "execute_result"
    }
   ],
   "source": [
    "azdias_imputed.isnull().sum(axis=1).describe()"
   ]
  },
  {
   "cell_type": "code",
   "execution_count": 93,
   "metadata": {},
   "outputs": [],
   "source": [
    "# Apply feature scaling to the general population demographics data.\n",
    "scaler = StandardScaler()\n",
    "\n",
    "azdias_scaled = pd.DataFrame(scaler.fit_transform(azdias_imputed),\n",
    "                              index=azdias_imputed.index, columns=azdias_imputed.columns)"
   ]
  },
  {
   "cell_type": "code",
   "execution_count": 94,
   "metadata": {},
   "outputs": [
    {
     "data": {
      "text/html": [
       "<div>\n",
       "<style scoped>\n",
       "    .dataframe tbody tr th:only-of-type {\n",
       "        vertical-align: middle;\n",
       "    }\n",
       "\n",
       "    .dataframe tbody tr th {\n",
       "        vertical-align: top;\n",
       "    }\n",
       "\n",
       "    .dataframe thead th {\n",
       "        text-align: right;\n",
       "    }\n",
       "</style>\n",
       "<table border=\"1\" class=\"dataframe\">\n",
       "  <thead>\n",
       "    <tr style=\"text-align: right;\">\n",
       "      <th></th>\n",
       "      <th>ALTERSKATEGORIE_GROB</th>\n",
       "      <th>ANREDE_KZ</th>\n",
       "      <th>FINANZ_MINIMALIST</th>\n",
       "      <th>FINANZ_SPARER</th>\n",
       "      <th>FINANZ_VORSORGER</th>\n",
       "      <th>FINANZ_ANLEGER</th>\n",
       "      <th>FINANZ_UNAUFFAELLIGER</th>\n",
       "      <th>FINANZ_HAUSBAUER</th>\n",
       "      <th>GREEN_AVANTGARDE</th>\n",
       "      <th>HEALTH_TYP</th>\n",
       "      <th>...</th>\n",
       "      <th>CAMEO_DEU_2015_9A</th>\n",
       "      <th>CAMEO_DEU_2015_9B</th>\n",
       "      <th>CAMEO_DEU_2015_9C</th>\n",
       "      <th>CAMEO_DEU_2015_9D</th>\n",
       "      <th>CAMEO_DEU_2015_9E</th>\n",
       "      <th>AVANTGARDE</th>\n",
       "      <th>YOUTH_DECADE</th>\n",
       "      <th>CAMEO_INTL_2015_WEALTH</th>\n",
       "      <th>CAMEO_INTL_2015_LIFE</th>\n",
       "      <th>RURAL</th>\n",
       "    </tr>\n",
       "  </thead>\n",
       "  <tbody>\n",
       "    <tr>\n",
       "      <th>count</th>\n",
       "      <td>7.974260e+05</td>\n",
       "      <td>7.974260e+05</td>\n",
       "      <td>7.974260e+05</td>\n",
       "      <td>7.974260e+05</td>\n",
       "      <td>7.974260e+05</td>\n",
       "      <td>7.974260e+05</td>\n",
       "      <td>7.974260e+05</td>\n",
       "      <td>7.974260e+05</td>\n",
       "      <td>7.974260e+05</td>\n",
       "      <td>7.974260e+05</td>\n",
       "      <td>...</td>\n",
       "      <td>7.974260e+05</td>\n",
       "      <td>7.974260e+05</td>\n",
       "      <td>7.974260e+05</td>\n",
       "      <td>7.974260e+05</td>\n",
       "      <td>7.974260e+05</td>\n",
       "      <td>7.974260e+05</td>\n",
       "      <td>7.974260e+05</td>\n",
       "      <td>7.974260e+05</td>\n",
       "      <td>7.974260e+05</td>\n",
       "      <td>7.974260e+05</td>\n",
       "    </tr>\n",
       "    <tr>\n",
       "      <th>mean</th>\n",
       "      <td>8.509483e-17</td>\n",
       "      <td>8.277811e-17</td>\n",
       "      <td>1.346548e-16</td>\n",
       "      <td>-8.425725e-17</td>\n",
       "      <td>-3.776250e-17</td>\n",
       "      <td>-9.630418e-17</td>\n",
       "      <td>1.835286e-16</td>\n",
       "      <td>-8.126334e-17</td>\n",
       "      <td>-1.561111e-17</td>\n",
       "      <td>-8.625319e-17</td>\n",
       "      <td>...</td>\n",
       "      <td>-2.060988e-17</td>\n",
       "      <td>3.715659e-18</td>\n",
       "      <td>-1.407852e-18</td>\n",
       "      <td>1.045464e-16</td>\n",
       "      <td>5.556559e-17</td>\n",
       "      <td>-1.561111e-17</td>\n",
       "      <td>-3.827753e-16</td>\n",
       "      <td>4.856197e-17</td>\n",
       "      <td>4.130886e-17</td>\n",
       "      <td>3.727688e-17</td>\n",
       "    </tr>\n",
       "    <tr>\n",
       "      <th>std</th>\n",
       "      <td>1.000001e+00</td>\n",
       "      <td>1.000001e+00</td>\n",
       "      <td>1.000001e+00</td>\n",
       "      <td>1.000001e+00</td>\n",
       "      <td>1.000001e+00</td>\n",
       "      <td>1.000001e+00</td>\n",
       "      <td>1.000001e+00</td>\n",
       "      <td>1.000001e+00</td>\n",
       "      <td>1.000001e+00</td>\n",
       "      <td>1.000001e+00</td>\n",
       "      <td>...</td>\n",
       "      <td>1.000001e+00</td>\n",
       "      <td>1.000001e+00</td>\n",
       "      <td>1.000001e+00</td>\n",
       "      <td>1.000001e+00</td>\n",
       "      <td>1.000001e+00</td>\n",
       "      <td>1.000001e+00</td>\n",
       "      <td>1.000001e+00</td>\n",
       "      <td>1.000001e+00</td>\n",
       "      <td>1.000001e+00</td>\n",
       "      <td>1.000001e+00</td>\n",
       "    </tr>\n",
       "    <tr>\n",
       "      <th>min</th>\n",
       "      <td>-1.766334e+00</td>\n",
       "      <td>-1.043765e+00</td>\n",
       "      <td>-1.494609e+00</td>\n",
       "      <td>-1.155304e+00</td>\n",
       "      <td>-1.766955e+00</td>\n",
       "      <td>-1.249881e+00</td>\n",
       "      <td>-1.184467e+00</td>\n",
       "      <td>-1.502317e+00</td>\n",
       "      <td>-5.305674e-01</td>\n",
       "      <td>-1.633717e+00</td>\n",
       "      <td>...</td>\n",
       "      <td>-1.625923e-01</td>\n",
       "      <td>-1.895778e-01</td>\n",
       "      <td>-1.798523e-01</td>\n",
       "      <td>-1.928439e-01</td>\n",
       "      <td>-8.974298e-02</td>\n",
       "      <td>-5.305674e-01</td>\n",
       "      <td>-2.316187e+00</td>\n",
       "      <td>-1.551476e+00</td>\n",
       "      <td>-1.249157e+00</td>\n",
       "      <td>-5.528315e-01</td>\n",
       "    </tr>\n",
       "    <tr>\n",
       "      <th>25%</th>\n",
       "      <td>-7.828722e-01</td>\n",
       "      <td>-1.043765e+00</td>\n",
       "      <td>-7.686897e-01</td>\n",
       "      <td>-1.155304e+00</td>\n",
       "      <td>-1.040726e+00</td>\n",
       "      <td>-1.249881e+00</td>\n",
       "      <td>-1.184467e+00</td>\n",
       "      <td>-7.920337e-01</td>\n",
       "      <td>-5.305674e-01</td>\n",
       "      <td>-3.116745e-01</td>\n",
       "      <td>...</td>\n",
       "      <td>-1.625923e-01</td>\n",
       "      <td>-1.895778e-01</td>\n",
       "      <td>-1.798523e-01</td>\n",
       "      <td>-1.928439e-01</td>\n",
       "      <td>-8.974298e-02</td>\n",
       "      <td>-5.305674e-01</td>\n",
       "      <td>-9.502996e-01</td>\n",
       "      <td>-8.696736e-01</td>\n",
       "      <td>-1.249157e+00</td>\n",
       "      <td>-5.528315e-01</td>\n",
       "    </tr>\n",
       "    <tr>\n",
       "      <th>50%</th>\n",
       "      <td>2.005893e-01</td>\n",
       "      <td>9.580705e-01</td>\n",
       "      <td>-4.276997e-02</td>\n",
       "      <td>1.914482e-01</td>\n",
       "      <td>4.117312e-01</td>\n",
       "      <td>1.082835e-01</td>\n",
       "      <td>-4.697522e-01</td>\n",
       "      <td>-8.175029e-02</td>\n",
       "      <td>-5.305674e-01</td>\n",
       "      <td>-3.116745e-01</td>\n",
       "      <td>...</td>\n",
       "      <td>-1.625923e-01</td>\n",
       "      <td>-1.895778e-01</td>\n",
       "      <td>-1.798523e-01</td>\n",
       "      <td>-1.928439e-01</td>\n",
       "      <td>-8.974298e-02</td>\n",
       "      <td>-5.305674e-01</td>\n",
       "      <td>4.155877e-01</td>\n",
       "      <td>4.939317e-01</td>\n",
       "      <td>9.484474e-02</td>\n",
       "      <td>-5.528315e-01</td>\n",
       "    </tr>\n",
       "    <tr>\n",
       "      <th>75%</th>\n",
       "      <td>1.184051e+00</td>\n",
       "      <td>9.580705e-01</td>\n",
       "      <td>6.831497e-01</td>\n",
       "      <td>8.648242e-01</td>\n",
       "      <td>1.137960e+00</td>\n",
       "      <td>7.873659e-01</td>\n",
       "      <td>9.596769e-01</td>\n",
       "      <td>6.285331e-01</td>\n",
       "      <td>-5.305674e-01</td>\n",
       "      <td>1.010368e+00</td>\n",
       "      <td>...</td>\n",
       "      <td>-1.625923e-01</td>\n",
       "      <td>-1.895778e-01</td>\n",
       "      <td>-1.798523e-01</td>\n",
       "      <td>-1.928439e-01</td>\n",
       "      <td>-8.974298e-02</td>\n",
       "      <td>-5.305674e-01</td>\n",
       "      <td>1.098531e+00</td>\n",
       "      <td>1.175734e+00</td>\n",
       "      <td>7.668454e-01</td>\n",
       "      <td>-5.528315e-01</td>\n",
       "    </tr>\n",
       "    <tr>\n",
       "      <th>max</th>\n",
       "      <td>1.184051e+00</td>\n",
       "      <td>9.580705e-01</td>\n",
       "      <td>1.409069e+00</td>\n",
       "      <td>1.538200e+00</td>\n",
       "      <td>1.137960e+00</td>\n",
       "      <td>1.466448e+00</td>\n",
       "      <td>1.674391e+00</td>\n",
       "      <td>1.338816e+00</td>\n",
       "      <td>1.884775e+00</td>\n",
       "      <td>1.010368e+00</td>\n",
       "      <td>...</td>\n",
       "      <td>6.150354e+00</td>\n",
       "      <td>5.274880e+00</td>\n",
       "      <td>5.560118e+00</td>\n",
       "      <td>5.185540e+00</td>\n",
       "      <td>1.114293e+01</td>\n",
       "      <td>1.884775e+00</td>\n",
       "      <td>1.098531e+00</td>\n",
       "      <td>1.175734e+00</td>\n",
       "      <td>1.438846e+00</td>\n",
       "      <td>1.808870e+00</td>\n",
       "    </tr>\n",
       "  </tbody>\n",
       "</table>\n",
       "<p>8 rows × 193 columns</p>\n",
       "</div>"
      ],
      "text/plain": [
       "       ALTERSKATEGORIE_GROB     ANREDE_KZ  FINANZ_MINIMALIST  FINANZ_SPARER  \\\n",
       "count          7.974260e+05  7.974260e+05       7.974260e+05   7.974260e+05   \n",
       "mean           8.509483e-17  8.277811e-17       1.346548e-16  -8.425725e-17   \n",
       "std            1.000001e+00  1.000001e+00       1.000001e+00   1.000001e+00   \n",
       "min           -1.766334e+00 -1.043765e+00      -1.494609e+00  -1.155304e+00   \n",
       "25%           -7.828722e-01 -1.043765e+00      -7.686897e-01  -1.155304e+00   \n",
       "50%            2.005893e-01  9.580705e-01      -4.276997e-02   1.914482e-01   \n",
       "75%            1.184051e+00  9.580705e-01       6.831497e-01   8.648242e-01   \n",
       "max            1.184051e+00  9.580705e-01       1.409069e+00   1.538200e+00   \n",
       "\n",
       "       FINANZ_VORSORGER  FINANZ_ANLEGER  FINANZ_UNAUFFAELLIGER  \\\n",
       "count      7.974260e+05    7.974260e+05           7.974260e+05   \n",
       "mean      -3.776250e-17   -9.630418e-17           1.835286e-16   \n",
       "std        1.000001e+00    1.000001e+00           1.000001e+00   \n",
       "min       -1.766955e+00   -1.249881e+00          -1.184467e+00   \n",
       "25%       -1.040726e+00   -1.249881e+00          -1.184467e+00   \n",
       "50%        4.117312e-01    1.082835e-01          -4.697522e-01   \n",
       "75%        1.137960e+00    7.873659e-01           9.596769e-01   \n",
       "max        1.137960e+00    1.466448e+00           1.674391e+00   \n",
       "\n",
       "       FINANZ_HAUSBAUER  GREEN_AVANTGARDE    HEALTH_TYP      ...       \\\n",
       "count      7.974260e+05      7.974260e+05  7.974260e+05      ...        \n",
       "mean      -8.126334e-17     -1.561111e-17 -8.625319e-17      ...        \n",
       "std        1.000001e+00      1.000001e+00  1.000001e+00      ...        \n",
       "min       -1.502317e+00     -5.305674e-01 -1.633717e+00      ...        \n",
       "25%       -7.920337e-01     -5.305674e-01 -3.116745e-01      ...        \n",
       "50%       -8.175029e-02     -5.305674e-01 -3.116745e-01      ...        \n",
       "75%        6.285331e-01     -5.305674e-01  1.010368e+00      ...        \n",
       "max        1.338816e+00      1.884775e+00  1.010368e+00      ...        \n",
       "\n",
       "       CAMEO_DEU_2015_9A  CAMEO_DEU_2015_9B  CAMEO_DEU_2015_9C  \\\n",
       "count       7.974260e+05       7.974260e+05       7.974260e+05   \n",
       "mean       -2.060988e-17       3.715659e-18      -1.407852e-18   \n",
       "std         1.000001e+00       1.000001e+00       1.000001e+00   \n",
       "min        -1.625923e-01      -1.895778e-01      -1.798523e-01   \n",
       "25%        -1.625923e-01      -1.895778e-01      -1.798523e-01   \n",
       "50%        -1.625923e-01      -1.895778e-01      -1.798523e-01   \n",
       "75%        -1.625923e-01      -1.895778e-01      -1.798523e-01   \n",
       "max         6.150354e+00       5.274880e+00       5.560118e+00   \n",
       "\n",
       "       CAMEO_DEU_2015_9D  CAMEO_DEU_2015_9E    AVANTGARDE  YOUTH_DECADE  \\\n",
       "count       7.974260e+05       7.974260e+05  7.974260e+05  7.974260e+05   \n",
       "mean        1.045464e-16       5.556559e-17 -1.561111e-17 -3.827753e-16   \n",
       "std         1.000001e+00       1.000001e+00  1.000001e+00  1.000001e+00   \n",
       "min        -1.928439e-01      -8.974298e-02 -5.305674e-01 -2.316187e+00   \n",
       "25%        -1.928439e-01      -8.974298e-02 -5.305674e-01 -9.502996e-01   \n",
       "50%        -1.928439e-01      -8.974298e-02 -5.305674e-01  4.155877e-01   \n",
       "75%        -1.928439e-01      -8.974298e-02 -5.305674e-01  1.098531e+00   \n",
       "max         5.185540e+00       1.114293e+01  1.884775e+00  1.098531e+00   \n",
       "\n",
       "       CAMEO_INTL_2015_WEALTH  CAMEO_INTL_2015_LIFE         RURAL  \n",
       "count            7.974260e+05          7.974260e+05  7.974260e+05  \n",
       "mean             4.856197e-17          4.130886e-17  3.727688e-17  \n",
       "std              1.000001e+00          1.000001e+00  1.000001e+00  \n",
       "min             -1.551476e+00         -1.249157e+00 -5.528315e-01  \n",
       "25%             -8.696736e-01         -1.249157e+00 -5.528315e-01  \n",
       "50%              4.939317e-01          9.484474e-02 -5.528315e-01  \n",
       "75%              1.175734e+00          7.668454e-01 -5.528315e-01  \n",
       "max              1.175734e+00          1.438846e+00  1.808870e+00  \n",
       "\n",
       "[8 rows x 193 columns]"
      ]
     },
     "execution_count": 94,
     "metadata": {},
     "output_type": "execute_result"
    }
   ],
   "source": [
    "azdias_scaled.describe()"
   ]
  },
  {
   "cell_type": "markdown",
   "metadata": {},
   "source": [
    "### Discussion 2.1: Apply Feature Scaling\n",
    "\n",
    "Replaced missing valeus with the most frequent value."
   ]
  },
  {
   "cell_type": "markdown",
   "metadata": {},
   "source": [
    "### Step 2.2: Perform Dimensionality Reduction\n",
    "\n",
    "On your scaled data, you are now ready to apply dimensionality reduction techniques.\n",
    "\n",
    "- Use sklearn's [PCA](http://scikit-learn.org/stable/modules/generated/sklearn.decomposition.PCA.html) class to apply principal component analysis on the data, thus finding the vectors of maximal variance in the data. To start, you should not set any parameters (so all components are computed) or set a number of components that is at least half the number of features (so there's enough features to see the general trend in variability).\n",
    "- Check out the ratio of variance explained by each principal component as well as the cumulative variance explained. Try plotting the cumulative or sequential values using matplotlib's [`plot()`](https://matplotlib.org/api/_as_gen/matplotlib.pyplot.plot.html) function. Based on what you find, select a value for the number of transformed features you'll retain for the clustering part of the project.\n",
    "- Once you've made a choice for the number of components to keep, make sure you re-fit a PCA instance to perform the decided-on transformation."
   ]
  },
  {
   "cell_type": "code",
   "execution_count": 95,
   "metadata": {},
   "outputs": [],
   "source": [
    "# Apply PCA to the data.\n",
    "pca = PCA()\n",
    "pca_fit = pca.fit(azdias_scaled)"
   ]
  },
  {
   "cell_type": "code",
   "execution_count": 96,
   "metadata": {},
   "outputs": [],
   "source": [
    "# Got code from helper_function.py in PCA\n",
    "def scree_plot(pca): \n",
    "    num_components= len(pca.explained_variance_ratio_)\n",
    "    idx = np.arange(num_components)\n",
    "    vals = pca.explained_variance_ratio_\n",
    " \n",
    "    plt.figure(figsize=(15, 10))\n",
    "    ax = plt.subplot(111)\n",
    "    cumvals = np.cumsum(vals)\n",
    "    ax.bar(idx, vals)\n",
    "    ax.plot(idx, cumvals)\n",
    "    for i in range(num_components):\n",
    "        if(i%20 == 0 or i<6):\n",
    "            ax.annotate(r\"%s%%\" % ((str(vals[i]*100)[:4])), (idx[i]+0.2, vals[i]), va=\"bottom\", ha=\"center\", fontsize=8)\n",
    " \n",
    "    ax.xaxis.set_tick_params(width=0, gridOn=True)\n",
    "    ax.yaxis.set_tick_params(width=2, length=12, gridOn=True)\n",
    " \n",
    "    ax.set_xlabel(\"Principal Component\")\n",
    "    ax.set_ylabel(\"Variance Explained (%)\")\n",
    "    plt.title('Explained Variance Per Principal Component')"
   ]
  },
  {
   "cell_type": "code",
   "execution_count": 97,
   "metadata": {},
   "outputs": [
    {
     "data": {
      "image/png": "[encoded data removed]",
      "text/plain": [
       "<matplotlib.figure.Figure at 0x7f369827de10>"
      ]
     },
     "metadata": {
      "needs_background": "light"
     },
     "output_type": "display_data"
    }
   ],
   "source": [
    "# Investigate the variance accounted for by each principal component.\n",
    "scree_plot(pca_fit)"
   ]
  },
  {
   "cell_type": "code",
   "execution_count": 135,
   "metadata": {},
   "outputs": [],
   "source": [
    "# Re-apply PCA to the data while selecting for number of components to retain.\n",
    "pca = PCA(n_components=125)\n",
    "pca.fit(azdias_scaled)\n",
    "pca_data = pca.transform(azdias_scaled)"
   ]
  },
  {
   "cell_type": "code",
   "execution_count": 136,
   "metadata": {},
   "outputs": [
    {
     "data": {
      "text/plain": [
       "(797426, 125)"
      ]
     },
     "execution_count": 136,
     "metadata": {},
     "output_type": "execute_result"
    }
   ],
   "source": [
    "pca_data.shape"
   ]
  },
  {
   "cell_type": "markdown",
   "metadata": {},
   "source": [
    "### Discussion 2.2: Perform Dimensionality Reduction\n",
    "\n",
    "Retained 125 components that explained more than 95% of variace."
   ]
  },
  {
   "cell_type": "markdown",
   "metadata": {},
   "source": [
    "### Step 2.3: Interpret Principal Components\n",
    "\n",
    "Now that we have our transformed principal components, it's a nice idea to check out the weight of each variable on the first few components to see if they can be interpreted in some fashion.\n",
    "\n",
    "As a reminder, each principal component is a unit vector that points in the direction of highest variance (after accounting for the variance captured by earlier principal components). The further a weight is from zero, the more the principal component is in the direction of the corresponding feature. If two features have large weights of the same sign (both positive or both negative), then increases in one tend expect to be associated with increases in the other. To contrast, features with different signs can be expected to show a negative correlation: increases in one variable should result in a decrease in the other.\n",
    "\n",
    "- To investigate the features, you should map each weight to their corresponding feature name, then sort the features according to weight. The most interesting features for each principal component, then, will be those at the beginning and end of the sorted list. Use the data dictionary document to help you understand these most prominent features, their relationships, and what a positive or negative value on the principal component might indicate.\n",
    "- You should investigate and interpret feature associations from the first three principal components in this substep. To help facilitate this, you should write a function that you can call at any time to print the sorted list of feature weights, for the *i*-th principal component. This might come in handy in the next step of the project, when you interpret the tendencies of the discovered clusters."
   ]
  },
  {
   "cell_type": "code",
   "execution_count": 137,
   "metadata": {},
   "outputs": [],
   "source": [
    "# Got code helfrom helper_function.py in PCA\n",
    "def investigate_PC(pca, component, feature_names):\n",
    "    num_out = 10\n",
    "    \n",
    "    if(component <= len(pca.components_)):\n",
    "        pca_feature_map = pd.DataFrame({'weight': pca.components_[component],\n",
    "                                        'name': feature_names})\n",
    "        \n",
    "        pca_feature_map = pca_feature_map.sort_values(by='weight', ascending=False)\n",
    "        \n",
    "        print('Principal Component {}\\n---------------\\n'.format(component+1))\n",
    "        print('TOP {0} PRINCIPAL COMPONENTS \\n {1}'.format(num_out, pca_feature_map.iloc[:num_out,:]))\n",
    "        print('\\n BOTTOM {0} PRINCIPAL COMPONENTS \\n {1}'.format(num_out, pca_feature_map.iloc[-num_out:,:]))\n",
    "            \n",
    "    else:\n",
    "        print('Error in selecting component')"
   ]
  },
  {
   "cell_type": "code",
   "execution_count": 138,
   "metadata": {},
   "outputs": [
    {
     "name": "stdout",
     "output_type": "stream",
     "text": [
      "Principal Component 1\n",
      "---------------\n",
      "\n",
      "TOP 10 PRINCIPAL COMPONENTS \n",
      "        weight                    name\n",
      "110  0.196198      LP_STATUS_GROB_1.0\n",
      "29   0.184257      HH_EINKOMMEN_SCORE\n",
      "190  0.184198  CAMEO_INTL_2015_WEALTH\n",
      "52   0.182683              PLZ8_ANTG3\n",
      "53   0.175970              PLZ8_ANTG4\n",
      "57   0.158971             ORTSGR_KLS9\n",
      "42   0.156777                EWDICHTE\n",
      "7    0.147975        FINANZ_HAUSBAUER\n",
      "39   0.129277             KBA05_ANTG4\n",
      "100  0.126992      LP_STATUS_FEIN_1.0\n",
      "\n",
      " BOTTOM 10 PRINCIPAL COMPONENTS \n",
      "        weight                name\n",
      "113 -0.112923  LP_STATUS_GROB_4.0\n",
      "192 -0.115940               RURAL\n",
      "43  -0.129658          INNENSTADT\n",
      "55  -0.132682            PLZ8_GBZ\n",
      "34  -0.137709         KONSUMNAEHE\n",
      "36  -0.180067         KBA05_ANTG1\n",
      "40  -0.181211           KBA05_GBZ\n",
      "50  -0.183000          PLZ8_ANTG1\n",
      "46  -0.187957          MOBI_REGIO\n",
      "2   -0.191273   FINANZ_MINIMALIST\n"
     ]
    }
   ],
   "source": [
    "# Map weights for the first principal component to corresponding feature names\n",
    "# and then print the linked values, sorted by weight.\n",
    "# HINT: Try defining a function here or in a new cell that you can reuse in the\n",
    "investigate_PC(pca, 0, azdias_scaled.columns)"
   ]
  },
  {
   "cell_type": "code",
   "execution_count": 139,
   "metadata": {},
   "outputs": [
    {
     "name": "stdout",
     "output_type": "stream",
     "text": [
      "Principal Component 2\n",
      "---------------\n",
      "\n",
      "TOP 10 PRINCIPAL COMPONENTS \n",
      "        weight                  name\n",
      "0    0.232889  ALTERSKATEGORIE_GROB\n",
      "4    0.218994      FINANZ_VORSORGER\n",
      "124  0.199978            ZABEOTYP_3\n",
      "17   0.180259             SEMIO_ERL\n",
      "16   0.163505            SEMIO_LUST\n",
      "10   0.155426        RETOURTYP_BK_S\n",
      "30   0.123088        W_KEIT_KIND_HH\n",
      "61   0.108279     CJT_GESAMTTYP_2.0\n",
      "70   0.098996           FINANZTYP_5\n",
      "100  0.097017    LP_STATUS_FEIN_1.0\n",
      "\n",
      " BOTTOM 10 PRINCIPAL COMPONENTS \n",
      "        weight                   name\n",
      "47  -0.161964      ONLINE_AFFINITAET\n",
      "18  -0.165087             SEMIO_KULT\n",
      "19  -0.168245              SEMIO_RAT\n",
      "5   -0.204721         FINANZ_ANLEGER\n",
      "23  -0.205375          SEMIO_PFLICHT\n",
      "24  -0.208002            SEMIO_TRADV\n",
      "13  -0.214557              SEMIO_REL\n",
      "6   -0.214972  FINANZ_UNAUFFAELLIGER\n",
      "3   -0.227059          FINANZ_SPARER\n",
      "189 -0.230622           YOUTH_DECADE\n"
     ]
    }
   ],
   "source": [
    "# Map weights for the second principal component to corresponding feature names\n",
    "# and then print the linked values, sorted by weight.\n",
    "investigate_PC(pca, 1, azdias_scaled.columns)"
   ]
  },
  {
   "cell_type": "code",
   "execution_count": 140,
   "metadata": {},
   "outputs": [
    {
     "name": "stdout",
     "output_type": "stream",
     "text": [
      "Principal Component 3\n",
      "---------------\n",
      "\n",
      "TOP 10 PRINCIPAL COMPONENTS \n",
      "        weight               name\n",
      "15   0.316899         SEMIO_VERT\n",
      "12   0.258536          SEMIO_FAM\n",
      "11   0.255493          SEMIO_SOZ\n",
      "18   0.249722         SEMIO_KULT\n",
      "70   0.137373        FINANZTYP_5\n",
      "2    0.130359  FINANZ_MINIMALIST\n",
      "118  0.122717    SHOPPER_TYP_0.0\n",
      "122  0.119283         ZABEOTYP_1\n",
      "13   0.113029          SEMIO_REL\n",
      "14   0.088321          SEMIO_MAT\n",
      "\n",
      " BOTTOM 10 PRINCIPAL COMPONENTS \n",
      "        weight                name\n",
      "101 -0.079073  LP_STATUS_FEIN_2.0\n",
      "120 -0.092058     SHOPPER_TYP_2.0\n",
      "66  -0.099711         FINANZTYP_1\n",
      "19  -0.152760           SEMIO_RAT\n",
      "5   -0.155240      FINANZ_ANLEGER\n",
      "17  -0.207281           SEMIO_ERL\n",
      "20  -0.266131          SEMIO_KRIT\n",
      "21  -0.279330           SEMIO_DOM\n",
      "22  -0.311478          SEMIO_KAEM\n",
      "1   -0.342268           ANREDE_KZ\n"
     ]
    }
   ],
   "source": [
    "# Map weights for the third principal component to corresponding feature names\n",
    "# and then print the linked values, sorted by weight.\n",
    "investigate_PC(pca, 2, azdias_scaled.columns)"
   ]
  },
  {
   "cell_type": "markdown",
   "metadata": {},
   "source": [
    "### Discussion 2.3: Interpret Principal Components\n",
    "\n",
    "First Principle - Region correlation standard of living\n",
    "--LP_STATUS_GROB_1.0 (low-income earners)\n",
    "--HH_EINKOMMEN_SCORE (net household income)\n",
    "--CAMEO_INTL_2015_WEALTH (lifestyle)\n",
    "--PLZ8_ANTG3 (number of 6-10 family houses)\n",
    "--PLZ8_ANTG4 (number of 10+ family houses)\n",
    "\n",
    "Second Principle - Individual coorelation standard of living\n",
    "--ALTERSKATEGORIE_GROB (Age)\n",
    "--FINANZ_VORSORGER (Financial Typology)\n",
    "--ZABEOTYP_3 (Energy Consumption)\n",
    "--SEMIO_ERL (Personality)\n",
    "\n",
    "Third Principles - Negative correlation with cost of living\n",
    "--LP_STATUS_FEIN_2.0 (low level income)\n",
    "--SHOPPER_TYP_2.0 (Shoper Typology)\n",
    "--FINANZTYP_1 (low financial interest)\n",
    "--FINANZ_ANLEGERSTAT (Financial Typology)"
   ]
  },
  {
   "cell_type": "markdown",
   "metadata": {},
   "source": [
    "## Step 3: Clustering\n",
    "\n",
    "### Step 3.1: Apply Clustering to General Population\n",
    "\n",
    "You've assessed and cleaned the demographics data, then scaled and transformed them. Now, it's time to see how the data clusters in the principal components space. In this substep, you will apply k-means clustering to the dataset and use the average within-cluster distances from each point to their assigned cluster's centroid to decide on a number of clusters to keep.\n",
    "\n",
    "- Use sklearn's [KMeans](http://scikit-learn.org/stable/modules/generated/sklearn.cluster.KMeans.html#sklearn.cluster.KMeans) class to perform k-means clustering on the PCA-transformed data.\n",
    "- Then, compute the average difference from each point to its assigned cluster's center. **Hint**: The KMeans object's `.score()` method might be useful here, but note that in sklearn, scores tend to be defined so that larger is better. Try applying it to a small, toy dataset, or use an internet search to help your understanding.\n",
    "- Perform the above two steps for a number of different cluster counts. You can then see how the average distance decreases with an increasing number of clusters. However, each additional cluster provides a smaller net benefit. Use this fact to select a final number of clusters in which to group the data. **Warning**: because of the large size of the dataset, it can take a long time for the algorithm to resolve. The more clusters to fit, the longer the algorithm will take. You should test for cluster counts through at least 10 clusters to get the full picture, but you shouldn't need to test for a number of clusters above about 30.\n",
    "- Once you've selected a final number of clusters to use, re-fit a KMeans instance to perform the clustering operation. Make sure that you also obtain the cluster assignments for the general demographics data, since you'll be using them in the final Step 3.3."
   ]
  },
  {
   "cell_type": "code",
   "execution_count": 141,
   "metadata": {},
   "outputs": [],
   "source": [
    "model_score=[]\n",
    "clusters = [2,4,6,8,10,12,14,16,18,20]\n",
    "# Over a number of different cluster counts...\n",
    "for i in clusters:\n",
    "    # run k-means clustering on the data and...\n",
    "    kmeans = KMeans(i).fit(pca_data)\n",
    "    \n",
    "    # compute the average within-cluster distances.\n",
    "    model_score.append(abs(kmeans.score(pca_data)))"
   ]
  },
  {
   "cell_type": "code",
   "execution_count": 142,
   "metadata": {},
   "outputs": [
    {
     "data": {
      "image/png": "[encoded data removed]",
      "text/plain": [
       "<matplotlib.figure.Figure at 0x7f36983a69b0>"
      ]
     },
     "metadata": {
      "needs_background": "light"
     },
     "output_type": "display_data"
    }
   ],
   "source": [
    "# Investigate the change in within-cluster distance across number of clusters.\n",
    "# HINT: Use matplotlib's plot function to visualize this relationship.\n",
    "fig, ax = plt.subplots()\n",
    "ax.plot(clusters, model_score)\n",
    "ax.set(ylabel='avg distance', xlabel='# Clusters: k')\n",
    "ax.grid()\n",
    "plt.xticks(np.arange(2,21,2))\n",
    "plt.show()"
   ]
  },
  {
   "cell_type": "code",
   "execution_count": 143,
   "metadata": {},
   "outputs": [
    {
     "data": {
      "text/plain": [
       "(797426, 125)"
      ]
     },
     "execution_count": 143,
     "metadata": {},
     "output_type": "execute_result"
    }
   ],
   "source": [
    "pca_data.shape"
   ]
  },
  {
   "cell_type": "code",
   "execution_count": 145,
   "metadata": {},
   "outputs": [],
   "source": [
    "# Re-fit the k-means model with the selected number of clusters and obtain\n",
    "# cluster predictions for the general population demographics data.\n",
    "kmeans = KMeans(16).fit(pca_data)\n",
    "kmeans_pred = kmeans.predict(pca_data)"
   ]
  },
  {
   "cell_type": "markdown",
   "metadata": {},
   "source": [
    "### Discussion 3.1: Apply Clustering to General Population\n",
    "\n",
    "I decided on 16 clusters.  There is no elbow, but the graph begins to decend at a low rate"
   ]
  },
  {
   "cell_type": "markdown",
   "metadata": {},
   "source": [
    "### Step 3.2: Apply All Steps to the Customer Data\n",
    "\n",
    "Now that you have clusters and cluster centers for the general population, it's time to see how the customer data maps on to those clusters. Take care to not confuse this for re-fitting all of the models to the customer data. Instead, you're going to use the fits from the general population to clean, transform, and cluster the customer data. In the last step of the project, you will interpret how the general population fits apply to the customer data.\n",
    "\n",
    "- Don't forget when loading in the customers data, that it is semicolon (`;`) delimited.\n",
    "- Apply the same feature wrangling, selection, and engineering steps to the customer demographics using the `clean_data()` function you created earlier. (You can assume that the customer demographics data has similar meaning behind missing data patterns as the general demographics data.)\n",
    "- Use the sklearn objects from the general demographics data, and apply their transformations to the customers data. That is, you should not be using a `.fit()` or `.fit_transform()` method to re-fit the old objects, nor should you be creating new sklearn objects! Carry the data through the feature scaling, PCA, and clustering steps, obtaining cluster assignments for all of the data in the customer demographics data."
   ]
  },
  {
   "cell_type": "code",
   "execution_count": 146,
   "metadata": {},
   "outputs": [],
   "source": [
    "# Load in the customer demographics data.\n",
    "customers = pd.read_csv('Udacity_CUSTOMERS_Subset.csv', sep=';')"
   ]
  },
  {
   "cell_type": "code",
   "execution_count": 147,
   "metadata": {},
   "outputs": [
    {
     "data": {
      "text/html": [
       "<div>\n",
       "<style scoped>\n",
       "    .dataframe tbody tr th:only-of-type {\n",
       "        vertical-align: middle;\n",
       "    }\n",
       "\n",
       "    .dataframe tbody tr th {\n",
       "        vertical-align: top;\n",
       "    }\n",
       "\n",
       "    .dataframe thead th {\n",
       "        text-align: right;\n",
       "    }\n",
       "</style>\n",
       "<table border=\"1\" class=\"dataframe\">\n",
       "  <thead>\n",
       "    <tr style=\"text-align: right;\">\n",
       "      <th></th>\n",
       "      <th>AGER_TYP</th>\n",
       "      <th>ALTERSKATEGORIE_GROB</th>\n",
       "      <th>ANREDE_KZ</th>\n",
       "      <th>CJT_GESAMTTYP</th>\n",
       "      <th>FINANZ_MINIMALIST</th>\n",
       "      <th>FINANZ_SPARER</th>\n",
       "      <th>FINANZ_VORSORGER</th>\n",
       "      <th>FINANZ_ANLEGER</th>\n",
       "      <th>FINANZ_UNAUFFAELLIGER</th>\n",
       "      <th>FINANZ_HAUSBAUER</th>\n",
       "      <th>...</th>\n",
       "      <th>PLZ8_ANTG1</th>\n",
       "      <th>PLZ8_ANTG2</th>\n",
       "      <th>PLZ8_ANTG3</th>\n",
       "      <th>PLZ8_ANTG4</th>\n",
       "      <th>PLZ8_BAUMAX</th>\n",
       "      <th>PLZ8_HHZ</th>\n",
       "      <th>PLZ8_GBZ</th>\n",
       "      <th>ARBEIT</th>\n",
       "      <th>ORTSGR_KLS9</th>\n",
       "      <th>RELAT_AB</th>\n",
       "    </tr>\n",
       "  </thead>\n",
       "  <tbody>\n",
       "    <tr>\n",
       "      <th>0</th>\n",
       "      <td>2</td>\n",
       "      <td>4</td>\n",
       "      <td>1</td>\n",
       "      <td>5.0</td>\n",
       "      <td>5</td>\n",
       "      <td>1</td>\n",
       "      <td>5</td>\n",
       "      <td>1</td>\n",
       "      <td>2</td>\n",
       "      <td>2</td>\n",
       "      <td>...</td>\n",
       "      <td>3.0</td>\n",
       "      <td>3.0</td>\n",
       "      <td>1.0</td>\n",
       "      <td>0.0</td>\n",
       "      <td>1.0</td>\n",
       "      <td>5.0</td>\n",
       "      <td>5.0</td>\n",
       "      <td>1.0</td>\n",
       "      <td>2.0</td>\n",
       "      <td>1.0</td>\n",
       "    </tr>\n",
       "    <tr>\n",
       "      <th>1</th>\n",
       "      <td>-1</td>\n",
       "      <td>4</td>\n",
       "      <td>1</td>\n",
       "      <td>NaN</td>\n",
       "      <td>5</td>\n",
       "      <td>1</td>\n",
       "      <td>5</td>\n",
       "      <td>1</td>\n",
       "      <td>3</td>\n",
       "      <td>2</td>\n",
       "      <td>...</td>\n",
       "      <td>NaN</td>\n",
       "      <td>NaN</td>\n",
       "      <td>NaN</td>\n",
       "      <td>NaN</td>\n",
       "      <td>NaN</td>\n",
       "      <td>NaN</td>\n",
       "      <td>NaN</td>\n",
       "      <td>NaN</td>\n",
       "      <td>NaN</td>\n",
       "      <td>NaN</td>\n",
       "    </tr>\n",
       "    <tr>\n",
       "      <th>2</th>\n",
       "      <td>-1</td>\n",
       "      <td>4</td>\n",
       "      <td>2</td>\n",
       "      <td>2.0</td>\n",
       "      <td>5</td>\n",
       "      <td>1</td>\n",
       "      <td>5</td>\n",
       "      <td>1</td>\n",
       "      <td>4</td>\n",
       "      <td>4</td>\n",
       "      <td>...</td>\n",
       "      <td>2.0</td>\n",
       "      <td>3.0</td>\n",
       "      <td>3.0</td>\n",
       "      <td>1.0</td>\n",
       "      <td>3.0</td>\n",
       "      <td>3.0</td>\n",
       "      <td>2.0</td>\n",
       "      <td>3.0</td>\n",
       "      <td>5.0</td>\n",
       "      <td>3.0</td>\n",
       "    </tr>\n",
       "    <tr>\n",
       "      <th>3</th>\n",
       "      <td>1</td>\n",
       "      <td>4</td>\n",
       "      <td>1</td>\n",
       "      <td>2.0</td>\n",
       "      <td>5</td>\n",
       "      <td>1</td>\n",
       "      <td>5</td>\n",
       "      <td>2</td>\n",
       "      <td>1</td>\n",
       "      <td>2</td>\n",
       "      <td>...</td>\n",
       "      <td>3.0</td>\n",
       "      <td>2.0</td>\n",
       "      <td>1.0</td>\n",
       "      <td>0.0</td>\n",
       "      <td>1.0</td>\n",
       "      <td>3.0</td>\n",
       "      <td>4.0</td>\n",
       "      <td>1.0</td>\n",
       "      <td>3.0</td>\n",
       "      <td>1.0</td>\n",
       "    </tr>\n",
       "    <tr>\n",
       "      <th>4</th>\n",
       "      <td>-1</td>\n",
       "      <td>3</td>\n",
       "      <td>1</td>\n",
       "      <td>6.0</td>\n",
       "      <td>3</td>\n",
       "      <td>1</td>\n",
       "      <td>4</td>\n",
       "      <td>4</td>\n",
       "      <td>5</td>\n",
       "      <td>2</td>\n",
       "      <td>...</td>\n",
       "      <td>2.0</td>\n",
       "      <td>4.0</td>\n",
       "      <td>2.0</td>\n",
       "      <td>1.0</td>\n",
       "      <td>2.0</td>\n",
       "      <td>3.0</td>\n",
       "      <td>3.0</td>\n",
       "      <td>3.0</td>\n",
       "      <td>5.0</td>\n",
       "      <td>1.0</td>\n",
       "    </tr>\n",
       "  </tbody>\n",
       "</table>\n",
       "<p>5 rows × 85 columns</p>\n",
       "</div>"
      ],
      "text/plain": [
       "   AGER_TYP  ALTERSKATEGORIE_GROB  ANREDE_KZ  CJT_GESAMTTYP  \\\n",
       "0         2                     4          1            5.0   \n",
       "1        -1                     4          1            NaN   \n",
       "2        -1                     4          2            2.0   \n",
       "3         1                     4          1            2.0   \n",
       "4        -1                     3          1            6.0   \n",
       "\n",
       "   FINANZ_MINIMALIST  FINANZ_SPARER  FINANZ_VORSORGER  FINANZ_ANLEGER  \\\n",
       "0                  5              1                 5               1   \n",
       "1                  5              1                 5               1   \n",
       "2                  5              1                 5               1   \n",
       "3                  5              1                 5               2   \n",
       "4                  3              1                 4               4   \n",
       "\n",
       "   FINANZ_UNAUFFAELLIGER  FINANZ_HAUSBAUER    ...     PLZ8_ANTG1  PLZ8_ANTG2  \\\n",
       "0                      2                 2    ...            3.0         3.0   \n",
       "1                      3                 2    ...            NaN         NaN   \n",
       "2                      4                 4    ...            2.0         3.0   \n",
       "3                      1                 2    ...            3.0         2.0   \n",
       "4                      5                 2    ...            2.0         4.0   \n",
       "\n",
       "   PLZ8_ANTG3  PLZ8_ANTG4  PLZ8_BAUMAX  PLZ8_HHZ  PLZ8_GBZ  ARBEIT  \\\n",
       "0         1.0         0.0          1.0       5.0       5.0     1.0   \n",
       "1         NaN         NaN          NaN       NaN       NaN     NaN   \n",
       "2         3.0         1.0          3.0       3.0       2.0     3.0   \n",
       "3         1.0         0.0          1.0       3.0       4.0     1.0   \n",
       "4         2.0         1.0          2.0       3.0       3.0     3.0   \n",
       "\n",
       "   ORTSGR_KLS9  RELAT_AB  \n",
       "0          2.0       1.0  \n",
       "1          NaN       NaN  \n",
       "2          5.0       3.0  \n",
       "3          3.0       1.0  \n",
       "4          5.0       1.0  \n",
       "\n",
       "[5 rows x 85 columns]"
      ]
     },
     "execution_count": 147,
     "metadata": {},
     "output_type": "execute_result"
    }
   ],
   "source": [
    "customers.head(5)"
   ]
  },
  {
   "cell_type": "code",
   "execution_count": 148,
   "metadata": {},
   "outputs": [],
   "source": [
    "customers_cleaned = clean_data(customers)"
   ]
  },
  {
   "cell_type": "code",
   "execution_count": 149,
   "metadata": {},
   "outputs": [
    {
     "name": "stdout",
     "output_type": "stream",
     "text": [
      "GEBAEUDETYP_5.0\n"
     ]
    }
   ],
   "source": [
    "for column in azdias_scaled.columns:\n",
    "    if column not in customers_cleaned.columns:\n",
    "        print(column)"
   ]
  },
  {
   "cell_type": "code",
   "execution_count": 150,
   "metadata": {},
   "outputs": [],
   "source": [
    "customers_cleaned['GEBAEUDETYP_5.0'] = 0"
   ]
  },
  {
   "cell_type": "code",
   "execution_count": 151,
   "metadata": {},
   "outputs": [
    {
     "data": {
      "text/plain": [
       "KMeans(algorithm='auto', copy_x=True, init='k-means++', max_iter=300,\n",
       "    n_clusters=16, n_init=10, n_jobs=1, precompute_distances='auto',\n",
       "    random_state=None, tol=0.0001, verbose=0)"
      ]
     },
     "execution_count": 151,
     "metadata": {},
     "output_type": "execute_result"
    }
   ],
   "source": [
    "kmeans"
   ]
  },
  {
   "cell_type": "code",
   "execution_count": 152,
   "metadata": {},
   "outputs": [],
   "source": [
    "customer_reduced = pca.transform(scaler.transform(imputer.transform(customers_cleaned)))\n",
    "customer_clusters = kmeans.predict(customer_reduced)"
   ]
  },
  {
   "cell_type": "markdown",
   "metadata": {},
   "source": [
    "### Step 3.3: Compare Customer Data to Demographics Data\n",
    "\n",
    "At this point, you have clustered data based on demographics of the general population of Germany, and seen how the customer data for a mail-order sales company maps onto those demographic clusters. In this final substep, you will compare the two cluster distributions to see where the strongest customer base for the company is.\n",
    "\n",
    "Consider the proportion of persons in each cluster for the general population, and the proportions for the customers. If we think the company's customer base to be universal, then the cluster assignment proportions should be fairly similar between the two. If there are only particular segments of the population that are interested in the company's products, then we should see a mismatch from one to the other. If there is a higher proportion of persons in a cluster for the customer data compared to the general population (e.g. 5% of persons are assigned to a cluster for the general population, but 15% of the customer data is closest to that cluster's centroid) then that suggests the people in that cluster to be a target audience for the company. On the other hand, the proportion of the data in a cluster being larger in the general population than the customer data (e.g. only 2% of customers closest to a population centroid that captures 6% of the data) suggests that group of persons to be outside of the target demographics.\n",
    "\n",
    "Take a look at the following points in this step:\n",
    "\n",
    "- Compute the proportion of data points in each cluster for the general population and the customer data. Visualizations will be useful here: both for the individual dataset proportions, but also to visualize the ratios in cluster representation between groups. Seaborn's [`countplot()`](https://seaborn.pydata.org/generated/seaborn.countplot.html) or [`barplot()`](https://seaborn.pydata.org/generated/seaborn.barplot.html) function could be handy.\n",
    "  - Recall the analysis you performed in step 1.1.3 of the project, where you separated out certain data points from the dataset if they had more than a specified threshold of missing values. If you found that this group was qualitatively different from the main bulk of the data, you should treat this as an additional data cluster in this analysis. Make sure that you account for the number of data points in this subset, for both the general population and customer datasets, when making your computations!\n",
    "- Which cluster or clusters are overrepresented in the customer dataset compared to the general population? Select at least one such cluster and infer what kind of people might be represented by that cluster. Use the principal component interpretations from step 2.3 or look at additional components to help you make this inference. Alternatively, you can use the `.inverse_transform()` method of the PCA and StandardScaler objects to transform centroids back to the original data space and interpret the retrieved values directly.\n",
    "- Perform a similar investigation for the underrepresented clusters. Which cluster or clusters are underrepresented in the customer dataset compared to the general population, and what kinds of people are typified by these clusters?"
   ]
  },
  {
   "cell_type": "code",
   "execution_count": 158,
   "metadata": {},
   "outputs": [],
   "source": [
    "# Compare the proportion of data in each cluster for the customer data to the\n",
    "# proportion of data in each cluster for the general population.\n",
    "gen_pop = azdias_scaled.shape[0]\n",
    "gen_pop_all = azdias.shape[0] \n",
    "\n",
    "customer_pop = customers_cleaned.shape[0]\n",
    "customer_pop_all = customers.shape[0] \n",
    "\n",
    "gen_pop_cluster_count = np.bincount(kmeans_pred)\n",
    "customer_cluster_count = np.bincount(customer_clusters)\n",
    "\n",
    "gen_pop_cluster_prop = [x/gen_pop for x in gen_pop_cluster_count]\n",
    "customer_cluster_prop = [x/customer_pop for x in customer_cluster_count]"
   ]
  },
  {
   "cell_type": "code",
   "execution_count": 161,
   "metadata": {},
   "outputs": [
    {
     "data": {
      "text/plain": [
       "16"
      ]
     },
     "execution_count": 161,
     "metadata": {},
     "output_type": "execute_result"
    }
   ],
   "source": [
    "len(customer_cluster_count) #Troubleshooting ValueError"
   ]
  },
  {
   "cell_type": "code",
   "execution_count": 163,
   "metadata": {},
   "outputs": [
    {
     "data": {
      "text/plain": [
       "16"
      ]
     },
     "execution_count": 163,
     "metadata": {},
     "output_type": "execute_result"
    }
   ],
   "source": [
    "len(gen_pop_cluster_count) #Troubleshooting ValueError"
   ]
  },
  {
   "cell_type": "code",
   "execution_count": 166,
   "metadata": {},
   "outputs": [],
   "source": [
    "prop_data = pd.DataFrame({'gen_pop': gen_pop_cluster_prop, 'customers': customer_cluster_prop})\n",
    "prop_data.index.names=['Cluster']"
   ]
  },
  {
   "cell_type": "code",
   "execution_count": 168,
   "metadata": {},
   "outputs": [],
   "source": [
    "prop_data_all = pd.DataFrame({'gen_pop': [x/gen_pop_all for x in gen_pop_cluster_count], \n",
    "                              'customers': [x/customer_pop_all for x in customer_cluster_count]})\n",
    "prop_data_all.index.names=['Cluster']"
   ]
  },
  {
   "cell_type": "code",
   "execution_count": 169,
   "metadata": {},
   "outputs": [
    {
     "data": {
      "text/plain": [
       "<matplotlib.figure.Figure at 0x7f369c173e80>"
      ]
     },
     "metadata": {},
     "output_type": "display_data"
    },
    {
     "data": {
      "image/png": "[encoded data removed]",
      "text/plain": [
       "<matplotlib.figure.Figure at 0x7f369c173be0>"
      ]
     },
     "metadata": {
      "needs_background": "light"
     },
     "output_type": "display_data"
    }
   ],
   "source": [
    "plt.figure(figsize=(14,4)) \n",
    "fig, (ax1, ax2) = plt.subplots(1,2, sharey=False)\n",
    "fig.suptitle('Cluster COUNT - Low NaN Data')\n",
    "ax1.set_title('General Population')\n",
    "ax2.set_title('Customer Population')\n",
    "sns.countplot(kmeans_pred+1, ax=ax1)\n",
    "sns.countplot(customer_clusters+1, ax=ax2)\n",
    "plt.show()"
   ]
  },
  {
   "cell_type": "code",
   "execution_count": 170,
   "metadata": {},
   "outputs": [
    {
     "data": {
      "text/plain": [
       "<matplotlib.figure.Figure at 0x7f369c173400>"
      ]
     },
     "metadata": {},
     "output_type": "display_data"
    },
    {
     "data": {
      "image/png": "[encoded data removed]",
      "text/plain": [
       "<matplotlib.figure.Figure at 0x7f369c173438>"
      ]
     },
     "metadata": {
      "needs_background": "light"
     },
     "output_type": "display_data"
    }
   ],
   "source": [
    "plt.figure(figsize=(14,4)) # this creates a figure 14 inch wide, 4 inch high\n",
    "fig, (ax1, ax2) = plt.subplots(1,2, sharey=True)\n",
    "fig.suptitle('Cluster PROPORTION - Low NaN Data')\n",
    "ax1.set_title('General Population')\n",
    "ax2.set_title('Customer Population')\n",
    "sns.barplot(x=prop_data.index, y=prop_data.gen_pop, ax=ax1)\n",
    "sns.barplot(x=prop_data.index, y=prop_data.customers, ax=ax2)\n",
    "plt.show()"
   ]
  },
  {
   "cell_type": "code",
   "execution_count": 171,
   "metadata": {},
   "outputs": [
    {
     "data": {
      "text/plain": [
       "<matplotlib.figure.Figure at 0x7f36982d34e0>"
      ]
     },
     "metadata": {},
     "output_type": "display_data"
    },
    {
     "data": {
      "image/png": "[encoded data removed]",
      "text/plain": [
       "<matplotlib.figure.Figure at 0x7f369b022e48>"
      ]
     },
     "metadata": {
      "needs_background": "light"
     },
     "output_type": "display_data"
    }
   ],
   "source": [
    "plt.figure(figsize=(14,4)) # this creates a figure 14 inch wide, 4 inch high\n",
    "fig, (ax1, ax2) = plt.subplots(1,2, sharey=True)\n",
    "fig.suptitle('Cluster Proportion - All Data')\n",
    "ax1.set_title('General Population')\n",
    "ax2.set_title('Customer Population')\n",
    "sns.barplot(x=prop_data_all.index, y=prop_data_all.gen_pop, ax=ax1)\n",
    "sns.barplot(x=prop_data_all.index, y=prop_data_all.customers, ax=ax2)\n",
    "plt.show()"
   ]
  },
  {
   "cell_type": "code",
   "execution_count": 172,
   "metadata": {},
   "outputs": [
    {
     "name": "stdout",
     "output_type": "stream",
     "text": [
      "\n",
      " Cluster Representation - LOW NaN Data\n",
      "----------\n",
      "\n",
      "Cluster 1: OVER represented by 0.48%\n",
      "Cluster 2: UNDER represented by -10.60%\n",
      "Cluster 3: UNDER represented by -3.90%\n",
      "Cluster 4: UNDER represented by -4.20%\n",
      "Cluster 5: OVER represented by 5.42%\n",
      "Cluster 6: UNDER represented by -3.17%\n",
      "Cluster 7: OVER represented by 22.04%\n",
      "Cluster 8: UNDER represented by -3.55%\n",
      "Cluster 9: OVER represented by 2.35%\n",
      "Cluster 10: UNDER represented by -2.45%\n"
     ]
    }
   ],
   "source": [
    "# What kinds of people are part of a cluster that is overrepresented in the\n",
    "# customer data compared to the general population?\n",
    "rep = {}\n",
    "\n",
    "print('\\n Cluster Representation - LOW NaN Data\\n----------\\n')\n",
    "for i in np.arange(0,10):\n",
    "    a = customer_cluster_prop[i]\n",
    "    b = gen_pop_cluster_prop[i]\n",
    "    rep[i+1] = (a-b)*100\n",
    "\n",
    "for x in rep:\n",
    "    if(rep[x]>0):\n",
    "        print('Cluster %s: OVER represented by %.2f%%'% (x, rep[x]))\n",
    "    elif(rep[x]<0):\n",
    "        print('Cluster %s: UNDER represented by %.2f%%'% (x, rep[x]))"
   ]
  },
  {
   "cell_type": "code",
   "execution_count": 173,
   "metadata": {},
   "outputs": [
    {
     "name": "stdout",
     "output_type": "stream",
     "text": [
      "\n",
      " Cluster Over Representation - FULL Population\n",
      "----------\n",
      "\n",
      "Cluster 1: UNDER represented by -0.03%\n",
      "Cluster 2: UNDER represented by -9.62%\n",
      "Cluster 3: UNDER represented by -4.42%\n",
      "Cluster 4: UNDER represented by -3.88%\n",
      "Cluster 5: OVER represented by 3.35%\n",
      "Cluster 6: UNDER represented by -3.83%\n",
      "Cluster 7: OVER represented by 14.60%\n",
      "Cluster 8: UNDER represented by -3.74%\n",
      "Cluster 9: OVER represented by 0.70%\n",
      "Cluster 10: UNDER represented by -2.28%\n"
     ]
    }
   ],
   "source": [
    "full_rep = {}\n",
    "\n",
    "print('\\n Cluster Over Representation - FULL Population\\n----------\\n')\n",
    "for i in np.arange(0,10):\n",
    "    a = prop_data_all.customers.iloc[i]\n",
    "    b = prop_data_all.gen_pop.iloc[i]\n",
    "    full_rep[i+1] = (a-b)*100\n",
    "\n",
    "for x in full_rep:\n",
    "    if(full_rep[x]>0):\n",
    "        print('Cluster %s: OVER represented by %.2f%%'% (x, full_rep[x]))\n",
    "    elif(full_rep[x]<0):\n",
    "        print('Cluster %s: UNDER represented by %.2f%%'% (x, full_rep[x]))"
   ]
  },
  {
   "cell_type": "code",
   "execution_count": 174,
   "metadata": {},
   "outputs": [],
   "source": [
    "def cluster_centers(cluster):\n",
    "    cluster_center = np.around(kmeans.cluster_centers_[cluster-1], decimals=2)\n",
    "    clusters_sorted = cluster_center[np.argsort(cluster_center)[:]]\n",
    "    pca_undone=np.around(pca.inverse_transform(kmeans.cluster_centers_[cluster-1]), \n",
    "                                                 decimals=2)\n",
    "    pca_undone_sorted = pca_undone[np.argsort(pca_undone)[:]]\n",
    "    print('Cluster %s' % cluster)\n",
    "    print('sorted array\\n-----\\n Top 3: %s \\n Bottom 3: %s '% (np.flip(clusters_sorted[-3:],0), \n",
    "                                                               clusters_sorted[:3]))\n",
    "    print('\\n original array\\n-----\\n %s'% cluster_center)\n",
    "    \n",
    "    print('PCA sorted\\n-----\\n Top 3: %s \\n Bottom 3: %s '% (np.flip(pca_undone_sorted[-3:],0), \n",
    "                                                               pca_undone_sorted[:3]))\n",
    "    print('\\n PCA Undone\\n-----\\n %s'% pca_undone)"
   ]
  },
  {
   "cell_type": "code",
   "execution_count": 175,
   "metadata": {},
   "outputs": [
    {
     "name": "stdout",
     "output_type": "stream",
     "text": [
      "Cluster 3\n",
      "sorted array\n",
      "-----\n",
      " Top 3: [ 3.07  2.59  2.46] \n",
      " Bottom 3: [-0.77 -0.57 -0.5 ] \n",
      "\n",
      " original array\n",
      "-----\n",
      " [ 3.07  2.46  2.59 -0.77  0.87 -0.5  -0.06  0.   -0.41 -0.02  0.05 -0.16\n",
      "  0.17  0.12  0.15  0.24  0.73  0.19  0.18  0.09  0.08 -0.2  -0.31  0.28\n",
      "  0.26  0.5  -0.57 -0.14  0.02  0.04  0.15  0.15  0.1   0.31  0.1  -0.03\n",
      " -0.17 -0.41  0.03  0.05 -0.21 -0.07 -0.04 -0.02  0.03 -0.01  0.08 -0.19\n",
      " -0.15  0.1   0.15 -0.04  0.04  0.03  0.09 -0.1   0.01 -0.    0.07  0.04\n",
      "  0.02 -0.02  0.06 -0.05 -0.02 -0.01  0.1  -0.03 -0.01  0.03  0.04 -0.03\n",
      " -0.03 -0.    0.03 -0.02 -0.    0.03 -0.02  0.02 -0.02 -0.02 -0.02 -0.03\n",
      "  0.02  0.04  0.   -0.01 -0.05 -0.04  0.06  0.03  0.06 -0.11 -0.15 -0.03\n",
      "  0.01  0.   -0.02  0.03  0.02 -0.12  0.02  0.01 -0.02  0.09  0.01  0.04\n",
      " -0.01 -0.06 -0.1   0.18 -0.05 -0.04 -0.05 -0.01  0.02  0.01 -0.03  0.01\n",
      "  0.03  0.11  0.03 -0.01  0.02]\n",
      "PCA sorted\n",
      "-----\n",
      " Top 3: [ 1.51  1.05  0.77] \n",
      " Bottom 3: [-0.94 -0.81 -0.79] \n",
      "\n",
      " PCA Undone\n",
      "-----\n",
      " [ 0.39 -0.94  0.03 -0.45  0.55 -0.79 -0.71  0.35 -0.56  0.31  0.69  0.47\n",
      "  0.6   0.02  0.14  0.72  0.23 -0.25  0.53 -0.66 -0.44 -0.6  -0.69 -0.31\n",
      " -0.41 -0.02  0.27 -0.31 -0.06  0.75  0.38  0.09  0.51  0.03 -0.5  -0.25\n",
      " -0.77  0.04  0.54  0.61 -0.81 -0.39  0.62 -0.47 -0.32  0.23 -0.79 -0.65\n",
      "  0.28 -0.24 -0.72  0.48  0.72  0.71  0.13 -0.54  0.46  0.64  0.41 -0.16\n",
      "  0.17 -0.09 -0.05 -0.1  -0.06  0.19 -0.45 -0.32 -0.22 -0.24  0.77  0.32\n",
      " -0.08 -0.1  -0.03  0.21 -0.02 -0.04 -0.11  0.09 -0.18  0.03  0.1   0.03\n",
      "  0.33  0.03 -0.06 -0.09 -0.09 -0.09 -0.1  -0.15 -0.03 -0.15 -0.17  0.33\n",
      "  0.03 -0.14 -0.21 -0.23  1.51 -0.43 -0.26 -0.34 -0.17 -0.17 -0.08 -0.1\n",
      " -0.39 -0.32  1.05 -0.5  -0.19 -0.41 -0.32 -0.1   0.2  -0.11 -0.02  0.02\n",
      "  0.24 -0.26 -0.37 -0.18  0.37 -0.3  -0.31  0.76 -0.27 -0.08  0.19 -0.03\n",
      " -0.   -0.02  0.16 -0.18 -0.31 -0.28 -0.31 -0.15 -0.    0.09  0.42  0.5\n",
      " -0.09 -0.06 -0.05 -0.12 -0.07 -0.12 -0.13 -0.15 -0.18 -0.11 -0.09 -0.16\n",
      " -0.16 -0.18 -0.08 -0.2  -0.07 -0.04 -0.05 -0.11 -0.07 -0.06 -0.   -0.03\n",
      "  0.02 -0.07 -0.    0.01  0.07  0.02  0.01  0.07  0.08  0.05  0.02  0.32\n",
      "  0.11  0.18  0.18  0.14  0.27  0.32  0.27 -0.09 -0.56 -0.53  0.77 -0.44\n",
      " -0.5 ]\n"
     ]
    }
   ],
   "source": [
    "cluster_centers(cluster=3)"
   ]
  },
  {
   "cell_type": "code",
   "execution_count": 176,
   "metadata": {},
   "outputs": [
    {
     "name": "stdout",
     "output_type": "stream",
     "text": [
      "Cluster 8\n",
      "sorted array\n",
      "-----\n",
      " Top 3: [ 1.34  0.59  0.35] \n",
      " Bottom 3: [-3.24 -2.98 -1.59] \n",
      "\n",
      " original array\n",
      "-----\n",
      " [-3.24  1.34 -0.22 -2.98 -0.79 -1.59  0.59 -0.16  0.17 -0.6  -0.58 -0.5\n",
      " -0.13  0.11 -0.2   0.19 -0.26  0.33  0.11 -0.58  0.28 -0.15  0.06 -0.44\n",
      " -0.46 -0.41  0.35  0.06  0.14 -0.17 -0.09 -0.08  0.15 -0.02 -0.02  0.18\n",
      "  0.02  0.1   0.05 -0.03 -0.03 -0.01 -0.06 -0.02 -0.04  0.06 -0.01  0.02\n",
      "  0.    0.05 -0.04 -0.1   0.16  0.11 -0.1   0.06 -0.04 -0.06  0.03  0.07\n",
      "  0.04  0.03 -0.   -0.07 -0.08 -0.03 -0.01  0.   -0.04  0.04  0.01  0.06\n",
      "  0.07 -0.02  0.02  0.01 -0.01  0.03  0.01 -0.02  0.    0.05 -0.06 -0.\n",
      "  0.01 -0.04  0.03 -0.02 -0.01 -0.04 -0.   -0.05  0.07  0.01 -0.16  0.03\n",
      " -0.12 -0.01 -0.08  0.02  0.01 -0.03 -0.03 -0.03  0.04  0.09 -0.   -0.08\n",
      "  0.22  0.04  0.14 -0.14 -0.22 -0.01  0.02 -0.07  0.03 -0.07 -0.   -0.\n",
      " -0.11  0.01  0.01 -0.04  0.02]\n",
      "PCA sorted\n",
      "-----\n",
      " Top 3: [ 1.85  1.64  1.02] \n",
      " Bottom 3: [-0.75 -0.73 -0.72] \n",
      "\n",
      " PCA Undone\n",
      "-----\n",
      " [ 0.54 -0.16  1.02 -0.69  0.56 -0.33 -0.55 -0.72 -0.45 -0.01  0.21 -0.17\n",
      " -0.22 -0.42 -0.37  0.16  0.18  0.28 -0.19 -0.46  0.11 -0.19 -0.2  -0.46\n",
      " -0.46 -0.01 -0.05 -0.71 -0.06 -0.34  0.55 -0.05 -0.42 -0.11  0.56  0.22\n",
      "  0.64 -0.13 -0.51 -0.44  0.71  0.48 -0.75  0.6   0.36  0.16  0.67 -0.47\n",
      "  0.06  0.1   0.62 -0.53 -0.72 -0.65 -0.28  0.37 -0.39 -0.73 -0.4   0.04\n",
      "  0.18  0.52 -0.18 -0.11 -0.13 -0.27 -0.55  0.5  -0.14 -0.23 -0.13  0.42\n",
      " -0.03 -0.05  0.03  0.05  0.23  0.14  0.33 -0.13 -0.22 -0.09 -0.14 -0.\n",
      "  0.88 -0.37 -0.07 -0.11 -0.11 -0.1  -0.15 -0.16 -0.12 -0.43 -0.23  0.88\n",
      " -0.37 -0.17 -0.24 -0.53 -0.47 -0.4  -0.27 -0.32 -0.2  -0.19 -0.11  0.77\n",
      "  1.64 -0.39 -0.71 -0.5  -0.22  1.85 -0.39  0.21 -0.16 -0.12  0.04  0.02\n",
      " -0.07  0.02  0.04 -0.14  0.4  -0.2  -0.32  0.02  0.31  0.45 -0.31  0.16\n",
      " -0.    0.12 -0.17 -0.02  0.17  0.27  0.32 -0.04  0.04 -0.07 -0.28 -0.34\n",
      "  0.01  0.02 -0.01 -0.02 -0.03  0.04  0.17  0.11  0.04  0.03  0.06  0.16\n",
      "  0.22  0.2   0.09  0.21  0.03  0.04  0.01 -0.11  0.07 -0.07 -0.    0.03\n",
      " -0.01  0.12 -0.    0.01 -0.06  0.   -0.   -0.06 -0.07 -0.04  0.01 -0.2\n",
      " -0.13 -0.12 -0.12 -0.13 -0.16 -0.16 -0.17 -0.09 -0.45 -0.58 -0.49  0.27\n",
      "  0.61]\n"
     ]
    }
   ],
   "source": [
    "cluster_centers(cluster=8)"
   ]
  },
  {
   "cell_type": "code",
   "execution_count": 177,
   "metadata": {},
   "outputs": [
    {
     "name": "stdout",
     "output_type": "stream",
     "text": [
      "Cluster 2\n",
      "sorted array\n",
      "-----\n",
      " Top 3: [ 4.98  0.78  0.41] \n",
      " Bottom 3: [-2.36 -2.07 -0.56] \n",
      "\n",
      " original array\n",
      "-----\n",
      " [ 4.98 -2.07 -2.36  0.78 -0.16 -0.29 -0.28 -0.49  0.14  0.41 -0.49 -0.13\n",
      "  0.15 -0.1  -0.05 -0.06 -0.37  0.22 -0.05  0.03  0.05 -0.23  0.32 -0.04\n",
      " -0.56 -0.   -0.02  0.21 -0.05 -0.15 -0.32 -0.24 -0.02 -0.15  0.09  0.01\n",
      "  0.08  0.16 -0.26 -0.15  0.01 -0.1   0.12 -0.   -0.08  0.02 -0.03  0.01\n",
      "  0.02 -0.01  0.05 -0.02 -0.03 -0.01  0.01 -0.03 -0.    0.    0.03  0.01\n",
      "  0.01  0.01  0.02 -0.   -0.   -0.01 -0.04  0.01 -0.02  0.01  0.03  0.02\n",
      "  0.01 -0.    0.01 -0.   -0.01  0.02  0.01 -0.    0.01 -0.   -0.   -0.02\n",
      "  0.02  0.01  0.01  0.01  0.    0.03 -0.01  0.01  0.    0.03 -0.05 -0.05\n",
      " -0.05  0.03 -0.1  -0.06  0.04  0.06 -0.14  0.11 -0.06 -0.   -0.01 -0.01\n",
      "  0.07  0.09 -0.01 -0.03  0.06  0.08 -0.01  0.06  0.05  0.07  0.01 -0.01\n",
      "  0.08  0.03 -0.03  0.02 -0.02]\n",
      "PCA sorted\n",
      "-----\n",
      " Top 3: [ 1.63  1.3   1.24] \n",
      " Bottom 3: [-1.43 -1.03 -0.96] \n",
      "\n",
      " PCA Undone\n",
      "-----\n",
      " [-0.96  0.92 -1.43  1.18 -0.89  1.06  0.84  0.87 -0.49  0.17 -0.56 -0.5\n",
      " -0.1   0.69  0.44 -1.03 -0.47 -0.12 -0.03  1.24  0.51  0.82  0.94  1.\n",
      "  0.92 -0.01  0.04 -0.26 -0.06  0.77 -0.   -0.35  0.4   0.03 -0.54 -0.21\n",
      " -0.69  0.07  0.52  0.47 -0.7  -0.37  0.64 -0.52 -0.33  0.15 -0.72  0.13\n",
      "  0.2  -0.22 -0.69  0.5   0.71  0.68  0.17 -0.49  0.43  0.64  0.42 -0.1\n",
      " -0.25 -0.25  0.1  -0.06  0.24  0.24  1.3  -0.38 -0.24 -0.04 -0.37 -0.5\n",
      " -0.03 -0.07 -0.1  -0.1  -0.17 -0.13 -0.17 -0.03  0.12 -0.03  0.08  0.39\n",
      "  0.21 -0.15  0.13  0.16  0.05  0.03 -0.01 -0.13  0.   -0.12 -0.13  0.21\n",
      " -0.15  0.19 -0.08 -0.17 -0.04  1.63 -0.25 -0.32 -0.21 -0.16 -0.1  -0.14\n",
      " -0.42 -0.36  1.11 -0.49 -0.19 -0.45 -0.36 -0.34  0.18  0.31 -0.25 -0.01\n",
      "  0.4  -0.19 -0.41 -0.17 -0.55  0.54  0.73 -0.05 -0.3  -0.07  0.2  -0.03\n",
      " -0.   -0.02  0.18 -0.16 -0.3  -0.27 -0.3  -0.07 -0.02  0.14  0.35  0.48\n",
      " -0.07 -0.05 -0.05 -0.11 -0.06 -0.12 -0.13 -0.15 -0.18 -0.11 -0.09 -0.15\n",
      " -0.17 -0.19 -0.08 -0.2  -0.06 -0.05  0.02 -0.11 -0.04  0.   -0.01 -0.03\n",
      "  0.04 -0.04  0.   -0.   -0.01 -0.02  0.08  0.11  0.05  0.02 -0.02  0.29\n",
      "  0.17  0.14  0.02  0.26  0.26  0.22  0.24 -0.09 -0.49  0.94  0.71 -0.52\n",
      " -0.52]\n"
     ]
    }
   ],
   "source": [
    "cluster_centers(cluster=2)"
   ]
  },
  {
   "cell_type": "markdown",
   "metadata": {},
   "source": [
    "### Discussion 3.3: Compare Customer Data to Demographics Data\n",
    "\n",
    "Over-Represented Cluster: #8\n",
    "\n",
    "LP_STATUS_FEIN_10.0 is the highest impact feature in the 8th cluster. It represents the highest income housholds and highest social status.\n",
    "'LP_STATUS_GROB_5.0 represents the same aspect but on a less refined scale\n",
    "GREEN_AVANTGARDE is the feature with the third highest impact in the 8th cluster. It represents participation and interest in environmental issues during a person's youth.\n",
    "the least impactful feature in the 8th cluster is HH_EINKOMMEN_SCORE, which corroberates our first point as it is correlated with low income, but high income and status is the biggest definer of our cluster.\n",
    "Therefore, people with a high income and high social status who are also environmentally conscious are significantly over represented in the customer data in comparison to the general population. This is a good target audience for any marketing campaing.\n",
    "\n",
    "Over-Represented Cluster: #2\n",
    "\n",
    "Two of the features cluster two is characterized by are:\n",
    "\n",
    "LP_STATUS_GROB_2.0: average income and social status\n",
    "LP_STATUS_FEIN_4.0: villagers\n",
    "While average earning villagers are over-represented in the customer data, they are more closely represented than the people in cluster #8 above. Nevertheless, it could still probably be worth to target these people in a campaign\n",
    "\n",
    "Under-Represented Cluster: #3\n",
    "\n",
    "LP_STATUS_FEIN_2.0 is the biggest factor in the third cluster, and that represents orientation-seeking low-income earners.\n",
    "FINANZTYP_1 is the second most important factor, and it represents people who are not interested in finance.\n",
    "SEMIO_RAT is a variable that portrays rationality (higher values means less rational).\n",
    "This means that low income people who are both irrational and do not care for finance much are under-represented in the customer population (which makes sense since this is a financial services company)."
   ]
  },
  {
   "cell_type": "markdown",
   "metadata": {},
   "source": [
    "> Congratulations on making it this far in the project! Before you finish, make sure to check through the entire notebook from top to bottom to make sure that your analysis follows a logical flow and all of your findings are documented in **Discussion** cells. Once you've checked over all of your work, you should export the notebook as an HTML document to submit for evaluation. You can do this from the menu, navigating to **File -> Download as -> HTML (.html)**. You will submit both that document and this notebook for your project submission."
   ]
  },
  {
   "cell_type": "code",
   "execution_count": null,
   "metadata": {},
   "outputs": [],
   "source": []
  }
 ],
 "metadata": {
  "kernelspec": {
   "display_name": "Python 3",
   "language": "python",
   "name": "python3"
  },
  "language_info": {
   "codemirror_mode": {
    "name": "ipython",
    "version": 3
   },
   "file_extension": ".py",
   "mimetype": "text/x-python",
   "name": "python",
   "nbconvert_exporter": "python",
   "pygments_lexer": "ipython3",
   "version": "3.6.3"
  }
 },
 "nbformat": 4,
 "nbformat_minor": 2
}
