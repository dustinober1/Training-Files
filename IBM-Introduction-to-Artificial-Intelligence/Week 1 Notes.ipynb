{
  "nbformat": 4,
  "nbformat_minor": 0,
  "metadata": {
    "colab": {
      "provenance": [],
      "authorship_tag": "ABX9TyPHIh2oj2wYmgIkR+eZOrb3"
    },
    "kernelspec": {
      "name": "python3",
      "display_name": "Python 3"
    },
    "language_info": {
      "name": "python"
    }
  },
  "cells": [
    {
      "cell_type": "markdown",
      "source": [
        "# Introducing AI\n",
        "\n",
        "## How do we define intelligence?\n",
        "- Human beings have innate intelligence, defined as the intelligence that governs every activity in our body.\n",
        "- This intelligence is what causes an oak tree to grow out of a little seed, and an elephant to form from a single-celled organism.\n",
        "\n",
        "## Weak or Narrow AI\n",
        "- AI that is applied to a specific domain. For example, language translators, virtual assistants, self-driving cars, AI-powered web searches, recommendation engines, and intelligent spam filters. \n",
        "- Applied AI can perform specific tasks, but not learn new ones, making decisions based on programmed algorithms, and training data.\n",
        "\n",
        "## Strong AI or Generalized AI\n",
        "- AI that can interact and operate a wide variety of independent and unrelated tasks. \n",
        "- It can learn new tasks to solve new problems, and it does this by teaching itself new strategies. \n",
        "- Generalized Intelligence is the combination of many AI strategies that learn from experience and can perform at a human level of intelligence.\n",
        "\n",
        "## Super AI or Conscious AI\n",
        "-  AI with human-level consciousness, which would require it to be self-aware. \n",
        "- Because we are not yet able to adequately define what consciousness is, it is unlikely that we will be able to create a conscious AI in the near future. \n",
        "\n",
        "## AI is the fusion of many fields of study. \n",
        "- Computer science and electrical engineering determine how AI is implemented in software and hardware. \n",
        "- Mathematics and statistics determine viable models and measure performance. \n",
        "\n",
        "Because AI is modeled on how we believe the brain works, psychology and linguistics play an essential role in understanding how AI might work. \n",
        "- And philosophy provides guidance on intelligence and ethical considerations. \n",
        "\n",
        "While the science fiction version of AI may be a distant possibility, we already see more and more AI involved in the decisions we make every day. \n",
        "- Over the years, AI has proven to be useful in different domains, impacting the lives of people and our society in meaningful ways.\n",
        "\n",
        "AI learns by examining examples to create machine learning models based on provided inputs and desired goals. \n",
        "- And it does this in three different ways\n",
        "  - Supervised\n",
        "  - Unsupervised\n",
        "  -Reinforcement Learning."
      ],
      "metadata": {
        "id": "lDILscU82XpS"
      }
    },
    {
      "cell_type": "markdown",
      "source": [
        "# What is AI\n",
        "\n",
        "- AI is about augmenting human intelligence by providing information and evidence that subject matter experts need to make informed decisions. \n",
        "- AI uses mathematical algorithms to examine examples and create machine learning models based on the inputs and desired outputs.\n"
      ],
      "metadata": {
        "id": "_j4OWPTq4e2N"
      }
    },
    {
      "cell_type": "markdown",
      "source": [
        "# Tanmay's Journey and take on AI\n",
        "\n",
        "- AI can process vast amounts of both structured and unstructured human data to understand patterns. "
      ],
      "metadata": {
        "id": "v-JkmRLj6ZWE"
      }
    },
    {
      "cell_type": "markdown",
      "source": [
        "# Impact and Examples of AI\n",
        "\n",
        "- Computer Vision is the reason self-driving cars can steer their way on streets and highways and avoid hitting obstacles.\n",
        "- Computer Vision make it possible to find symptoms in X-Ray and MRI scans and even detect cancerous moles in skin images.\n",
        "- AI-powered advances in speech synthesis (text-to-speech rather than speech-to-text) have made it possible for machines to re-create a specific human's voice.\n",
        "  - One of the applications of this technology is to help speech-impaired patients talk in their real voice in place of a computerized voice when they type what they want to say.\n"
      ],
      "metadata": {
        "id": "y3xA2phW7FYt"
      }
    },
    {
      "cell_type": "markdown",
      "source": [
        "# Application Domains for AI\n",
        "- Using a machine learning algorithm trained with previous diagnosis data to assist physicians with their findings is a use of AI technology. \n"
      ],
      "metadata": {
        "id": "_PgPIyAX7Fft"
      }
    },
    {
      "cell_type": "markdown",
      "source": [
        "# Some Applications of AI\n",
        "- In Healthcare, while AI is being used to support doctors arrive at more accurate preliminary diagnoses, it is not yet being used to make precise disease diagnoses independently. "
      ],
      "metadata": {
        "id": "-2mZgRkv7FmF"
      }
    },
    {
      "cell_type": "markdown",
      "source": [
        "# More Applications of AI\n",
        "- Different movements of the human body correspond to specific parts of the brain that control these movements. \n",
        "  - By creating massive data sets of information of how people move and how that corresponds to different areas of the brain, AI-powered robots are able to trigger specific movements in the human body which in turn create new neural pathways in the brain. "
      ],
      "metadata": {
        "id": "jbi_sCnc7Fs3"
      }
    },
    {
      "cell_type": "markdown",
      "source": [
        "# Famous applications of AI from IBM\n",
        "- Watson analyzed Grammy nominated song lyrics over the last 60 years to identify the emotional themes in music and categorize them on the basis of emotions such as joy, sadness, and other emotions. "
      ],
      "metadata": {
        "id": "sEf2otw3E2CC"
      }
    },
    {
      "cell_type": "markdown",
      "source": [
        "# Quiz\n",
        "- While AI can involve simulation or imitation of intelligent human behavior, it is not solely about machines having human intelligence. \n",
        "  - It also involves machines augmenting human intelligence by extending human capabilities.\n",
        "- Strong or Generalized AI can perform independent tasks and teach itself new strategies to solve new problems.\n",
        "- AI is the fusion of all of these fields of study, and more. While Philosophy provides guidance on intelligence and ethical considerations in the application of AI, Mathematics and Statistics help determine viable learning models and measure performance.\n",
        "- In Healthcare, while AI is being used to support doctors arrive at more accurate preliminary diagnoses, it is not yet being used to replace one-on-one interactions between doctors and patients.\n",
        "- The Natural Language Processing and Natural Language Generation capabilities of AI make it possible for machines and humans to interact with each other using natural language. \n",
        "  - Examples of this include Watson, Alexa, Siri, Cortana, and Google Assistant.\n",
        "- Computer vision algorithms are helping doctors arrive at more accurate preliminary diagnoses. \n",
        "  - AI-powered advancements in this technology make it possible to find symptoms in X-Ray and MRI scans and even detect cancerous moles in skin images. \n",
        "- Collaborative robots being used in homes to support us in our personal tasks such doing laundry independently is certainly a future possibility but not yet a reality.\n",
        "- The app that uses machine learning algorithms trained on previous diagnosis data to suggest diagnosis and assist the physician in their findings is very much an application of AI. \n",
        "- The following are applications of Artificial Intelligence in action\n",
        "  -  IBM Watson utilizing its information retrieval capabilities to provide technical information to oil and gas company workers.\n",
        "  - Watson analyzing Grammy nominated song lyrics over a 60-year period and categorizing them based on their emotions.\n",
        "  - Assisting patients with neurological damage by detecting patterns in massive movement related datasets and using robots to trigger specific movements in the human body to create new neural pathways in the brain.\n",
        "  - Law enforcement authorities using facial recognition algorithms to identify suspects in multiple streams of video footage"
      ],
      "metadata": {
        "id": "qI2zZIFwE2M6"
      }
    }
  ]
}