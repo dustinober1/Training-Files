{
 "cells": [
  {
   "cell_type": "code",
   "execution_count": null,
   "id": "3c61253f",
   "metadata": {},
   "outputs": [],
   "source": [
    "import pandas as pd"
   ]
  },
  {
   "cell_type": "code",
   "execution_count": null,
   "id": "10b8cfd8",
   "metadata": {},
   "outputs": [],
   "source": [
    "data_files = [\n",
    "    \"ap_2010.csv\",\n",
    "    \"class_size.csv\",\n",
    "    \"demographics.csv\",\n",
    "    \"graduation.csv\",\n",
    "    \"hs_directory.csv\",\n",
    "    \"sat_results.csv\"\n",
    "]\n"
   ]
  },
  {
   "cell_type": "code",
   "execution_count": null,
   "id": "2f00d3ee",
   "metadata": {},
   "outputs": [],
   "source": [
    "data = {}\n",
    "for f in data_files:\n",
    "    d = pd.read_csv(\"{0}\".format(f))\n",
    "    key_name = f.replace(\".csv\", \"\")\n",
    "    data[key_name] = d"
   ]
  },
  {
   "cell_type": "code",
   "execution_count": null,
   "id": "517a0225",
   "metadata": {},
   "outputs": [],
   "source": [
    "print(data[\"sat_results\"].head())"
   ]
  },
  {
   "cell_type": "code",
   "execution_count": null,
   "id": "a669b454",
   "metadata": {},
   "outputs": [],
   "source": [
    "for k in data:\n",
    "    print(data[k].head())"
   ]
  },
  {
   "cell_type": "code",
   "execution_count": null,
   "id": "b6b9837a",
   "metadata": {},
   "outputs": [],
   "source": [
    "all_survey = pd.read_csv(\"survey_all.txt\", delimiter=\"\\t\", encoding='windows-1252')\n",
    "d75_survey = pd.read_csv(\"survey_d75.txt\", delimiter=\"\\t\", encoding='windows-1252')\n",
    "survey = pd.concat([all_survey, d75_survey], axis=0)\n",
    "print(survey.head())"
   ]
  },
  {
   "cell_type": "code",
   "execution_count": null,
   "id": "ac9944a3",
   "metadata": {},
   "outputs": [],
   "source": [
    "survey[\"DBN\"] = survey['dbn']\n",
    "survey_fields = [\n",
    "    \"DBN\", \n",
    "    \"rr_s\", \n",
    "    \"rr_t\", \n",
    "    \"rr_p\", \n",
    "    \"N_s\", \n",
    "    \"N_t\", \n",
    "    \"N_p\", \n",
    "    \"saf_p_11\", \n",
    "    \"com_p_11\", \n",
    "    \"eng_p_11\", \n",
    "    \"aca_p_11\", \n",
    "    \"saf_t_11\", \n",
    "    \"com_t_11\", \n",
    "    \"eng_t_11\", \n",
    "    \"aca_t_11\", \n",
    "    \"saf_s_11\", \n",
    "    \"com_s_11\", \n",
    "    \"eng_s_11\", \n",
    "    \"aca_s_11\", \n",
    "    \"saf_tot_11\", \n",
    "    \"com_tot_11\", \n",
    "    \"eng_tot_11\", \n",
    "    \"aca_tot_11\",\n",
    "]\n",
    "\n",
    "survey = survey.loc[:, survey_fields]\n",
    "data[\"survey\"] = survey\n",
    "\n",
    "print(survey.head())"
   ]
  },
  {
   "cell_type": "code",
   "execution_count": null,
   "id": "4590d04b",
   "metadata": {},
   "outputs": [],
   "source": [
    "data[\"hs_directory\"][\"DBN\"] = data[\"hs_directory\"][\"dbn\"]\n",
    "\n",
    "def pad_csd(num):\n",
    "    return str(num).zfill(2)\n",
    "    \n",
    "data[\"class_size\"][\"padded_csd\"] = data[\"class_size\"][\"CSD\"].apply(pad_csd)\n",
    "data[\"class_size\"][\"DBN\"] = data[\"class_size\"][\"padded_csd\"] + data[\"class_size\"][\"SCHOOL CODE\"]\n",
    "print(data[\"class_size\"].head())"
   ]
  },
  {
   "cell_type": "code",
   "execution_count": null,
   "id": "33e346e6",
   "metadata": {},
   "outputs": [],
   "source": [
    "cols = ['SAT Math Avg. Score', \n",
    "        'SAT Critical Reading Avg. Score',\n",
    "        'SAT Writing Avg. Score']\n",
    "\n",
    "for c in cols:\n",
    "    data['sat_results'][c] = pd.to_numeric(data[\"sat_results\"][c], errors='coerce')\n",
    "\n",
    "data['sat_results']['sat_score'] = data['sat_results'][cols[0]] + data['sat_results'][cols[1]] + data['sat_results'][cols[2]]\n",
    "print(data['sat_results']['sat_score'].head())"
   ]
  },
  {
   "cell_type": "code",
   "execution_count": null,
   "id": "1317e9aa",
   "metadata": {},
   "outputs": [],
   "source": [
    "import re\n",
    "def find_lat(loc):\n",
    "    coords = re.findall(\"\\(.+\\)\", loc)\n",
    "    lat = coords[0].split(\",\")[0].replace(\"(\", \"\")\n",
    "    return lat\n",
    "\n",
    "data[\"hs_directory\"][\"lat\"] = data[\"hs_directory\"][\"Location 1\"].apply(find_lat)\n",
    "\n",
    "print(data[\"hs_directory\"].head())"
   ]
  },
  {
   "cell_type": "code",
   "execution_count": null,
   "id": "092a178c",
   "metadata": {},
   "outputs": [],
   "source": [
    "def find_lon(loc):\n",
    "    coords = re.findall(\"\\(.+\\)\", loc)\n",
    "    lon = coords[0].split(\",\")[0].replace(\"(\", \"\")\n",
    "    return lon\n",
    "\n",
    "data[\"hs_directory\"][\"lon\"] = data[\"hs_directory\"][\"Location 1\"].apply(find_lon)\n",
    "\n",
    "data[\"hs_directory\"][\"lat\"] = pd.to_numeric(data[\"hs_directory\"][\"lat\"], errors = \"coerce\")\n",
    "data[\"hs_directory\"][\"lon\"] = pd.to_numeric(data[\"hs_directory\"][\"lon\"], errors = \"coerce\")"
   ]
  },
  {
   "cell_type": "code",
   "execution_count": null,
   "id": "9c82a812",
   "metadata": {},
   "outputs": [],
   "source": [
    "class_size = data[\"class_size\"]\n",
    "class_size = class_size[class_size[\"GRADE \"] == \"09-12\"]\n",
    "class_size = class_size[class_size[\"PROGRAM TYPE\"] == \"GEN ED\"]\n",
    "print(class_size.head())"
   ]
  },
  {
   "cell_type": "code",
   "execution_count": 14,
   "id": "02d3d508",
   "metadata": {},
   "outputs": [],
   "source": [
    "import numpy as np"
   ]
  },
  {
   "cell_type": "code",
   "execution_count": 15,
   "id": "f68494f6",
   "metadata": {},
   "outputs": [
    {
     "name": "stdout",
     "output_type": "stream",
     "text": [
      "      DBN\n",
      "0  01M292\n",
      "1  01M448\n",
      "2  01M450\n",
      "3  01M458\n",
      "4  01M509\n"
     ]
    },
    {
     "name": "stderr",
     "output_type": "stream",
     "text": [
      "/var/folders/57/05cp9bfn4450_hcf9fb_7pf40000gn/T/ipykernel_7527/914849166.py:1: FutureWarning: Dropping invalid columns in DataFrameGroupBy.mean is deprecated. In a future version, a TypeError will be raised. Before calling .mean, select only columns which should be valid for the function.\n",
      "  class_size = class_size.groupby(\"DBN\").agg(np.mean)\n"
     ]
    }
   ],
   "source": [
    "class_size = class_size.groupby(\"DBN\").agg(np.mean)\n",
    "class_size.reset_index(inplace=True)\n",
    "data[\"class_size\"] = class_size\n",
    "print(data[\"class_size\"].head())"
   ]
  },
  {
   "cell_type": "code",
   "execution_count": 16,
   "id": "05da29b6",
   "metadata": {},
   "outputs": [
    {
     "name": "stdout",
     "output_type": "stream",
     "text": [
      "       DBN                                              Name  schoolyear  \\\n",
      "6   01M015  P.S. 015 ROBERTO CLEMENTE                           20112012   \n",
      "13  01M019  P.S. 019 ASHER LEVY                                 20112012   \n",
      "20  01M020  PS 020 ANNA SILVER                                  20112012   \n",
      "27  01M034  PS 034 FRANKLIN D ROOSEVELT                         20112012   \n",
      "35  01M063  PS 063 WILLIAM MCKINLEY                             20112012   \n",
      "\n",
      "   fl_percent  frl_percent  total_enrollment prek    k grade1 grade2  ...  \\\n",
      "6         NaN         89.4               189   13   31     35     28  ...   \n",
      "13        NaN         61.5               328   32   46     52     54  ...   \n",
      "20        NaN         92.5               626   52  102    121     87  ...   \n",
      "27        NaN         99.7               401   14   34     38     36  ...   \n",
      "35        NaN         78.9               176   18   20     30     21  ...   \n",
      "\n",
      "   black_num black_per hispanic_num hispanic_per white_num white_per male_num  \\\n",
      "6         63      33.3          109         57.7         4       2.1     97.0   \n",
      "13        81      24.7          158         48.2        28       8.5    147.0   \n",
      "20        55       8.8          357         57.0        16       2.6    330.0   \n",
      "27        90      22.4          275         68.6         8       2.0    204.0   \n",
      "35        41      23.3          110         62.5        15       8.5     97.0   \n",
      "\n",
      "   male_per female_num female_per  \n",
      "6      51.3       92.0       48.7  \n",
      "13     44.8      181.0       55.2  \n",
      "20     52.7      296.0       47.3  \n",
      "27     50.9      197.0       49.1  \n",
      "35     55.1       79.0       44.9  \n",
      "\n",
      "[5 rows x 38 columns]\n"
     ]
    }
   ],
   "source": [
    "data[\"demographics\"] = data[\"demographics\"][data[\"demographics\"][\"schoolyear\"] == 20112012]\n",
    "print(data[\"demographics\"].head())"
   ]
  },
  {
   "cell_type": "code",
   "execution_count": 17,
   "id": "9cfaf72e",
   "metadata": {},
   "outputs": [
    {
     "name": "stdout",
     "output_type": "stream",
     "text": [
      "     Demographic     DBN                            School Name Cohort  \\\n",
      "3   Total Cohort  01M292  HENRY STREET SCHOOL FOR INTERNATIONAL   2006   \n",
      "10  Total Cohort  01M448    UNIVERSITY NEIGHBORHOOD HIGH SCHOOL   2006   \n",
      "17  Total Cohort  01M450             EAST SIDE COMMUNITY SCHOOL   2006   \n",
      "24  Total Cohort  01M509                MARTA VALLE HIGH SCHOOL   2006   \n",
      "31  Total Cohort  01M515  LOWER EAST SIDE PREPARATORY HIGH SCHO   2006   \n",
      "\n",
      "    Total Cohort Total Grads - n  Total Grads - % of cohort Total Regents - n  \\\n",
      "3             78              43                       55.1                36   \n",
      "10           124              53                       42.7                42   \n",
      "17            90              70                       77.8                67   \n",
      "24            84              47                       56.0                40   \n",
      "31           193             105                       54.4                91   \n",
      "\n",
      "    Total Regents - % of cohort  Total Regents - % of grads  ...  \\\n",
      "3                          46.2                        83.7  ...   \n",
      "10                         33.9                        79.2  ...   \n",
      "17                         74.4                        95.7  ...   \n",
      "24                         47.6                        85.1  ...   \n",
      "31                         47.2                        86.7  ...   \n",
      "\n",
      "   Regents w/o Advanced - n  Regents w/o Advanced - % of cohort  \\\n",
      "3                        36                                46.2   \n",
      "10                       34                                27.4   \n",
      "17                       67                                74.4   \n",
      "24                       23                                27.4   \n",
      "31                       22                                11.4   \n",
      "\n",
      "    Regents w/o Advanced - % of grads Local - n  Local - % of cohort  \\\n",
      "3                                83.7         7                  9.0   \n",
      "10                               64.2        11                  8.9   \n",
      "17                               95.7         3                  3.3   \n",
      "24                               48.9         7                  8.3   \n",
      "31                               21.0        14                  7.3   \n",
      "\n",
      "    Local - % of grads Still Enrolled - n  Still Enrolled - % of cohort  \\\n",
      "3                 16.3                 16                          20.5   \n",
      "10                20.8                 46                          37.1   \n",
      "17                 4.3                 15                          16.7   \n",
      "24                14.9                 25                          29.8   \n",
      "31                13.3                 53                          27.5   \n",
      "\n",
      "    Dropped Out - n Dropped Out - % of cohort  \n",
      "3                11                      14.1  \n",
      "10               20                      16.1  \n",
      "17                5                       5.6  \n",
      "24                5                       6.0  \n",
      "31               35                      18.1  \n",
      "\n",
      "[5 rows x 23 columns]\n"
     ]
    }
   ],
   "source": [
    "data[\"graduation\"] = data[\"graduation\"][data[\"graduation\"][\"Cohort\"]==\"2006\"]\n",
    "data[\"graduation\"] = data[\"graduation\"][data[\"graduation\"][\"Demographic\"]==\"Total Cohort\"]\n",
    "print(data[\"graduation\"].head())"
   ]
  },
  {
   "cell_type": "markdown",
   "id": "e75809e6",
   "metadata": {},
   "source": [
    "# Converting AP Test Scores\n"
   ]
  },
  {
   "cell_type": "markdown",
   "id": "9c3baaa8",
   "metadata": {},
   "source": [
    "We're almost ready to combine all of the datasets. The last thing to do is convert the Advanced Placement (AP) test scores from strings to numeric values. High school students take the AP exams before applying to college. There are several AP exams, each corresponding to a school subject. High school students who earn high scores may receive college credit.\n",
    "\n",
    "AP exams have a 1 to 5 scale; 3 or higher is a passing score. Many high school students take AP exams -- particularly those who attend academically challenging institutions. AP exams are rarer in schools that lack funding or academic rigor.\n",
    "\n",
    "It will be interesting to find out whether AP exam scores are correlated with SAT scores across high schools. To determine this, we'll need to convert the AP exam scores in the ap_2010 data set to numeric values first.\n",
    "\n",
    "There are three columns we'll need to convert:\n",
    "\n",
    "    AP Test Takers (note that there's a trailing space in the column name)\n",
    "    Total Exams Taken\n",
    "    Number of Exams with scores 3 4 or 5"
   ]
  },
  {
   "cell_type": "markdown",
   "id": "4e20b17b",
   "metadata": {},
   "source": [
    "## Instructions\n",
    "\n",
    "Convert each of the following columns in ap_2010 to numeric values using the pandas.to_numeric() function with the keyword argument errors=\"coerce\".\n",
    "    \n",
    "    AP Test Takers\n",
    "    Total Exams Taken\n",
    "    Number of Exams with scores 3 4 or 5\n",
    "\n",
    "Display the column types using the dtypes attribute."
   ]
  },
  {
   "cell_type": "code",
   "execution_count": 18,
   "id": "56670eef",
   "metadata": {},
   "outputs": [
    {
     "name": "stdout",
     "output_type": "stream",
     "text": [
      "DBN                                      object\n",
      "SchoolName                               object\n",
      "AP Test Takers                          float64\n",
      "Total Exams Taken                       float64\n",
      "Number of Exams with scores 3 4 or 5    float64\n",
      "dtype: object\n"
     ]
    }
   ],
   "source": [
    "cols = [\"AP Test Takers \", \n",
    "        \"Total Exams Taken\", \n",
    "        \"Number of Exams with scores 3 4 or 5\"]\n",
    "\n",
    "for col in cols:\n",
    "    data[\"ap_2010\"][col] = pd.to_numeric(data[\"ap_2010\"][col], errors=\"coerce\")\n",
    "    \n",
    "print(data[\"ap_2010\"].dtypes)"
   ]
  },
  {
   "cell_type": "markdown",
   "id": "13e018ad",
   "metadata": {},
   "source": [
    "# Left, Right, Inner, and Outer Joins\n",
    "\n",
    "Before we merge our data, we'll need to decide on the merge strategy we want to use. We'll be using the pandas pandas.DataFrame.merge() function, which supports four types of joins -- left, right, inner, and outer. Each of these join types dictates how pandas combines the rows.\n",
    "\n",
    "We'll be using the DBN column to identify matching rows across datasets. In other words, the values in that column help us know which row from the first dataset to combine with which row in the second dataset.\n",
    "\n",
    "There may be DBN values that exist in one dataset but not in another. This is partly because the data is from different years. Each data set also has inconsistencies in terms of how it was gathered. Human error (and other types of errors) may also play a role. Therefore, we may not find matches for the DBN values in sat_results in all of the other datasets and other datasets may have DBN values that don't exist in sat_results.\n",
    "\n",
    "We'll merge two datasets at a time. For example, we'll merge sat_results and hs_directory, then merge the result with ap_2010, then merge the result of that with class_size. We'll continue combining datasets in this way until we've merged all of them. Afterwards, we'll have roughly the same number of rows, but each row has columns from all of the datasets.\n",
    "\n",
    "The merge strategy we pick affects the number of rows we end up with. Let's take a look at each strategy.\n",
    "\n",
    "Let's say we're merging the following two datasets:\n",
    "\n",
    "With an inner merge, we'd only combine rows where the same DBN exists in both datasets. We'd end up with this result:\n",
    "\n",
    "With a left merge, we'd only use DBN values from the dataframe on the \"left\" of the merge. In this case, sat_results is on the left. Some of the DBNs in sat_results don't exist in class_size, though. The merge handles this by assiging null values to the columns in sat_results that don't have corresponding data in class_size.\n",
    "\n",
    "With a right merge, we'll only use DBN values from the dataframe on the \"right\" of the merge. In this case, class_size is on the right:\n",
    "\n",
    "With an outer merge, we'll take any DBN values from either sat_results or class_size:\n",
    "\n",
    "As you can see, each merge strategy has its advantages. Depending on the strategy we choose, we may preserve rows at the expense of having more missing column data or minimize missing data at the expense of having fewer rows. Choosing a merge strategy is an important decision; it's worth thinking about your data carefully and what trade-offs you're willing to make.\n",
    "\n",
    "Since this project is concerned with determining demographic factors that correlate with SAT score, we'll want to preserve as many rows as possible from sat_results while minimizing null values.\n"
   ]
  },
  {
   "cell_type": "markdown",
   "id": "f86d9245",
   "metadata": {},
   "source": [
    "# Performing the Left Joins\n",
    "\n",
    "Both the ap_2010 and the graduation datasets have many missing DBN values, so we'll use a left join when we merge the sat_results data set with them. Since we're using a left join, our final dataframe will have all of the same DBN values as the original sat_results dataframe.\n",
    "\n",
    "We'll need to use the pandas df.merge() method to merge dataframes. The \"left\" dataframe is the one we call the method on, and the \"right\" dataframe is the one we pass into df.merge().\n",
    "\n",
    "Because we're using the DBN column to join the dataframes, we'll need to specify the keyword argument on=\"DBN\" when calling pandas.DataFrame.merge().\n",
    "\n",
    "First, we'll assign data[\"sat_results\"] to the variable combined. Then, we'll merge the other dataframes with combined. When we're finished, combined has columns from all of the datasets."
   ]
  },
  {
   "cell_type": "markdown",
   "id": "8980aa95",
   "metadata": {},
   "source": [
    "## Instructions\n",
    "\n",
    "Use the pandas pandas.DataFrame.merge() method to merge the ap_2010 dataset into combined.\n",
    "    \n",
    "    Make sure to specify how=\"left\" as a keyword argument to indicate the correct join type.\n",
    "    Make sure to assign the result of the merge operation back to combined.\n",
    "\n",
    "Use the pandas df.merge() method to merge the graduation dataset into combined.\n",
    "    \n",
    "    Make sure to specify how=\"left\" as a keyword argument to get the correct join type.\n",
    "    Make sure to assign the result of the merge operation back to combined.\n",
    "\n",
    "Display the first few rows of combined to verify that the correct operations occurred.\n",
    "\n",
    "Use the pandas.DataFrame.shape attribute to display the shape of the dataframe and see how many rows now exist."
   ]
  },
  {
   "cell_type": "code",
   "execution_count": 22,
   "id": "eb95a77a",
   "metadata": {},
   "outputs": [
    {
     "name": "stdout",
     "output_type": "stream",
     "text": [
      "      DBN                                    SCHOOL NAME  \\\n",
      "0  01M292  HENRY STREET SCHOOL FOR INTERNATIONAL STUDIES   \n",
      "1  01M448            UNIVERSITY NEIGHBORHOOD HIGH SCHOOL   \n",
      "2  01M450                     EAST SIDE COMMUNITY SCHOOL   \n",
      "3  01M458                      FORSYTH SATELLITE ACADEMY   \n",
      "4  01M509                        MARTA VALLE HIGH SCHOOL   \n",
      "\n",
      "  Num of SAT Test Takers  SAT Critical Reading Avg. Score  \\\n",
      "0                     29                            355.0   \n",
      "1                     91                            383.0   \n",
      "2                     70                            377.0   \n",
      "3                      7                            414.0   \n",
      "4                     44                            390.0   \n",
      "\n",
      "   SAT Math Avg. Score  SAT Writing Avg. Score  sat_score  \\\n",
      "0                404.0                   363.0     1122.0   \n",
      "1                423.0                   366.0     1172.0   \n",
      "2                402.0                   370.0     1149.0   \n",
      "3                401.0                   359.0     1174.0   \n",
      "4                433.0                   384.0     1207.0   \n",
      "\n",
      "                     SchoolName  AP Test Takers   Total Exams Taken  ...  \\\n",
      "0                           NaN              NaN                NaN  ...   \n",
      "1  UNIVERSITY NEIGHBORHOOD H.S.             39.0               49.0  ...   \n",
      "2        EAST SIDE COMMUNITY HS             19.0               21.0  ...   \n",
      "3                           NaN              NaN                NaN  ...   \n",
      "4                           NaN              NaN                NaN  ...   \n",
      "\n",
      "   Regents w/o Advanced - n Regents w/o Advanced - % of cohort  \\\n",
      "0                        36                               46.2   \n",
      "1                        34                               27.4   \n",
      "2                        67                               74.4   \n",
      "3                       NaN                                NaN   \n",
      "4                        23                               27.4   \n",
      "\n",
      "  Regents w/o Advanced - % of grads Local - n  Local - % of cohort  \\\n",
      "0                              83.7         7                  9.0   \n",
      "1                              64.2        11                  8.9   \n",
      "2                              95.7         3                  3.3   \n",
      "3                               NaN       NaN                  NaN   \n",
      "4                              48.9         7                  8.3   \n",
      "\n",
      "  Local - % of grads  Still Enrolled - n Still Enrolled - % of cohort  \\\n",
      "0               16.3                  16                         20.5   \n",
      "1               20.8                  46                         37.1   \n",
      "2                4.3                  15                         16.7   \n",
      "3                NaN                 NaN                          NaN   \n",
      "4               14.9                  25                         29.8   \n",
      "\n",
      "   Dropped Out - n  Dropped Out - % of cohort  \n",
      "0               11                       14.1  \n",
      "1               20                       16.1  \n",
      "2                5                        5.6  \n",
      "3              NaN                        NaN  \n",
      "4                5                        6.0  \n",
      "\n",
      "[5 rows x 33 columns]\n",
      "(479, 33)\n"
     ]
    }
   ],
   "source": [
    "combined = data[\"sat_results\"]\n",
    "combined = combined.merge(data[\"ap_2010\"], \n",
    "                          on=\"DBN\", \n",
    "                          how=\"left\")\n",
    "combined = combined.merge(data[\"graduation\"], \n",
    "                          on=\"DBN\", \n",
    "                          how=\"left\")\n",
    "print(combined.head(5))\n",
    "print(combined.shape)"
   ]
  },
  {
   "cell_type": "markdown",
   "id": "408e5ab0",
   "metadata": {},
   "source": [
    "# Performing the Inner Joins\n",
    "\n",
    "Now that we've performed the left joins, we still have to merge class_size, demographics, survey, and hs_directory into combined. Since these files contain information that's more valuable to our analysis and also have fewer missing DBN values, we'll use the inner join type."
   ]
  },
  {
   "cell_type": "markdown",
   "id": "c1da8473",
   "metadata": {},
   "source": [
    "## Instructions\n",
    "Merge class_size into combined. Then, merge demographics, survey, and hs_directory into combined one by one, in that order.\n",
    "\n",
    "    Be sure to follow the exact order above.\n",
    "    Remember to specify the correct column to join on, as well as the correct join type.\n",
    "\n",
    "Display the first few rows of combined to verify that the correct operations occurred.\n",
    "\n",
    "Use the pandas.DataFrame.shape attribute to display the shape of the dataframe to see how many rows now exist."
   ]
  },
  {
   "cell_type": "code",
   "execution_count": 23,
   "id": "bc0b5bb1",
   "metadata": {},
   "outputs": [
    {
     "name": "stdout",
     "output_type": "stream",
     "text": [
      "      DBN                                        SCHOOL NAME  \\\n",
      "0  01M292      HENRY STREET SCHOOL FOR INTERNATIONAL STUDIES   \n",
      "1  01M448                UNIVERSITY NEIGHBORHOOD HIGH SCHOOL   \n",
      "2  01M450                         EAST SIDE COMMUNITY SCHOOL   \n",
      "3  01M509                            MARTA VALLE HIGH SCHOOL   \n",
      "4  01M539  NEW EXPLORATIONS INTO SCIENCE, TECHNOLOGY AND ...   \n",
      "\n",
      "  Num of SAT Test Takers  SAT Critical Reading Avg. Score  \\\n",
      "0                     29                            355.0   \n",
      "1                     91                            383.0   \n",
      "2                     70                            377.0   \n",
      "3                     44                            390.0   \n",
      "4                    159                            522.0   \n",
      "\n",
      "   SAT Math Avg. Score  SAT Writing Avg. Score  sat_score  \\\n",
      "0                404.0                   363.0     1122.0   \n",
      "1                423.0                   366.0     1172.0   \n",
      "2                402.0                   370.0     1149.0   \n",
      "3                433.0                   384.0     1207.0   \n",
      "4                574.0                   525.0     1621.0   \n",
      "\n",
      "                       SchoolName  AP Test Takers   Total Exams Taken  ...  \\\n",
      "0                             NaN              NaN                NaN  ...   \n",
      "1    UNIVERSITY NEIGHBORHOOD H.S.             39.0               49.0  ...   \n",
      "2          EAST SIDE COMMUNITY HS             19.0               21.0  ...   \n",
      "3                             NaN              NaN                NaN  ...   \n",
      "4  NEW EXPLORATIONS SCI,TECH,MATH            255.0              377.0  ...   \n",
      "\n",
      "   priority10                                         Location 1  \\\n",
      "0         NaN  220 Henry Street\\nNew York, NY 10002\\n(40.7137...   \n",
      "1         NaN  200 Monroe Street\\nNew York, NY 10002\\n(40.712...   \n",
      "2         NaN  420 East 12 Street\\nNew York, NY 10009\\n(40.72...   \n",
      "3         NaN  145 Stanton Street\\nNew York, NY 10002\\n(40.72...   \n",
      "4         NaN  111 Columbia Street\\nNew York, NY 10002\\n(40.7...   \n",
      "\n",
      "  Community Board Council District  Census Tract        BIN           BBL  \\\n",
      "0             3.0              1.0         201.0  1003223.0  1.002690e+09   \n",
      "1             3.0              1.0         202.0  1003214.0  1.002590e+09   \n",
      "2             3.0              2.0          34.0  1005974.0  1.004390e+09   \n",
      "3             3.0              1.0        3001.0  1004323.0  1.003540e+09   \n",
      "4             3.0              2.0        2201.0  1004070.0  1.003350e+09   \n",
      "\n",
      "                                                 NTA        lat        lon  \n",
      "0  Lower East Side                               ...  40.713764  40.713764  \n",
      "1  Lower East Side                               ...  40.712332  40.712332  \n",
      "2  East Village                                  ...  40.729783  40.729783  \n",
      "3  Chinatown                                     ...  40.720569  40.720569  \n",
      "4  Lower East Side                               ...  40.718725  40.718725  \n",
      "\n",
      "[5 rows x 158 columns]\n",
      "(368, 158)\n"
     ]
    }
   ],
   "source": [
    "to_merge = [\"class_size\", \"demographics\", \"survey\", \"hs_directory\"]\n",
    "\n",
    "for m in to_merge:\n",
    "    combined = combined.merge(data[m], \n",
    "                              on=\"DBN\",\n",
    "                              how=\"inner\")\n",
    "\n",
    "print(combined.head(5))\n",
    "print(combined.shape)"
   ]
  },
  {
   "cell_type": "markdown",
   "id": "89b68404",
   "metadata": {},
   "source": [
    "# Filling in Missing Values\n",
    "\n",
    "You may have noticed that the inner joins resulted in 116 fewer rows in sat_results. This is because pandas couldn't find the DBN values that existed in sat_results in the other datasets. While this is worth investigating, we're currently looking for high-level correlations, so we don't need to dive into which DBNs are missing.\n",
    "\n",
    "You may also have noticed that we now have many columns with null (NaN) values. This is because we chose to do left joins, where some columns may not have had data. The dataset also had some missing values to begin with. If we hadn't performed a left join, all of the rows with missing data would have been lost in the merge process, which wouldn't have left us with many high schools in our data set.\n",
    "\n",
    "There are several ways to handle missing data and we'll cover them in more detail later on. For now, we'll just fill in the missing values with the overall mean for the column, like so:\n",
    "\n",
    "In the diagram above, the mean of the first column is (1800 + 1600 + 2200 + 2300) / 4, or 1975, and the mean of the second column is (20 + 30 + 30 + 50) / 4, or 32.5. We replace the missing values with the means of their respective columns, which allows us to proceed with analyses that can't handle missing values (like correlations).\n",
    "\n",
    "We can fill in missing data in pandas using the pandas.DataFrame.fillna() method. This method replaces any missing values in a dataframe with the values we specify. We can compute the mean of every column using the pandas.DataFrame.mean() method. If we pass the results of the df.mean() method into the df.fillna() method, pandas fills in the missing values in each column with the mean of that column.\n",
    "\n",
    "Here's an example of how we would accomplish this:\n",
    "\n",
    "means = df.mean()\n",
    "df = df.fillna(means)\n",
    "\n",
    "Note that if a column consists entirely of null or NaN values, pandas won't be able to fill in the missing values when we use the df.fillna() method along with the df.mean() method, because there won't be a mean.\n",
    "\n",
    "We should fill any NaN or null values that remain after the initial replacement with the value 0. We can do this by passing 0 into the df.fillna() method."
   ]
  },
  {
   "cell_type": "markdown",
   "id": "91f90e04",
   "metadata": {},
   "source": [
    "## Instructions\n",
    "\n",
    "Calculate the means of all of the columns in combined using the pandas.DataFrame.mean() method.\n",
    "\n",
    "Fill in any missing values in combined with the means of the respective columns using the pandas.DataFrame.fillna() method.\n",
    "\n",
    "Fill in any remaining missing values in combined with 0 using the df.fillna() method.\n",
    "\n",
    "Display the first few rows of combined to verify that the correct operations occurred."
   ]
  },
  {
   "cell_type": "code",
   "execution_count": 24,
   "id": "55aa38c3",
   "metadata": {},
   "outputs": [
    {
     "name": "stdout",
     "output_type": "stream",
     "text": [
      "      DBN                                        SCHOOL NAME  \\\n",
      "0  01M292      HENRY STREET SCHOOL FOR INTERNATIONAL STUDIES   \n",
      "1  01M448                UNIVERSITY NEIGHBORHOOD HIGH SCHOOL   \n",
      "2  01M450                         EAST SIDE COMMUNITY SCHOOL   \n",
      "3  01M509                            MARTA VALLE HIGH SCHOOL   \n",
      "4  01M539  NEW EXPLORATIONS INTO SCIENCE, TECHNOLOGY AND ...   \n",
      "\n",
      "  Num of SAT Test Takers  SAT Critical Reading Avg. Score  \\\n",
      "0                     29                            355.0   \n",
      "1                     91                            383.0   \n",
      "2                     70                            377.0   \n",
      "3                     44                            390.0   \n",
      "4                    159                            522.0   \n",
      "\n",
      "   SAT Math Avg. Score  SAT Writing Avg. Score  sat_score  \\\n",
      "0                404.0                   363.0     1122.0   \n",
      "1                423.0                   366.0     1172.0   \n",
      "2                402.0                   370.0     1149.0   \n",
      "3                433.0                   384.0     1207.0   \n",
      "4                574.0                   525.0     1621.0   \n",
      "\n",
      "                       SchoolName  AP Test Takers   Total Exams Taken  ...  \\\n",
      "0                               0       128.464115         196.148325  ...   \n",
      "1    UNIVERSITY NEIGHBORHOOD H.S.        39.000000          49.000000  ...   \n",
      "2          EAST SIDE COMMUNITY HS        19.000000          21.000000  ...   \n",
      "3                               0       128.464115         196.148325  ...   \n",
      "4  NEW EXPLORATIONS SCI,TECH,MATH       255.000000         377.000000  ...   \n",
      "\n",
      "   priority10                                         Location 1  \\\n",
      "0         0.0  220 Henry Street\\nNew York, NY 10002\\n(40.7137...   \n",
      "1         0.0  200 Monroe Street\\nNew York, NY 10002\\n(40.712...   \n",
      "2         0.0  420 East 12 Street\\nNew York, NY 10009\\n(40.72...   \n",
      "3         0.0  145 Stanton Street\\nNew York, NY 10002\\n(40.72...   \n",
      "4         0.0  111 Columbia Street\\nNew York, NY 10002\\n(40.7...   \n",
      "\n",
      "  Community Board Council District  Census Tract        BIN           BBL  \\\n",
      "0             3.0              1.0         201.0  1003223.0  1.002690e+09   \n",
      "1             3.0              1.0         202.0  1003214.0  1.002590e+09   \n",
      "2             3.0              2.0          34.0  1005974.0  1.004390e+09   \n",
      "3             3.0              1.0        3001.0  1004323.0  1.003540e+09   \n",
      "4             3.0              2.0        2201.0  1004070.0  1.003350e+09   \n",
      "\n",
      "                                                 NTA        lat        lon  \n",
      "0  Lower East Side                               ...  40.713764  40.713764  \n",
      "1  Lower East Side                               ...  40.712332  40.712332  \n",
      "2  East Village                                  ...  40.729783  40.729783  \n",
      "3  Chinatown                                     ...  40.720569  40.720569  \n",
      "4  Lower East Side                               ...  40.718725  40.718725  \n",
      "\n",
      "[5 rows x 158 columns]\n"
     ]
    },
    {
     "name": "stderr",
     "output_type": "stream",
     "text": [
      "/var/folders/57/05cp9bfn4450_hcf9fb_7pf40000gn/T/ipykernel_7527/746130566.py:1: FutureWarning: Dropping of nuisance columns in DataFrame reductions (with 'numeric_only=None') is deprecated; in a future version this will raise TypeError.  Select only valid columns before calling the reduction.\n",
      "  combined = combined.fillna(combined.mean())\n"
     ]
    }
   ],
   "source": [
    "combined = combined.fillna(combined.mean())\n",
    "combined = combined.fillna(0)\n",
    "print(combined.head(5))"
   ]
  },
  {
   "cell_type": "markdown",
   "id": "4213def0",
   "metadata": {},
   "source": [
    "# Adding a School District Column for Mapping\n",
    "\n",
    "We've finished cleaning and combining our data! We now have a clean dataset we can base our analysis. Mapping the statistics out on a school district level might be an interesting way to analyze them. Adding a column to the dataset that specifies the school district helps us accomplish this.\n",
    "\n",
    "The school district is just the first two characters of the DBN. We can apply a function over the DBN column of combined that pulls out the first two letters.\n",
    "\n",
    "For example, we can use indexing to extract the first few characters of a string, like this:\n",
    "\n",
    "name = \"Sinbad\"\n",
    "\n",
    "print(name[0:2])"
   ]
  },
  {
   "cell_type": "markdown",
   "id": "80c90325",
   "metadata": {},
   "source": [
    "## Instruction\n",
    "\n",
    "Write a function that extracts the first two characters of a string and returns them.\n",
    "\n",
    "Apply the function to the DBN column of combined and assign the result to the school_dist column of combined.\n",
    "\n",
    "Display the first few items in the school_dist column of combined to verify the results."
   ]
  },
  {
   "cell_type": "code",
   "execution_count": 25,
   "id": "581f9246",
   "metadata": {},
   "outputs": [
    {
     "name": "stdout",
     "output_type": "stream",
     "text": [
      "0    01\n",
      "1    01\n",
      "2    01\n",
      "3    01\n",
      "4    01\n",
      "Name: school_dist, dtype: object\n"
     ]
    }
   ],
   "source": [
    "def get_first_two_chars(dbn):\n",
    "    return dbn[0:2]\n",
    "\n",
    "combined[\"school_dist\"] = combined[\"DBN\"].apply(get_first_two_chars)\n",
    "print(combined[\"school_dist\"].head())"
   ]
  },
  {
   "cell_type": "markdown",
   "id": "9dd9e37e",
   "metadata": {},
   "source": [
    "# Finding Correlations With the r Value\n",
    "\n",
    "Correlations tell us how closely related two columns are. We'll be using the r value, also called Pearson's correlation coefficient, to measure how closely two sequences of numbers are correlated.\n",
    "\n",
    "An r value falls between -1 and 1. The value determines whether two columns are positively correlated, not correlated, or negatively correlated. The closer to 1 the r value is, the stronger the positive correlation between the two columns. The closer to -1 the r value is, the stronger the negative correlation (i.e., the more \"opposite\" the columns are). The closer to 0, the weaker the correlation. To learn more about r values, see the statistics course.\n",
    "\n",
    "The columns in the following diagram have a strong positive correlation -- when the value in class_size is high, the corresponding value in sat_score is also high, and vice versa:\n",
    "\n",
    "The r value for the columns in the diagram above is .99.\n",
    "\n",
    "The columns in the following diagram have a strong negative correlation -- when the value in class_size is high, the corresponding value in sat_score is low, and when the value in sat_score is high, the value in class_size is low:\n",
    "\n",
    "The r value for the columns in the diagram above is -.99.\n",
    "\n",
    "In the next diagram, the columns aren't correlated -- class_size and sat_score don't have any strong pattern in their values:\n",
    "\n",
    "The r value for the columns in the diagram above is -.02, which is very close to 0.\n",
    "\n",
    "In general, r values above .25 or below -.25 are enough to qualify a correlation as interesting. An r value isn't perfect and doesn't indicate that there's a correlation -- just the possiblity of one. To assess whether a correlation exists, we need to look at the data using a scatterplot to see its \"shape.\" For example, here's a scatterplot with a very strong negative r value of -.73:\n",
    "\n",
    "Notice how in the image above, all of the points appear to fall along a line. This pattern indicates a correlation.\n",
    "\n",
    "Here's a scatterplot with an r value of .15, which indicates a weak correlation:\n",
    "\n",
    "Notice how the data points in the image go in several directions, and there's no clear linear relationship. We'll explore correlations in greater detail later on in the statistics content. For now, this quick primer should be enough to get us through this project.\n",
    "\n",
    "Because we're interested in exploring the fairness of the SAT, a strong positive or negative correlation between a demographic factor like race or gender and SAT score would be an interesting result meriting investigation. If men tended to score higher on the SAT, for example, that would indicate that the SAT is potentially unfair to women and vice-versa.\n",
    "\n",
    "We can use the pandas pandas.DataFrame.corr() method to find correlations between columns in a dataframe. The method returns a new dataframe where the index for each column and row is the name of a column in the original dataset."
   ]
  },
  {
   "cell_type": "markdown",
   "id": "9f3fb8c7",
   "metadata": {},
   "source": [
    "## Instructions\n",
    "\n",
    "Use the pandas.DataFrame.corr() method on the combined dataframe to find all possible correlations. Assign the result to correlations.\n",
    "\n",
    "Filter correlations so that it only shows correlations for the column sat_score.\n",
    "\n",
    "Display all of the rows in correlations and examine them."
   ]
  },
  {
   "cell_type": "code",
   "execution_count": 27,
   "id": "811ad298",
   "metadata": {},
   "outputs": [
    {
     "name": "stdout",
     "output_type": "stream",
     "text": [
      "SAT Critical Reading Avg. Score    0.986798\n",
      "SAT Math Avg. Score                0.972745\n",
      "SAT Writing Avg. Score             0.987949\n",
      "sat_score                          1.000000\n",
      "AP Test Takers                     0.515451\n",
      "                                     ...   \n",
      "Census Tract                       0.047139\n",
      "BIN                                0.040717\n",
      "BBL                                0.032752\n",
      "lat                               -0.120554\n",
      "lon                               -0.120554\n",
      "Name: sat_score, Length: 78, dtype: float64\n"
     ]
    }
   ],
   "source": [
    "correlations = combined.corr()\n",
    "correlations = correlations[\"sat_score\"]\n",
    "print(correlations)"
   ]
  },
  {
   "cell_type": "markdown",
   "id": "7b4ff137",
   "metadata": {},
   "source": [
    "# Plotting Enrollment With the Plot() Accessor\n",
    "\n",
    "Unsurprisingly, SAT Critical Reading Avg. Score, SAT Math Avg. Score, SAT Writing Avg. Score, and sat_score are strongly correlated with sat_score.\n",
    "\n",
    "We can also make some other observations:\n",
    "\n",
    "total_enrollment has a strong positive correlation with sat_score. This is surprising because we'd expect smaller schools where students receive more attention to have higher scores. However, it looks like the opposite is true -- larger schools tend to do better on the SAT.\n",
    "\n",
    "    Other columns that are proxies for enrollment correlate similarly. These include total_students, N_s, N_p, N_t, AP Test Takers, Total Exams Taken, and NUMBER OF SECTIONS.\n",
    "\n",
    "Both the percentage of females (female_per) and number of females (female_num) at a school correlate positively with SAT score, whereas the percentage of males (male_per) and the number of males (male_num) correlate negatively. This could indicate that women do better on the SAT than men.\n",
    "\n",
    "Teacher and student ratings of school safety (saf_t_11, and saf_s_11) correlate with sat_score.\n",
    "\n",
    "Student ratings of school academic standards (aca_s_11) correlate with sat_score, but this does not hold for ratings from teachers and parents (aca_p_11 and aca_t_11).\n",
    "\n",
    "There is significant racial inequality in SAT scores (white_per, asian_per, black_per, hispanic_per).\n",
    "\n",
    "The percentage of English language learners at the school (ell_percent, frl_percent) has a strong negative correlation with SAT scores.\n",
    "\n",
    "Since enrollment seems to have such a strong correlation, let's make a scatterplot of total_enrollment vs sat_score. Each point in the scatterplot represents a high school, so we'll be able to see if there are any interesting patterns.\n",
    "\n",
    "We can plot columns in a dataframe using the pandas.DataFrame.plot() accessor on a dataframe. We can also specify a certain plot type. For example, df.plot.scatter(x=\"A\", y=\"b\") creates a scatterplot of columns A and B."
   ]
  },
  {
   "cell_type": "markdown",
   "id": "6c0fdde7",
   "metadata": {},
   "source": [
    "## Instructions\n",
    "\n",
    "Create a scatterplot of total_enrollment (on the horizontal axis) versus sat_score (on the vertical axis)."
   ]
  },
  {
   "cell_type": "code",
   "execution_count": 29,
   "id": "7c2cb255",
   "metadata": {},
   "outputs": [
    {
     "name": "stdout",
     "output_type": "stream",
     "text": [
      "Collecting matplotlib\n",
      "  Downloading matplotlib-3.6.2-cp310-cp310-macosx_11_0_arm64.whl (7.2 MB)\n",
      "\u001b[2K     \u001b[90m━━━━━━━━━━━━━━━━━━━━━━━━━━━━━━━━━━━━━━━━\u001b[0m \u001b[32m7.2/7.2 MB\u001b[0m \u001b[31m10.0 MB/s\u001b[0m eta \u001b[36m0:00:00\u001b[0m00:01\u001b[0m00:01\u001b[0m\n",
      "\u001b[?25hRequirement already satisfied: python-dateutil>=2.7 in /Users/dustinober/miniconda3/envs/NYC_Schools/lib/python3.10/site-packages (from matplotlib) (2.8.2)\n",
      "Requirement already satisfied: pyparsing>=2.2.1 in /Users/dustinober/miniconda3/envs/NYC_Schools/lib/python3.10/site-packages (from matplotlib) (3.0.9)\n",
      "Collecting contourpy>=1.0.1\n",
      "  Downloading contourpy-1.0.6-cp310-cp310-macosx_11_0_arm64.whl (225 kB)\n",
      "\u001b[2K     \u001b[90m━━━━━━━━━━━━━━━━━━━━━━━━━━━━━━━━━━━━━━\u001b[0m \u001b[32m225.9/225.9 kB\u001b[0m \u001b[31m10.0 MB/s\u001b[0m eta \u001b[36m0:00:00\u001b[0m\n",
      "\u001b[?25hCollecting cycler>=0.10\n",
      "  Using cached cycler-0.11.0-py3-none-any.whl (6.4 kB)\n",
      "Requirement already satisfied: packaging>=20.0 in /Users/dustinober/miniconda3/envs/NYC_Schools/lib/python3.10/site-packages (from matplotlib) (21.3)\n",
      "Collecting pillow>=6.2.0\n",
      "  Downloading Pillow-9.3.0-cp310-cp310-macosx_11_0_arm64.whl (2.9 MB)\n",
      "\u001b[2K     \u001b[90m━━━━━━━━━━━━━━━━━━━━━━━━━━━━━━━━━━━━━━━━\u001b[0m \u001b[32m2.9/2.9 MB\u001b[0m \u001b[31m9.9 MB/s\u001b[0m eta \u001b[36m0:00:00\u001b[0mta \u001b[36m0:00:01\u001b[0m\n",
      "\u001b[?25hCollecting fonttools>=4.22.0\n",
      "  Downloading fonttools-4.38.0-py3-none-any.whl (965 kB)\n",
      "\u001b[2K     \u001b[90m━━━━━━━━━━━━━━━━━━━━━━━━━━━━━━━━━━━━━━\u001b[0m \u001b[32m965.4/965.4 kB\u001b[0m \u001b[31m11.3 MB/s\u001b[0m eta \u001b[36m0:00:00\u001b[0m00:01\u001b[0m00:01\u001b[0m\n",
      "\u001b[?25hCollecting kiwisolver>=1.0.1\n",
      "  Downloading kiwisolver-1.4.4-cp310-cp310-macosx_11_0_arm64.whl (63 kB)\n",
      "\u001b[2K     \u001b[90m━━━━━━━━━━━━━━━━━━━━━━━━━━━━━━━━━━━━━━━━\u001b[0m \u001b[32m63.2/63.2 kB\u001b[0m \u001b[31m2.9 MB/s\u001b[0m eta \u001b[36m0:00:00\u001b[0m\n",
      "\u001b[?25hRequirement already satisfied: numpy>=1.19 in /Users/dustinober/miniconda3/envs/NYC_Schools/lib/python3.10/site-packages (from matplotlib) (1.23.3)\n",
      "Requirement already satisfied: six>=1.5 in /Users/dustinober/miniconda3/envs/NYC_Schools/lib/python3.10/site-packages (from python-dateutil>=2.7->matplotlib) (1.16.0)\n",
      "Installing collected packages: pillow, kiwisolver, fonttools, cycler, contourpy, matplotlib\n",
      "Successfully installed contourpy-1.0.6 cycler-0.11.0 fonttools-4.38.0 kiwisolver-1.4.4 matplotlib-3.6.2 pillow-9.3.0\n",
      "Note: you may need to restart the kernel to use updated packages.\n"
     ]
    }
   ],
   "source": [
    "pip install matplotlib"
   ]
  },
  {
   "cell_type": "code",
   "execution_count": 30,
   "id": "1a8cacf1",
   "metadata": {},
   "outputs": [],
   "source": [
    "import matplotlib.pyplot as plt"
   ]
  },
  {
   "cell_type": "code",
   "execution_count": 31,
   "id": "7cc495b1",
   "metadata": {},
   "outputs": [
    {
     "name": "stderr",
     "output_type": "stream",
     "text": [
      "/Users/dustinober/miniconda3/envs/NYC_Schools/lib/python3.10/site-packages/pandas/plotting/_matplotlib/core.py:1114: UserWarning: No data for colormapping provided via 'c'. Parameters 'cmap' will be ignored\n",
      "  scatter = ax.scatter(\n"
     ]
    },
    {
     "data": {
      "image/png": "[encoded data removed]",
      "text/plain": [
       "<Figure size 640x480 with 1 Axes>"
      ]
     },
     "metadata": {},
     "output_type": "display_data"
    }
   ],
   "source": [
    "combined.plot.scatter(x=\"total_enrollment\", y=\"sat_score\")\n",
    "plt.show()"
   ]
  },
  {
   "cell_type": "markdown",
   "id": "dc113bda",
   "metadata": {},
   "source": [
    "# Exploring Schools with Low SAT Scores and Enrollment\n",
    "\n",
    "Judging from the plot we just created, it doesn't appear there's a strong correlation between sat_score and total_enrollment. If there was a strong correlation, we'd expect all of the points to line up. Instead, there's a large cluster of schools and then a few others going off in three different directions.\n",
    "\n",
    "However, there's an interesting cluster of points at the bottom left where total_enrollment and sat_score are both low. This cluster may be what's making the r value so high. It's worth extracting the names of the schools in this cluster so we can research them further."
   ]
  },
  {
   "cell_type": "markdown",
   "id": "d855e3fb",
   "metadata": {},
   "source": [
    "## Instructions\n",
    "\n",
    "Filter the combined dataframe to keep only those rows where total_enrollment is under 1000 and sat_score is under 1000. Assign the result to low_enrollment.\n",
    "\n",
    "Display all of the items in the School Name column of low_enrollment.\n",
    "\n",
    "Use Wikipedia and Google to research the names of the schools. Can you discover anything interesting about them?"
   ]
  },
  {
   "cell_type": "code",
   "execution_count": 32,
   "id": "cb0c513a",
   "metadata": {},
   "outputs": [
    {
     "name": "stdout",
     "output_type": "stream",
     "text": [
      "93       INTERNATIONAL COMMUNITY HIGH SCHOOL\n",
      "129                                        0\n",
      "130          BRONX INTERNATIONAL HIGH SCHOOL\n",
      "143    KINGSBRIDGE INTERNATIONAL HIGH SCHOOL\n",
      "145    INTERNATIONAL SCHOOL FOR LIBERAL ARTS\n",
      "180                                        0\n",
      "183            HIGH SCHOOL OF WORLD CULTURES\n",
      "192       BROOKLYN INTERNATIONAL HIGH SCHOOL\n",
      "230    INTERNATIONAL HIGH SCHOOL AT PROSPECT\n",
      "242               IT TAKES A VILLAGE ACADEMY\n",
      "258                MULTICULTURAL HIGH SCHOOL\n",
      "291    PAN AMERICAN INTERNATIONAL HIGH SCHOO\n",
      "Name: School Name, dtype: object\n"
     ]
    }
   ],
   "source": [
    "low_enrollment = combined[combined[\"total_enrollment\"] < 1000]\n",
    "low_enrollment = low_enrollment[low_enrollment[\"sat_score\"] < 1000]\n",
    "print(low_enrollment[\"School Name\"])"
   ]
  },
  {
   "cell_type": "markdown",
   "id": "50e509b5",
   "metadata": {},
   "source": [
    "# Plotting Language Learning Percentage\n",
    "\n",
    "Our research on the last screen revealed that most of the high schools with low total enrollment and low SAT scores have high percentages of English language learners. This indicates that it's actually ell_percent that correlates strongly with sat_score, rather than total_enrollment. To explore this relationship further, let's plot out ell_percent vs sat_score.\n",
    "\n"
   ]
  },
  {
   "cell_type": "code",
   "execution_count": 33,
   "id": "bce1aada",
   "metadata": {},
   "outputs": [
    {
     "data": {
      "image/png": "[encoded data removed]",
      "text/plain": [
       "<Figure size 640x480 with 1 Axes>"
      ]
     },
     "metadata": {},
     "output_type": "display_data"
    }
   ],
   "source": [
    "combined.plot.scatter(x='ell_percent', y='sat_score')\n",
    "plt.show()"
   ]
  },
  {
   "cell_type": "markdown",
   "id": "5f7de398",
   "metadata": {},
   "source": [
    "# Calculating District-Level Statistics\n",
    "\n",
    "One way to make very granular statistics easier to read is to aggregate them. In this case, we aggregate by district, which enables us to understand how ell_percent varies district-by-district instead of the unintelligibly granular school-by-school variation.\n",
    "\n",
    "In a previous lesson, we used the pandas.DataFrame.groupby() method followed by the agg() method on the resulting object to find the mean class size for each unique DBN. The principle is exactly the same, except that here we'd find the mean of each column for each unique value in school_dist."
   ]
  },
  {
   "cell_type": "markdown",
   "id": "09d972f1",
   "metadata": {},
   "source": [
    "## Instructions\n",
    "\n",
    "Find the average values for each column for each school_dist in combined.\n",
    "\n",
    "    Use the pandas.DataFrame.groupby() method to group combined by school_dist.\n",
    "\n",
    "    Use the agg() method, along with the numpy.mean function as an argument to calculate the average of each group.\n",
    "\n",
    "    Assign the result to the variable districts.\n",
    "\n",
    "Reset the index of districts, making school_dist a column again.\n",
    "\n",
    "    Use the pandas.DataFrame.reset_index() method with the keyword argument inplace=True.\n",
    "\n",
    "Display the first few rows of districts to verify that everything went okay."
   ]
  },
  {
   "cell_type": "code",
   "execution_count": 34,
   "id": "07c1cbe4",
   "metadata": {},
   "outputs": [
    {
     "name": "stdout",
     "output_type": "stream",
     "text": [
      "  school_dist  SAT Critical Reading Avg. Score  SAT Math Avg. Score  \\\n",
      "0          01                       441.833333           473.333333   \n",
      "1          02                       429.780885           446.400885   \n",
      "2          03                       428.626844           438.043510   \n",
      "3          04                       402.142857           416.285714   \n",
      "4          05                       427.215339           438.262958   \n",
      "\n",
      "   SAT Writing Avg. Score    sat_score  AP Test Takers   Total Exams Taken  \\\n",
      "0              439.333333  1354.500000       116.398724         172.574163   \n",
      "1              427.514690  1303.696460       126.304211         197.225263   \n",
      "2              426.988938  1293.659292       155.854067         244.003190   \n",
      "3              405.714286  1224.142857       128.693780         183.370472   \n",
      "4              419.707965  1285.186262        85.561176         115.470950   \n",
      "\n",
      "   Number of Exams with scores 3 4 or 5  Total Cohort  \\\n",
      "0                            135.800000     93.500000   \n",
      "1                            157.334000    155.052930   \n",
      "2                            193.087500    182.939756   \n",
      "3                            151.035714    113.857143   \n",
      "4                            142.464286    143.169245   \n",
      "\n",
      "   Total Grads - % of cohort  ...  priority08  priority09  priority10  \\\n",
      "0                  71.333333  ...         0.0         0.0         0.0   \n",
      "1                  75.243512  ...         0.0         0.0         0.0   \n",
      "2                  74.022938  ...         0.0         0.0         0.0   \n",
      "3                  76.257143  ...         0.0         0.0         0.0   \n",
      "4                  75.192881  ...         0.0         0.0         0.0   \n",
      "\n",
      "   Community Board  Council District  Census Tract           BIN  \\\n",
      "0         3.000000          1.500000   1106.833333  1.004144e+06   \n",
      "1         4.255738          2.923115   1088.501366  1.100058e+06   \n",
      "2         7.500000          6.500000    166.666667  1.034931e+06   \n",
      "3        11.000000          8.000000   2637.000000  1.055874e+06   \n",
      "4         9.428571          8.142857   9372.571429  1.063080e+06   \n",
      "\n",
      "            BBL        lat        lon  \n",
      "0  1.003302e+09  40.719022  40.719022  \n",
      "1  1.067600e+09  40.739540  40.739540  \n",
      "2  1.012833e+09  40.781574  40.781574  \n",
      "3  1.016681e+09  40.793449  40.793449  \n",
      "4  1.019721e+09  40.817077  40.817077  \n",
      "\n",
      "[5 rows x 79 columns]\n"
     ]
    }
   ],
   "source": [
    "districts = combined.groupby(\"school_dist\").agg(np.mean)\n",
    "districts.reset_index(inplace=True)\n",
    "print(districts.head())"
   ]
  },
  {
   "cell_type": "markdown",
   "id": "26bc7fb2",
   "metadata": {},
   "source": [
    "# Exploring Safety and SAT Scores\n",
    "\n",
    "On the last screen, you may have noticed that saf_t_11 and saf_s_11, which measure how teachers and students perceive safety at school, correlated highly with sat_score. On this screen, we'll dig into this relationship a bit more and try to figure out which schools have low safety scores."
   ]
  },
  {
   "cell_type": "code",
   "execution_count": 35,
   "id": "6c2094a5",
   "metadata": {},
   "outputs": [
    {
     "name": "stderr",
     "output_type": "stream",
     "text": [
      "/Users/dustinober/miniconda3/envs/NYC_Schools/lib/python3.10/site-packages/pandas/plotting/_matplotlib/core.py:1114: UserWarning: No data for colormapping provided via 'c'. Parameters 'cmap' will be ignored\n",
      "  scatter = ax.scatter(\n"
     ]
    },
    {
     "data": {
      "text/plain": [
       "<AxesSubplot: xlabel='saf_s_11', ylabel='sat_score'>"
      ]
     },
     "execution_count": 35,
     "metadata": {},
     "output_type": "execute_result"
    },
    {
     "data": {
      "image/png": "[encoded data removed]",
      "text/plain": [
       "<Figure size 640x480 with 1 Axes>"
      ]
     },
     "metadata": {},
     "output_type": "display_data"
    }
   ],
   "source": [
    "combined.plot.scatter(\"saf_s_11\", \"sat_score\")"
   ]
  },
  {
   "cell_type": "markdown",
   "id": "305cabf6",
   "metadata": {},
   "source": [
    "There appears to be a correlation between SAT scores and safety, although it isn't thatstrong. It looks like there are a few schools with extremely high SAT scores and high safety scores. There are a few schools with low safety scores and low SAT scores. No school with a safety score lower than 6.5 has an average SAT score higher than 1500 or so.\n",
    "\n"
   ]
  },
  {
   "cell_type": "markdown",
   "id": "2ffe223f",
   "metadata": {},
   "source": [
    "# Racial differences in SAT scores\n"
   ]
  },
  {
   "cell_type": "code",
   "execution_count": 38,
   "id": "811c4b52",
   "metadata": {},
   "outputs": [
    {
     "data": {
      "text/plain": [
       "<AxesSubplot: >"
      ]
     },
     "execution_count": 38,
     "metadata": {},
     "output_type": "execute_result"
    },
    {
     "data": {
      "image/png": "[encoded data removed]",
      "text/plain": [
       "<Figure size 640x480 with 1 Axes>"
      ]
     },
     "metadata": {},
     "output_type": "display_data"
    }
   ],
   "source": [
    "race_fields = [\"white_per\", \"asian_per\", \"black_per\", \"hispanic_per\"]\n",
    "combined.corr()[\"sat_score\"][race_fields].plot.bar()"
   ]
  },
  {
   "cell_type": "markdown",
   "id": "aac2a28d",
   "metadata": {},
   "source": [
    "It looks like a higher percentage of white or asian students at a school correlates positively with sat score, whereas a higher percentage of black or hispanic students correlates negatively with sat score. This may be due to a lack of funding for schools in certain areas, which are more likely to have a higher percentage of black or hispanic students.\n",
    "\n"
   ]
  },
  {
   "cell_type": "code",
   "execution_count": 39,
   "id": "51914df4",
   "metadata": {},
   "outputs": [
    {
     "name": "stderr",
     "output_type": "stream",
     "text": [
      "/Users/dustinober/miniconda3/envs/NYC_Schools/lib/python3.10/site-packages/pandas/plotting/_matplotlib/core.py:1114: UserWarning: No data for colormapping provided via 'c'. Parameters 'cmap' will be ignored\n",
      "  scatter = ax.scatter(\n"
     ]
    },
    {
     "data": {
      "text/plain": [
       "<AxesSubplot: xlabel='hispanic_per', ylabel='sat_score'>"
      ]
     },
     "execution_count": 39,
     "metadata": {},
     "output_type": "execute_result"
    },
    {
     "data": {
      "image/png": "[encoded data removed]",
      "text/plain": [
       "<Figure size 640x480 with 1 Axes>"
      ]
     },
     "metadata": {},
     "output_type": "display_data"
    }
   ],
   "source": [
    "combined.plot.scatter(\"hispanic_per\", \"sat_score\")\n"
   ]
  },
  {
   "cell_type": "code",
   "execution_count": 40,
   "id": "56d3b113",
   "metadata": {},
   "outputs": [
    {
     "name": "stdout",
     "output_type": "stream",
     "text": [
      "46                         MANHATTAN BRIDGES HIGH SCHOOL\n",
      "84      WASHINGTON HEIGHTS EXPEDITIONARY LEARNING SCHOOL\n",
      "91     GREGORIO LUPERON HIGH SCHOOL FOR SCIENCE AND M...\n",
      "129                  ACADEMY FOR LANGUAGE AND TECHNOLOGY\n",
      "145                INTERNATIONAL SCHOOL FOR LIBERAL ARTS\n",
      "180     PAN AMERICAN INTERNATIONAL HIGH SCHOOL AT MONROE\n",
      "258                            MULTICULTURAL HIGH SCHOOL\n",
      "291               PAN AMERICAN INTERNATIONAL HIGH SCHOOL\n",
      "Name: SCHOOL NAME, dtype: object\n"
     ]
    }
   ],
   "source": [
    "print(combined[combined[\"hispanic_per\"] > 95][\"SCHOOL NAME\"])\n"
   ]
  },
  {
   "cell_type": "code",
   "execution_count": 41,
   "id": "8064bf5a",
   "metadata": {},
   "outputs": [
    {
     "name": "stdout",
     "output_type": "stream",
     "text": [
      "39                                STUYVESANT HIGH SCHOOL\n",
      "155                         BRONX HIGH SCHOOL OF SCIENCE\n",
      "191                       BROOKLYN TECHNICAL HIGH SCHOOL\n",
      "332    QUEENS HIGH SCHOOL FOR THE SCIENCES AT YORK CO...\n",
      "361                  STATEN ISLAND TECHNICAL HIGH SCHOOL\n",
      "Name: SCHOOL NAME, dtype: object\n"
     ]
    }
   ],
   "source": [
    "print(combined[(combined[\"hispanic_per\"] < 10) & (combined[\"sat_score\"] > 1800)][\"SCHOOL NAME\"])\n"
   ]
  },
  {
   "cell_type": "markdown",
   "id": "2d0db078",
   "metadata": {},
   "source": [
    "Many of the schools above appear to be specialized science and technology schools that receive extra funding, and only admit students who pass an entrance exam. This doesn't explain the low hispanic_per, but it does explain why their students tend to do better on the SAT -- they are students from all over New York City who did well on a standardized test.\n",
    "\n"
   ]
  },
  {
   "cell_type": "markdown",
   "id": "cf23297e",
   "metadata": {},
   "source": [
    "# Gender differences in SAT scores\n"
   ]
  },
  {
   "cell_type": "code",
   "execution_count": 42,
   "id": "92e2062d",
   "metadata": {},
   "outputs": [
    {
     "data": {
      "text/plain": [
       "<AxesSubplot: >"
      ]
     },
     "execution_count": 42,
     "metadata": {},
     "output_type": "execute_result"
    },
    {
     "data": {
      "image/png": "[encoded data removed]",
      "text/plain": [
       "<Figure size 640x480 with 1 Axes>"
      ]
     },
     "metadata": {},
     "output_type": "display_data"
    }
   ],
   "source": [
    "gender_fields = [\"male_per\", \"female_per\"]\n",
    "combined.corr()[\"sat_score\"][gender_fields].plot.bar()"
   ]
  },
  {
   "cell_type": "markdown",
   "id": "5202375e",
   "metadata": {},
   "source": [
    "In the plot above, we can see that a high percentage of females at a school positively correlates with SAT score, whereas a high percentage of males at a school negatively correlates with SAT score. Neither correlation is extremely strong.\n",
    "\n"
   ]
  },
  {
   "cell_type": "code",
   "execution_count": 43,
   "id": "9c5880b2",
   "metadata": {},
   "outputs": [
    {
     "name": "stderr",
     "output_type": "stream",
     "text": [
      "/Users/dustinober/miniconda3/envs/NYC_Schools/lib/python3.10/site-packages/pandas/plotting/_matplotlib/core.py:1114: UserWarning: No data for colormapping provided via 'c'. Parameters 'cmap' will be ignored\n",
      "  scatter = ax.scatter(\n"
     ]
    },
    {
     "data": {
      "text/plain": [
       "<AxesSubplot: xlabel='female_per', ylabel='sat_score'>"
      ]
     },
     "execution_count": 43,
     "metadata": {},
     "output_type": "execute_result"
    },
    {
     "data": {
      "image/png": "[encoded data removed]",
      "text/plain": [
       "<Figure size 640x480 with 1 Axes>"
      ]
     },
     "metadata": {},
     "output_type": "display_data"
    }
   ],
   "source": [
    "combined.plot.scatter(\"female_per\", \"sat_score\")\n"
   ]
  },
  {
   "cell_type": "markdown",
   "id": "08eb1127",
   "metadata": {},
   "source": [
    "Based on the scatterplot, there doesn't seem to be any real correlation between sat_score and female_per. However, there is a cluster of schools with a high percentage of females (60 to 80), and high SAT scores.\n",
    "\n"
   ]
  },
  {
   "cell_type": "code",
   "execution_count": 44,
   "id": "74a475f2",
   "metadata": {},
   "outputs": [
    {
     "name": "stdout",
     "output_type": "stream",
     "text": [
      "5                         BARD HIGH SCHOOL EARLY COLLEGE\n",
      "28                         ELEANOR ROOSEVELT HIGH SCHOOL\n",
      "62                                    BEACON HIGH SCHOOL\n",
      "63     FIORELLO H. LAGUARDIA HIGH SCHOOL OF MUSIC & A...\n",
      "307                          TOWNSEND HARRIS HIGH SCHOOL\n",
      "Name: SCHOOL NAME, dtype: object\n"
     ]
    }
   ],
   "source": [
    "print(combined[(combined[\"female_per\"] > 60) & (combined[\"sat_score\"] > 1700)][\"SCHOOL NAME\"])"
   ]
  },
  {
   "cell_type": "markdown",
   "id": "442d5e16",
   "metadata": {},
   "source": [
    "These schools appears to be very selective liberal arts schools that have high academic standards.\n",
    "\n"
   ]
  },
  {
   "cell_type": "markdown",
   "id": "80001f0b",
   "metadata": {},
   "source": [
    "# AP Exam Scores vs SAT Scores\n"
   ]
  },
  {
   "cell_type": "code",
   "execution_count": null,
   "id": "d6bc051c",
   "metadata": {},
   "outputs": [],
   "source": [
    "combined[\"ap_per\"] = combined[\"AP Test Takers \"] / combined[\"total_enrollment\"]\n",
    "\n",
    "combined.plot.scatter(x='ap_per', y='sat_score')\n"
   ]
  }
 ],
 "metadata": {
  "kernelspec": {
   "display_name": "Python 3 (ipykernel)",
   "language": "python",
   "name": "python3"
  },
  "language_info": {
   "codemirror_mode": {
    "name": "ipython",
    "version": 3
   },
   "file_extension": ".py",
   "mimetype": "text/x-python",
   "name": "python",
   "nbconvert_exporter": "python",
   "pygments_lexer": "ipython3",
   "version": "3.10.6"
  }
 },
 "nbformat": 4,
 "nbformat_minor": 5
}
