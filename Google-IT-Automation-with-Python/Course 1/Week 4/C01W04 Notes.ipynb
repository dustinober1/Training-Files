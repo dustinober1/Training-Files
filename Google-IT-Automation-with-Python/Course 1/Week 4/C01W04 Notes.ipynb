{
 "cells": [
  {
   "cell_type": "markdown",
   "metadata": {},
   "source": [
    "# Strings"
   ]
  },
  {
   "cell_type": "code",
   "execution_count": 4,
   "metadata": {},
   "outputs": [
    {
     "name": "stdout",
     "output_type": "stream",
     "text": [
      "hellohello10\n",
      "abcabc6\n",
      "0\n"
     ]
    }
   ],
   "source": [
    "def double_word(word):\n",
    "    return word + word + str(len(word) * 2)\n",
    "\n",
    "print(double_word(\"hello\"))\n",
    "print(double_word(\"abc\"))\n",
    "print(double_word(\"\"))"
   ]
  },
  {
   "cell_type": "code",
   "execution_count": 2,
   "metadata": {},
   "outputs": [
    {
     "name": "stdout",
     "output_type": "stream",
     "text": [
      "21\n",
      "7\n"
     ]
    }
   ],
   "source": [
    "word = \"supercalifragilisticexpialidocious\"\n",
    "print(word.index(\"x\"))\n",
    "print(word.index(\"l\"))"
   ]
  },
  {
   "cell_type": "code",
   "execution_count": 3,
   "metadata": {},
   "outputs": [
    {
     "data": {
      "text/plain": [
       "'yes'"
      ]
     },
     "execution_count": 3,
     "metadata": {},
     "output_type": "execute_result"
    }
   ],
   "source": [
    "\" yes \".strip()"
   ]
  },
  {
   "cell_type": "code",
   "execution_count": 4,
   "metadata": {},
   "outputs": [
    {
     "data": {
      "text/plain": [
       "'Yes and No'"
      ]
     },
     "execution_count": 4,
     "metadata": {},
     "output_type": "execute_result"
    }
   ],
   "source": [
    "\" Yes and No \".strip()"
   ]
  },
  {
   "cell_type": "code",
   "execution_count": 5,
   "metadata": {},
   "outputs": [
    {
     "data": {
      "text/plain": [
       "'Yes '"
      ]
     },
     "execution_count": 5,
     "metadata": {},
     "output_type": "execute_result"
    }
   ],
   "source": [
    "\" Yes \".lstrip()"
   ]
  },
  {
   "cell_type": "code",
   "execution_count": 6,
   "metadata": {},
   "outputs": [
    {
     "data": {
      "text/plain": [
       "' Yes'"
      ]
     },
     "execution_count": 6,
     "metadata": {},
     "output_type": "execute_result"
    }
   ],
   "source": [
    "\" Yes \".rstrip()"
   ]
  },
  {
   "cell_type": "code",
   "execution_count": 7,
   "metadata": {},
   "outputs": [
    {
     "data": {
      "text/plain": [
       "4"
      ]
     },
     "execution_count": 7,
     "metadata": {},
     "output_type": "execute_result"
    }
   ],
   "source": [
    "\"The number of times e occurs in this string is 4\".count(\"e\")"
   ]
  },
  {
   "cell_type": "code",
   "execution_count": 8,
   "metadata": {},
   "outputs": [
    {
     "data": {
      "text/plain": [
       "True"
      ]
     },
     "execution_count": 8,
     "metadata": {},
     "output_type": "execute_result"
    }
   ],
   "source": [
    "\"Forest\".endswith(\"rest\")"
   ]
  },
  {
   "cell_type": "code",
   "execution_count": 9,
   "metadata": {},
   "outputs": [
    {
     "data": {
      "text/plain": [
       "False"
      ]
     },
     "execution_count": 9,
     "metadata": {},
     "output_type": "execute_result"
    }
   ],
   "source": [
    "\"Forest\".isnumeric()"
   ]
  },
  {
   "cell_type": "code",
   "execution_count": 10,
   "metadata": {},
   "outputs": [
    {
     "data": {
      "text/plain": [
       "True"
      ]
     },
     "execution_count": 10,
     "metadata": {},
     "output_type": "execute_result"
    }
   ],
   "source": [
    "\"12345\".isnumeric()"
   ]
  },
  {
   "cell_type": "code",
   "execution_count": 11,
   "metadata": {},
   "outputs": [
    {
     "data": {
      "text/plain": [
       "11110"
      ]
     },
     "execution_count": 11,
     "metadata": {},
     "output_type": "execute_result"
    }
   ],
   "source": [
    "int(\"1111\") + int(\"9999\")"
   ]
  },
  {
   "cell_type": "code",
   "execution_count": 12,
   "metadata": {},
   "outputs": [
    {
     "data": {
      "text/plain": [
       "'This is a statement joined by spaces'"
      ]
     },
     "execution_count": 12,
     "metadata": {},
     "output_type": "execute_result"
    }
   ],
   "source": [
    "\" \".join([\"This\", \"is\", \"a\", \"statement\", \"joined\", \"by\", \"spaces\"])"
   ]
  },
  {
   "cell_type": "code",
   "execution_count": 14,
   "metadata": {},
   "outputs": [
    {
     "data": {
      "text/plain": [
       "'This...is...a...statement...joined...by...three...dots'"
      ]
     },
     "execution_count": 14,
     "metadata": {},
     "output_type": "execute_result"
    }
   ],
   "source": [
    "\"...\".join([\"This\", \"is\", \"a\", \"statement\", \"joined\", \"by\", \"three\", \"dots\"])"
   ]
  },
  {
   "cell_type": "code",
   "execution_count": 15,
   "metadata": {},
   "outputs": [
    {
     "data": {
      "text/plain": [
       "['This', 'is', 'an', 'example', 'of', 'the', 'strings', 'being', 'split']"
      ]
     },
     "execution_count": 15,
     "metadata": {},
     "output_type": "execute_result"
    }
   ],
   "source": [
    "\"This is an example of the strings being split\".split()"
   ]
  },
  {
   "cell_type": "markdown",
   "metadata": {},
   "source": [
    "## Formating Strings"
   ]
  },
  {
   "cell_type": "code",
   "execution_count": 17,
   "metadata": {},
   "outputs": [
    {
     "name": "stdout",
     "output_type": "stream",
     "text": [
      "Hello Manny, your lucky number is 15\n"
     ]
    }
   ],
   "source": [
    "name = \"Manny\"\n",
    "number = len(name) * 3\n",
    "print(\"Hello {}, your lucky number is {}\".format(name, number))"
   ]
  },
  {
   "cell_type": "code",
   "execution_count": 18,
   "metadata": {},
   "outputs": [
    {
     "name": "stdout",
     "output_type": "stream",
     "text": [
      "Your lucky number is 15, Manny.\n"
     ]
    }
   ],
   "source": [
    "print(\"Your lucky number is {number}, {name}.\".format(name=name, number=len(name)*3))"
   ]
  },
  {
   "cell_type": "code",
   "execution_count": 22,
   "metadata": {},
   "outputs": [
    {
     "name": "stdout",
     "output_type": "stream",
     "text": [
      "Reed received 80% on the exam\n",
      "Paige received 92% on the exam\n",
      "Jesse received 85% on the exam\n"
     ]
    }
   ],
   "source": [
    "def student_grade(name, grade):\n",
    "    return \"{} received {}% on the exam\".format(name, grade)\n",
    "\n",
    "print(student_grade(\"Reed\", 80))\n",
    "print(student_grade(\"Paige\", 92))\n",
    "print(student_grade(\"Jesse\", 85))"
   ]
  },
  {
   "cell_type": "code",
   "execution_count": 23,
   "metadata": {},
   "outputs": [
    {
     "name": "stdout",
     "output_type": "stream",
     "text": [
      "Base Price: $7.50. With Tax: $8.18\n"
     ]
    }
   ],
   "source": [
    "price = 7.5\n",
    "with_tax = price * 1.09\n",
    "print(\"Base Price: ${:.2f}. With Tax: ${:.2f}\".format(price, with_tax))"
   ]
  },
  {
   "cell_type": "code",
   "execution_count": 24,
   "metadata": {},
   "outputs": [
    {
     "name": "stdout",
     "output_type": "stream",
     "text": [
      "  0 F | -17.78 C\n",
      " 10 F | -12.22 C\n",
      " 20 F |  -6.67 C\n",
      " 30 F |  -1.11 C\n",
      " 40 F |   4.44 C\n",
      " 50 F |  10.00 C\n",
      " 60 F |  15.56 C\n",
      " 70 F |  21.11 C\n",
      " 80 F |  26.67 C\n",
      " 90 F |  32.22 C\n",
      "100 F |  37.78 C\n"
     ]
    }
   ],
   "source": [
    "def to_celsius(x):\n",
    "    return (x-32)*5/9\n",
    "\n",
    "for x in range(0, 101, 10):\n",
    "    print(\"{:>3} F | {:>6.2f} C\".format(x, to_celsius(x)))"
   ]
  },
  {
   "cell_type": "code",
   "execution_count": 25,
   "metadata": {},
   "outputs": [
    {
     "name": "stdout",
     "output_type": "stream",
     "text": [
      "this is an example of using the format() method on a string\n"
     ]
    }
   ],
   "source": [
    "example = \"format() method\"\n",
    "\n",
    "formatted_string = \"this is an example of using the {} on a string\".format(example)\n",
    "\n",
    "print(formatted_string)"
   ]
  },
  {
   "cell_type": "code",
   "execution_count": 26,
   "metadata": {},
   "outputs": [
    {
     "name": "stdout",
     "output_type": "stream",
     "text": [
      "apple carrot banana\n"
     ]
    }
   ],
   "source": [
    "first = \"apple\"\n",
    "second = \"banana\"\n",
    "third = \"carrot\"\n",
    "\n",
    "formatted_string = \"{0} {2} {1}\".format(first, second, third)\n",
    "\n",
    "print(formatted_string)"
   ]
  },
  {
   "cell_type": "markdown",
   "metadata": {},
   "source": [
    "## Quiz"
   ]
  },
  {
   "cell_type": "code",
   "execution_count": 29,
   "metadata": {},
   "outputs": [
    {
     "name": "stdout",
     "output_type": "stream",
     "text": [
      "True\n",
      "False\n",
      "True\n"
     ]
    }
   ],
   "source": [
    "def is_palindrome(input_string):\n",
    "    new_string = \"\"\n",
    "    reverse_string = \"\"\n",
    "    for string in input_string.lower():\n",
    "        if string.strip():\n",
    "            new_string = new_string + string\n",
    "            reverse_string = string + reverse_string\n",
    "    if new_string==reverse_string:\n",
    "        return True\n",
    "    return False\n",
    "\n",
    "print(is_palindrome(\"Never Odd or Even\"))\n",
    "print(is_palindrome(\"abc\"))\n",
    "print(is_palindrome(\"kayak\"))"
   ]
  },
  {
   "cell_type": "code",
   "execution_count": 30,
   "metadata": {},
   "outputs": [
    {
     "name": "stdout",
     "output_type": "stream",
     "text": [
      "12 miles equals 19.2 km\n",
      "5.5 miles equals 8.8 km\n",
      "11 miles equals 17.6 km\n"
     ]
    }
   ],
   "source": [
    "\"\"\"Using the format method, fill in the gaps in the convert_distance \n",
    "function so that it returns the phrase \"X miles equals Y km\", with Y\n",
    " having only 1 decimal place. For example, convert_distance(12) \n",
    " should return \"12 miles equals 19.2 km\".\n",
    "\"\"\"\n",
    "\n",
    "def convert_distance(miles):\n",
    "    km = miles *1.6\n",
    "    result = \"{} miles equals {:.1f} km\".format(miles, km)\n",
    "    return result\n",
    "\n",
    "print(convert_distance(12))\n",
    "print(convert_distance(5.5))\n",
    "print(convert_distance(11))"
   ]
  },
  {
   "cell_type": "code",
   "execution_count": 36,
   "metadata": {},
   "outputs": [
    {
     "name": "stdout",
     "output_type": "stream",
     "text": [
      "Jane S.\n",
      "Francesco R.\n",
      "Jean-Luc G.\n"
     ]
    }
   ],
   "source": [
    "\"\"\"Fill in the gaps in the nametag function so that it uses the \n",
    "format method to return first_name and the first initial of \n",
    "last_name followed by a period. For example, nametag(\"Jane\", \n",
    "\"Smith\") should return \"Jane S.\"\n",
    "\"\"\"\n",
    "\n",
    "def nametag(first_name, last_name):\n",
    "    return \"{} {}.\".format(first_name, last_name[0])\n",
    "\n",
    "print(nametag(\"Jane\", \"Smith\"))\n",
    "print(nametag(\"Francesco\", \"Rinaldi\"))\n",
    "print(nametag(\"Jean-Luc\", \"Grand-Pierre\")) "
   ]
  },
  {
   "cell_type": "code",
   "execution_count": 37,
   "metadata": {},
   "outputs": [
    {
     "name": "stdout",
     "output_type": "stream",
     "text": [
      "It's raining cats and dogs\n",
      "She sells seashells by the seashore\n",
      "The weather is nice in May\n",
      "The weather is nice in April\n"
     ]
    }
   ],
   "source": [
    "\"\"\"The replace_ending function replaces the old string in a \n",
    "sentence with the new string, but only if the sentence ends with \n",
    "the old string. If there is more than one occurrence of the old \n",
    "string in the sentence, only the one at the end is replaced, n\n",
    "ot all of them. For example, replace_ending(\"abcabc\", \"abc\", \"xyz\") \n",
    "should return abcxyz, not xyzxyz or xyzabc. The string comparison \n",
    "is case-sensitive, so replace_ending(\"abcabc\", \"ABC\", \"xyz\") should \n",
    "return abcabc (no changes made). \n",
    "\"\"\"\n",
    "\n",
    "def replace_ending(sentence, old, new):\n",
    "    if sentence.endswith(old):\n",
    "        i = sentence.rfind(old)\n",
    "        new_sentence = sentence[:i]+new\n",
    "        return new_sentence\n",
    "    return sentence\n",
    "\n",
    "print(replace_ending(\"It's raining cats and cats\", \"cats\", \"dogs\")) \n",
    "print(replace_ending(\"She sells seashells by the seashore\", \"seashells\", \"donuts\")) \n",
    "print(replace_ending(\"The weather is nice in May\", \"may\", \"april\")) \n",
    "print(replace_ending(\"The weather is nice in May\", \"May\", \"April\")) "
   ]
  },
  {
   "cell_type": "markdown",
   "metadata": {},
   "source": [
    "# List"
   ]
  },
  {
   "cell_type": "code",
   "execution_count": 10,
   "metadata": {},
   "outputs": [
    {
     "name": "stdout",
     "output_type": "stream",
     "text": [
      "lesson\n",
      "\n",
      "Now\n",
      "\n"
     ]
    }
   ],
   "source": [
    "'''Using the \"split\" string method from the preceding lesson, \n",
    "complete the get_word function to return the {n}th word from \n",
    "a passed sentence. For example, get_word(\"This is a lesson about \n",
    "lists\", 4) should return \"lesson\", which is the 4th word in this \n",
    "sentence. Hint: remember that list indexes start at 0, not 1. '''\n",
    "\n",
    "def get_word(sentence, n):\n",
    "    sentence = sentence.split(\" \")\n",
    "    if n <= len(sentence) and n>0:\n",
    "        return(sentence[n-1])\n",
    "    else:\n",
    "        return \"\"\n",
    "\n",
    "print(get_word(\"This is a lesson about lists\", 4)) # Should print: lesson\n",
    "print(get_word(\"This is a lesson about lists\", -4)) # Nothing\n",
    "print(get_word(\"Now we are cooking!\", 1)) # Should print: Now\n",
    "print(get_word(\"Now we are cooking!\", 5)) # Nothing"
   ]
  },
  {
   "cell_type": "code",
   "execution_count": 13,
   "metadata": {},
   "outputs": [
    {
     "name": "stdout",
     "output_type": "stream",
     "text": [
      "17.46\n",
      "0.48\n",
      "1.21\n"
     ]
    }
   ],
   "source": [
    "'''Let's use tuples to store information about a file: its name, \n",
    "its type and its size in bytes. Fill in the gaps in this code to \n",
    "return the size in kilobytes (a kilobyte is 1024 bytes) up to 2 \n",
    "decimal places. '''\n",
    "\n",
    "def file_size(file_info):\n",
    "    name, type, size = file_info\n",
    "    return(\"{:.2f}\".format(size/1024))\n",
    "\n",
    "print(file_size(('Class Assignment', 'docx', 17875))) # Should print 17.46\n",
    "print(file_size(('Notes', 'txt', 496))) # Should print 0.48\n",
    "print(file_size(('Program', 'py', 1239))) # Should print 1.21"
   ]
  },
  {
   "cell_type": "code",
   "execution_count": 17,
   "metadata": {},
   "outputs": [
    {
     "name": "stdout",
     "output_type": "stream",
     "text": [
      "['a', 'c', 'e', 'g']\n",
      "['Orange', 'Strawberry', 'Peach']\n"
     ]
    }
   ],
   "source": [
    "'''Try out the enumerate function for yourself in this quick \n",
    "exercise. Complete the skip_elements function to return every \n",
    "other element from the list, this time using the enumerate \n",
    "function to check if an element is in an even position or an \n",
    "odd position.'''\n",
    "\n",
    "def skip_elements(elements):\n",
    "    element = [e for i, e in enumerate(elements) if i % 2 ==0]\n",
    "    return element\n",
    "\n",
    "print(skip_elements([\"a\", \"b\", \"c\", \"d\", \"e\", \"f\", \"g\"])) # Should be ['a', 'c', 'e', 'g']\n",
    "print(skip_elements(['Orange', 'Pineapple', 'Strawberry', 'Kiwi', 'Peach'])) # Should be ['Orange', 'Strawberry', 'Peach']"
   ]
  },
  {
   "cell_type": "code",
   "execution_count": 19,
   "metadata": {},
   "outputs": [
    {
     "name": "stdout",
     "output_type": "stream",
     "text": [
      "[1, 3, 5]\n",
      "[1, 3, 5, 7, 9]\n",
      "[1, 3, 5, 7, 9, 11]\n",
      "[1]\n",
      "[]\n"
     ]
    }
   ],
   "source": [
    "'''The odd_numbers function returns a list of odd numbers between \n",
    "1 and n, inclusively. Fill in the blanks in the function, using \n",
    "list comprehension. Hint: remember that list and range counters \n",
    "start at 0 and end at the limit minus 1.'''\n",
    "\n",
    "def odd_numbers(n):\n",
    "    return [x for x in range(0, n+1) if x % 2 != 0]\n",
    "\n",
    "print(odd_numbers(5))  # Should print [1, 3, 5]\n",
    "print(odd_numbers(10)) # Should print [1, 3, 5, 7, 9]\n",
    "print(odd_numbers(11)) # Should print [1, 3, 5, 7, 9, 11]\n",
    "print(odd_numbers(1))  # Should print [1]\n",
    "print(odd_numbers(-1)) # Should print []"
   ]
  },
  {
   "cell_type": "code",
   "execution_count": 22,
   "metadata": {},
   "outputs": [
    {
     "name": "stdout",
     "output_type": "stream",
     "text": [
      "['program.c', 'stdio.h', 'sample.h', 'a.out', 'math.h', 'hpp.out']\n"
     ]
    }
   ],
   "source": [
    "'''Given a list of filenames, we want to rename all the files with \n",
    "extension hpp to the extension h. To do this, we would like to \n",
    "generate a new list called newfilenames, consisting of the new \n",
    "filenames. Fill in the blanks in the code using any of the methods \n",
    "you’ve learned thus far, like a for loop or a list comprehension.\n",
    "'''\n",
    "\n",
    "filenames = [\"program.c\", \"stdio.hpp\", \"sample.hpp\", \"a.out\", \"math.hpp\", \"hpp.out\"]\n",
    "newfilenames = []\n",
    "for filename in filenames:\n",
    "    if filename.endswith(\".hpp\"):\n",
    "        filename = filename.replace(\".hpp\", \".h\")\n",
    "        newfilenames.append(filename)\n",
    "    else:\n",
    "        newfilenames.append(filename)\n",
    "\n",
    "print(newfilenames)\n",
    "# Should be [\"program.c\", \"stdio.h\", \"sample.h\", \"a.out\", \"math.h\", \"hpp.out\"]"
   ]
  },
  {
   "cell_type": "code",
   "execution_count": 24,
   "metadata": {},
   "outputs": [
    {
     "name": "stdout",
     "output_type": "stream",
     "text": [
      "ellohay owhay reaay ouyay\n",
      "rogrammingpay niay ythonpay siay unfay\n"
     ]
    }
   ],
   "source": [
    "'''Let's create a function that turns text into pig latin: \n",
    "a simple text transformation that modifies each word moving \n",
    "the first character to the end and appending \"ay\" to the end. \n",
    "For example, python ends up as ythonpay.\n",
    "'''\n",
    "\n",
    "def pig_latin(text):\n",
    "    words = text.split()\n",
    "    pigged_text = []\n",
    "\n",
    "    for word in words:\n",
    "        word = word[1:] + word[0] + \"ay\"\n",
    "        pigged_text.append(word)\n",
    "\n",
    "    return ' '.join(pigged_text)\n",
    "\n",
    "print(pig_latin(\"hello how are you\")) # Should be \"ellohay owhay reaay ouyay\"\n",
    "print(pig_latin(\"programming in python is fun\")) # Should be \"rogrammingpay niay ythonpay siay unfay\""
   ]
  },
  {
   "cell_type": "code",
   "execution_count": 26,
   "metadata": {},
   "outputs": [
    {
     "name": "stdout",
     "output_type": "stream",
     "text": [
      "rwxr-xr-x\n",
      "rw-r--r--\n",
      "rwxr-x---\n",
      "rw-------\n"
     ]
    }
   ],
   "source": [
    "'''The permissions of a file in a Linux system are split into \n",
    "three sets of three permissions: read, write, and execute for \n",
    "the owner, group, and others. Each of the three values can be \n",
    "expressed as an octal number summing each permission, with 4 \n",
    "corresponding to read, 2 to write, and 1 to execute. Or it can \n",
    "be written with a string using the letters r, w, and x or - \n",
    "when the permission is not granted.\n",
    "\n",
    "For example: \n",
    "640 is read/write for the owner, read for the group, and no \n",
    "permissions for the others; converted to a string, it would be: \n",
    "\"rw-r-----\" 755 is read/write/execute for the owner, and \n",
    "read/execute for group and others; converted to a string, it \n",
    "would be: \"rwxr-xr-x\" Fill in the blanks to make the code convert \n",
    "a permission in octal format into a string format.'''\n",
    "\n",
    "def octal_to_string(octal):\n",
    "    result = \"\"\n",
    "    value_letters = [(4, \"r\"), (2, \"w\"), (1, \"x\")]\n",
    "    for digit in [int(n) for n in str(octal)]:\n",
    "        for value, letter in value_letters:\n",
    "            if digit >= value:\n",
    "                result += letter\n",
    "                digit -= value\n",
    "            else:\n",
    "                result += \"-\"\n",
    "    return result \n",
    "\n",
    "print(octal_to_string(755)) # Should be rwxr-xr-x\n",
    "print(octal_to_string(644)) # Should be rw-r--r--\n",
    "print(octal_to_string(750)) # Should be rwxr-x---\n",
    "print(octal_to_string(600)) # Should be rw-------"
   ]
  },
  {
   "cell_type": "code",
   "execution_count": 27,
   "metadata": {},
   "outputs": [
    {
     "name": "stdout",
     "output_type": "stream",
     "text": [
      "Marketing: Mike, Karen, Jake, Tasha\n",
      "Engineering: Kim, Jay, Tom\n",
      "Users: \n"
     ]
    }
   ],
   "source": [
    "'''The group_list function accepts a group name and a list of \n",
    "members, and returns a string with the format: group_name: member1, \n",
    "member2, … For example, group_list(\"g\", [\"a\",\"b\",\"c\"]) \n",
    "returns \"g: a, b, c\". Fill in the gaps in this function to do \n",
    "that.\n",
    "'''\n",
    "\n",
    "def group_list(group, users):\n",
    "    members = \", \".join(users)\n",
    "    return f\"{group}: {members}\"\n",
    "\n",
    "print(group_list(\"Marketing\", [\"Mike\", \"Karen\", \"Jake\", \"Tasha\"])) # Should be \"Marketing: Mike, Karen, Jake, Tasha\"\n",
    "print(group_list(\"Engineering\", [\"Kim\", \"Jay\", \"Tom\"])) # Should be \"Engineering: Kim, Jay, Tom\"\n",
    "print(group_list(\"Users\", \"\")) # Should be \"Users:\""
   ]
  },
  {
   "cell_type": "markdown",
   "metadata": {},
   "source": []
  },
  {
   "cell_type": "code",
   "execution_count": 28,
   "metadata": {},
   "outputs": [
    {
     "name": "stdout",
     "output_type": "stream",
     "text": [
      "Ken is 30 years old and works as Chef\n",
      "Pat is 35 years old and works as Lawyer\n",
      "Amanda is 25 years old and works as Engineer\n"
     ]
    }
   ],
   "source": [
    "'''The guest_list function reads in a list of tuples with the name, \n",
    "age, and profession of each party guest, and prints the sentence \n",
    "\"Guest is X years old and works as __.\" for each one. For example, \n",
    "guest_list(('Ken', 30, \"Chef\"), (\"Pat\", 35, 'Lawyer'), \n",
    "('Amanda', 25, \"Engineer\")) should print out: Ken is 30 years \n",
    "old and works as Chef. Pat is 35 years old and works as Lawyer. \n",
    "Amanda is 25 years old and works as Engineer. Fill in the gaps in \n",
    "this function to do that. \n",
    "'''\n",
    "\n",
    "def guest_list(guests):\n",
    "    for x, y, z, in guests:\n",
    "        print(\"{} is {} years old and works as {}\".format(x,y,z))\n",
    "\n",
    "guest_list([('Ken', 30, \"Chef\"), (\"Pat\", 35, 'Lawyer'), ('Amanda', 25, \"Engineer\")])"
   ]
  },
  {
   "cell_type": "markdown",
   "metadata": {},
   "source": []
  },
  {
   "cell_type": "markdown",
   "metadata": {},
   "source": [
    "# Dictionaries"
   ]
  },
  {
   "cell_type": "code",
   "execution_count": 1,
   "metadata": {},
   "outputs": [
    {
     "name": "stdout",
     "output_type": "stream",
     "text": [
      "octopuses have tentacles\n",
      "dolphins have fins\n",
      "rhinos have horns\n"
     ]
    }
   ],
   "source": [
    "'''\n",
    "Complete the code to iterate through the keys and values of \n",
    "the cool_beasts dictionary. Remember that the items method returns \n",
    "a tuple of key, value for each element in the dictionary.\n",
    "'''\n",
    "\n",
    "cool_beasts = {\"octopuses\":\"tentacles\", \"dolphins\":\"fins\", \"rhinos\":\"horns\"}\n",
    "for beast, feature in cool_beasts.items():\n",
    "    print(\"{} have {}\".format(beast, feature))"
   ]
  },
  {
   "cell_type": "code",
   "execution_count": 2,
   "metadata": {},
   "outputs": [
    {
     "name": "stdout",
     "output_type": "stream",
     "text": [
      "['clark.kent@gmail.com', 'diana.prince@gmail.com', 'peter.parker@gmail.com']\n"
     ]
    }
   ],
   "source": [
    "'''\n",
    "The email_list function receives a dictionary, which contains \n",
    "domain names as keys, and a list of users as values. Fill in \n",
    "the blanks to generate a list that contains complete email \n",
    "addresses (e.g. diana.prince@gmail.com).\n",
    "'''\n",
    "\n",
    "def email_list(domains):\n",
    "    emails = []\n",
    "    for domain, users in domains.items():\n",
    "        for user in users:\n",
    "            emails.append(user+'@'+domain)\n",
    "        return(emails)\n",
    "\n",
    "print(email_list({\"gmail.com\": [\"clark.kent\", \"diana.prince\", \"peter.parker\"], \"yahoo.com\": [\"barbara.gordon\", \"jean.grey\"], \"hotmail.com\": [\"bruce.wayne\"]}))"
   ]
  },
  {
   "cell_type": "code",
   "execution_count": 4,
   "metadata": {},
   "outputs": [
    {
     "name": "stdout",
     "output_type": "stream",
     "text": [
      "{'admin': ['local', 'public', 'administrator'], 'userA': ['local'], 'userB': ['public']}\n"
     ]
    }
   ],
   "source": [
    "'''\n",
    "The groups_per_user function receives a dictionary, which \n",
    "contains group names with the list of users. Users can belong \n",
    "to multiple groups. Fill in the blanks to return a dictionary \n",
    "with the users as keys and a list of their groups as values. \n",
    "'''\n",
    "\n",
    "def groups_per_user(group_dictionary):\n",
    "    user_groups = {}\n",
    "    for group, users in group_dictionary.items():\n",
    "        for user in users:\n",
    "            user_groups[user] = user_groups.get(user,[]) + [group]\n",
    "\n",
    "    return(user_groups)\n",
    "\n",
    "print(groups_per_user({\"local\": [\"admin\", \"userA\"],\n",
    "\t\t\"public\":  [\"admin\", \"userB\"],\n",
    "\t\t\"administrator\": [\"admin\"] }))"
   ]
  },
  {
   "cell_type": "code",
   "execution_count": 6,
   "metadata": {},
   "outputs": [
    {
     "name": "stdout",
     "output_type": "stream",
     "text": [
      "{'shirt': ['red', 'blue', 'white'], 'jeans': ['white'], 'scarf': ['yellow'], 'socks': ['black', 'brown']}\n"
     ]
    }
   ],
   "source": [
    "'''\n",
    "The dict.update method updates one dictionary with the \n",
    "items coming from the other dictionary, so that existing \n",
    "entries are replaced and new entries are added. \n",
    "What is the content of the dictionary “wardrobe“ at the end \n",
    "of the following code?\n",
    "'''\n",
    "\n",
    "wardrobe = {'shirt': ['red', 'blue', 'white'], 'jeans': ['blue', 'black']}\n",
    "new_items = {'jeans': ['white'], 'scarf': ['yellow'], 'socks': ['black', 'brown']}\n",
    "wardrobe.update(new_items)\n",
    "print(wardrobe)"
   ]
  },
  {
   "cell_type": "code",
   "execution_count": 7,
   "metadata": {},
   "outputs": [
    {
     "name": "stdout",
     "output_type": "stream",
     "text": [
      "28.44\n"
     ]
    }
   ],
   "source": [
    "'''\n",
    "The add_prices function returns the total price of all of \n",
    "the groceries in the  dictionary. Fill in the blanks \n",
    "to complete this function.\n",
    "'''\n",
    "\n",
    "def add_prices(basket):\n",
    "    total = 0\n",
    "    for items in basket.values():\n",
    "        total += items\n",
    "    return round(total, 2) \n",
    "\n",
    "groceries = {\"bananas\": 1.56, \"apples\": 2.50, \"oranges\": 0.99, \"bread\": 4.59, \n",
    "\t\"coffee\": 6.99, \"milk\": 3.39, \"eggs\": 2.98, \"cheese\": 5.44}\n",
    "\n",
    "print(add_prices(groceries)) # Should print 28.44"
   ]
  },
  {
   "cell_type": "markdown",
   "metadata": {},
   "source": [
    "# Module Review"
   ]
  },
  {
   "cell_type": "code",
   "execution_count": 14,
   "metadata": {},
   "outputs": [
    {
     "name": "stdout",
     "output_type": "stream",
     "text": [
      "house number 123 on streen named Main Street\n",
      "house number 1001 on streen named 1st Ave\n",
      "house number 55 on streen named North Center Drive\n"
     ]
    }
   ],
   "source": [
    "'''The format_address function separates out parts of the \n",
    "address string into new strings: house_number and street_name, \n",
    "and returns: \"house number X on street named Y\". The format of \n",
    "the input string is: numeric house number, followed by the \n",
    "street name which may contain numbers, but never by themselves, \n",
    "and could be several words long. For example, \"123 Main Street\", \n",
    "\"1001 1st Ave\", or \"55 North Center Drive\". Fill in the gaps to \n",
    "complete this function.\n",
    "'''\n",
    "\n",
    "def format_address(address_string):\n",
    "    num, st = address_string.split(' ', 1)\n",
    "    return f\"house number {num} on streen named {st}\"\n",
    "\n",
    "print(format_address(\"123 Main Street\"))\n",
    "# Should print: \"house number 123 on street named Main Street\"\n",
    "\n",
    "print(format_address(\"1001 1st Ave\"))\n",
    "# Should print: \"house number 1001 on street named 1st Ave\"\n",
    "\n",
    "print(format_address(\"55 North Center Drive\"))\n",
    "# Should print \"house number 55 on street named North Center Drive\""
   ]
  },
  {
   "cell_type": "code",
   "execution_count": 31,
   "metadata": {},
   "outputs": [
    {
     "name": "stdout",
     "output_type": "stream",
     "text": [
      "house number 123 on street named Main Street\n",
      "house number 1001 on street named 1st Ave\n",
      "house number 55 on street named North Center Drive\n"
     ]
    }
   ],
   "source": [
    "def format_address(address_string):\n",
    "    house_number = 0\n",
    "    street_name = []\n",
    "    address = address_string.split()  \n",
    "    for item in address:\n",
    "        if item.isnumeric():\n",
    "            house_number = item\n",
    "        else:\n",
    "            street_name.append(item) \n",
    "    return \"house number {} on street named {}\".format(house_number, \" \".join(street_name))\n",
    "\n",
    "print(format_address(\"123 Main Street\"))\n",
    "# Should print: \"house number 123 on street named Main Street\"\n",
    "\n",
    "print(format_address(\"1001 1st Ave\"))\n",
    "# Should print: \"house number 1001 on street named 1st Ave\"\n",
    "\n",
    "print(format_address(\"55 North Center Drive\"))\n",
    "# Should print \"house number 55 on street named North Center Drive\""
   ]
  },
  {
   "cell_type": "code",
   "execution_count": 15,
   "metadata": {},
   "outputs": [
    {
     "name": "stdout",
     "output_type": "stream",
     "text": [
      "Have a NICE day\n",
      "Shhh, don't be so LOUD!\n",
      "Automating with Python is FUN\n"
     ]
    }
   ],
   "source": [
    "'''The highlight_word function changes the given word in a \n",
    "sentence to its upper-case version. For example, \n",
    "highlight_word(\"Have a nice day\", \"nice\") returns \n",
    "\"Have a NICE day\". Can you write this function in just one line?\n",
    "'''\n",
    "\n",
    "def highlight_word(sentence, word):\n",
    "    return(sentence.replace(word, word.upper()))\n",
    "\n",
    "print(highlight_word(\"Have a nice day\", \"nice\"))\n",
    "print(highlight_word(\"Shhh, don't be so loud!\", \"loud\"))\n",
    "print(highlight_word(\"Automating with Python is fun\", \"fun\"))"
   ]
  },
  {
   "cell_type": "code",
   "execution_count": 17,
   "metadata": {},
   "outputs": [
    {
     "name": "stdout",
     "output_type": "stream",
     "text": [
      "['Mike', 'Carol', 'Greg', 'Marcia', 'Peter', 'Jan', 'Bobby', 'Cindy', 'Alice']\n"
     ]
    }
   ],
   "source": [
    "'''A professor with two assistants, Jamie and Drew, wants an \n",
    "attendance list of the students, in the order that they arrived \n",
    "in the classroom. Drew was the first one to note which students \n",
    "arrived, and then Jamie took over. After the class, they each \n",
    "entered their lists into the computer and emailed them to the \n",
    "professor, who needs to combine them into one, in the order of \n",
    "each student's arrival. Jamie emailed a follow-up, saying that \n",
    "her list is in reverse order. Complete the steps to combine \n",
    "them into one list as follows: the contents of Drew's list, \n",
    "followed by Jamie's list in reverse order, to get an accurate \n",
    "list of the students as they arrived.\n",
    "'''\n",
    "\n",
    "def combine_lists(list1, list2):\n",
    "    list1.reverse()\n",
    "    list2.extend(list1)\n",
    "    return list2\n",
    "\n",
    "Jamies_list = [\"Alice\", \"Cindy\", \"Bobby\", \"Jan\", \"Peter\"]\n",
    "Drews_list = [\"Mike\", \"Carol\", \"Greg\", \"Marcia\"]\n",
    "\n",
    "print(combine_lists(Jamies_list, Drews_list))"
   ]
  },
  {
   "cell_type": "code",
   "execution_count": 18,
   "metadata": {},
   "outputs": [
    {
     "name": "stdout",
     "output_type": "stream",
     "text": [
      "[4, 9]\n",
      "[1, 4, 9, 16, 25]\n",
      "[0, 1, 4, 9, 16, 25, 36, 49, 64, 81, 100]\n"
     ]
    }
   ],
   "source": [
    "'''Use a list comprehension to create a list of squared numbers \n",
    "(n*n). The function receives the variables start and end, and \n",
    "returns a list of squares of consecutive numbers between start \n",
    "and end inclusively.\n",
    "'''\n",
    "\n",
    "def squares(start, end):\n",
    "    return [n*n for n in range(start, end + 1)]\n",
    "\n",
    "print(squares(2, 3)) # Should be [4, 9]\n",
    "print(squares(1, 5)) # Should be [1, 4, 9, 16, 25]\n",
    "print(squares(0, 10)) # Should be [0, 1, 4, 9, 16, 25, 36, 49, 64, 81, 100]"
   ]
  },
  {
   "cell_type": "code",
   "execution_count": 20,
   "metadata": {},
   "outputs": [
    {
     "name": "stdout",
     "output_type": "stream",
     "text": [
      "Kia Soul cost 19000 dollars\n",
      "Lamborghini Diablo cost 55000 dollars\n",
      "Ford Fiesta cost 13000 dollars\n",
      "Toyota Prius cost 24000 dollars\n",
      "\n"
     ]
    }
   ],
   "source": [
    "'''Complete the code to iterate through the keys and values \n",
    "of the car_prices dictionary, printing out some information \n",
    "about each one.\n",
    "'''\n",
    "\n",
    "def car_listing(car_prices):\n",
    "    result = \"\"\n",
    "    for name, price in car_prices.items():\n",
    "        result += \"{} cost {} dollars\".format(name, price)+\"\\n\"\n",
    "    return result\n",
    "\n",
    "print(car_listing({\"Kia Soul\":19000, \"Lamborghini Diablo\":55000, \"Ford Fiesta\":13000, \"Toyota Prius\":24000}))"
   ]
  },
  {
   "cell_type": "code",
   "execution_count": 22,
   "metadata": {},
   "outputs": [
    {
     "name": "stdout",
     "output_type": "stream",
     "text": [
      "Kia Soul cost 19000 dollars\n",
      "Lamborghini Diablo cost 55000 dollars\n",
      "Ford Fiesta cost 13000 dollars\n",
      "Toyota Prius cost 24000 dollars\n",
      "\n"
     ]
    }
   ],
   "source": [
    "def car_listing(car_prices):\n",
    "    result = \"\"\n",
    "    for name, price in car_prices.items():\n",
    "        result += f\"{name} cost {price} dollars\"+\"\\n\"\n",
    "    return result\n",
    "print(car_listing({\"Kia Soul\":19000, \"Lamborghini Diablo\":55000, \"Ford Fiesta\":13000, \"Toyota Prius\":24000}))"
   ]
  },
  {
   "cell_type": "code",
   "execution_count": 24,
   "metadata": {},
   "outputs": [
    {
     "name": "stdout",
     "output_type": "stream",
     "text": [
      "{'David': 1, 'Nancy': 1, 'Robert': 4, 'Adam': 2, 'Samantha': 3, 'Chris': 5, 'Brenda': 3, 'Jose': 3, 'Charlotte': 2, 'Terry': 1}\n"
     ]
    }
   ],
   "source": [
    "'''Taylor and Rory are hosting a party. They sent out invitations, \n",
    "and each one collected responses into dictionaries, with names \n",
    "of their friends and how many guests each friend is bringing. \n",
    "Each dictionary is a partial list, but Rory's list has more current \n",
    "information about the number of guests. Fill in the blanks to combine\n",
    "both dictionaries into one, with each friend listed only once, and \n",
    "the number of guests from Rory's dictionary taking precedence, if a \n",
    "name is included in both dictionaries. Then print the resulting \n",
    "dictionary.\n",
    "'''\n",
    "\n",
    "def combine_guests(guests1, guests2):\n",
    "    guests2.update(guests1)\n",
    "    return guests2\n",
    "\n",
    "Rorys_guests = { \"Adam\":2, \"Brenda\":3, \"David\":1, \"Jose\":3, \"Charlotte\":2, \"Terry\":1, \"Robert\":4}\n",
    "Taylors_guests = { \"David\":4, \"Nancy\":1, \"Robert\":2, \"Adam\":1, \"Samantha\":3, \"Chris\":5}\n",
    "\n",
    "print(combine_guests(Rorys_guests, Taylors_guests))"
   ]
  },
  {
   "cell_type": "code",
   "execution_count": 25,
   "metadata": {},
   "outputs": [
    {
     "name": "stdout",
     "output_type": "stream",
     "text": [
      "{'a': 2, 'b': 2, 'c': 2}\n",
      "{'m': 1, 'a': 1, 't': 1, 'h': 1, 'i': 1, 's': 1, 'f': 1, 'u': 1, 'n': 1}\n",
      "{'t': 2, 'h': 1, 'i': 2, 's': 3, 'a': 1, 'e': 3, 'n': 2, 'c': 1}\n"
     ]
    }
   ],
   "source": [
    "'''Use a dictionary to count the frequency of letters in the input \n",
    "string. Only letters should be counted, not blank spaces, numbers, \n",
    "or punctuation. Upper case should be considered the same as lower \n",
    "case. For example, count_letters(\"This is a sentence.\") should \n",
    "return {'t': 2, 'h': 1, 'i': 2, 's': 3, 'a': 1, 'e': 3, 'n': 2, \n",
    "'c': 1}.\n",
    "'''\n",
    "\n",
    "def count_letters(text):\n",
    "  result = {}\n",
    "  text = text.lower()\n",
    "  for letter in text:\n",
    "    if letter.isalpha() and letter not in result:\n",
    "        result[letter] = text.lower().count(letter)\n",
    "  return result\n",
    "\n",
    "print(count_letters(\"AaBbCc\"))\n",
    "# Should be {'a': 2, 'b': 2, 'c': 2}\n",
    "\n",
    "print(count_letters(\"Math is fun! 2+2=4\"))\n",
    "# Should be {'m': 1, 'a': 1, 't': 1, 'h': 1, 'i': 1, 's': 1, 'f': 1, 'u': 1, 'n': 1}\n",
    "\n",
    "print(count_letters(\"This is a sentence.\"))\n",
    "# Should be {'t': 2, 'h': 1, 'i': 2, 's': 3, 'a': 1, 'e': 3, 'n': 2, 'c': 1}"
   ]
  },
  {
   "cell_type": "code",
   "execution_count": 26,
   "metadata": {},
   "outputs": [
    {
     "name": "stdout",
     "output_type": "stream",
     "text": [
      "pop\n",
      "t\n",
      "us\n"
     ]
    }
   ],
   "source": [
    "animal = \"hippopotamus\"\n",
    "\n",
    "print(animal[3:6])\n",
    "print(animal[-5])\n",
    "print(animal[10:])"
   ]
  },
  {
   "cell_type": "code",
   "execution_count": 28,
   "metadata": {},
   "outputs": [
    {
     "name": "stdout",
     "output_type": "stream",
     "text": [
      "['red', 'white', 'yellow', 'blue']\n"
     ]
    }
   ],
   "source": [
    "colors = [\"red\", \"white\", \"blue\"]\n",
    "colors.insert(2, \"yellow\")\n",
    "print(colors)"
   ]
  },
  {
   "cell_type": "markdown",
   "metadata": {},
   "source": []
  },
  {
   "cell_type": "code",
   "execution_count": 30,
   "metadata": {},
   "outputs": [
    {
     "name": "stdout",
     "output_type": "stream",
     "text": [
      "dict_keys(['router', 'localhost', 'google'])\n"
     ]
    }
   ],
   "source": [
    "host_addresses = {\"router\": \"192.168.1.1\", \"localhost\": \"127.0.0.1\", \"google\": \"8.8.8.8\"}\n",
    "host_addresses.keys()\n",
    "print(host_addresses.keys())"
   ]
  },
  {
   "cell_type": "code",
   "execution_count": null,
   "metadata": {},
   "outputs": [],
   "source": []
  }
 ],
 "metadata": {
  "kernelspec": {
   "display_name": "Python 3.11.0 64-bit",
   "language": "python",
   "name": "python3"
  },
  "language_info": {
   "codemirror_mode": {
    "name": "ipython",
    "version": 3
   },
   "file_extension": ".py",
   "mimetype": "text/x-python",
   "name": "python",
   "nbconvert_exporter": "python",
   "pygments_lexer": "ipython3",
   "version": "3.11.0"
  },
  "orig_nbformat": 4,
  "vscode": {
   "interpreter": {
    "hash": "aee8b7b246df8f9039afb4144a1f6fd8d2ca17a180786b69acc140d282b71a49"
   }
  }
 },
 "nbformat": 4,
 "nbformat_minor": 2
}
